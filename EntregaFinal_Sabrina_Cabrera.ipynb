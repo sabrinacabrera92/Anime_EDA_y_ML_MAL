{
  "cells": [
    {
      "cell_type": "markdown",
      "source": [
        "# Exploración de Anime & Sugerencias de títulos\n"
      ],
      "metadata": {
        "id": "vgGFsTpvxvoo"
      }
    },
    {
      "cell_type": "markdown",
      "metadata": {
        "id": "MsPuVa9wFDjw"
      },
      "source": [
        "⚡ [Github](https://github.com/sabrinacabrera922/MAL_Anime_EDA_y_ML)"
      ]
    },
    {
      "cell_type": "markdown",
      "source": [
        "# Indice\n",
        "\n",
        "- [1. Abstracto](#Abstracto-1)\n",
        "- [2. Introducción](#2.Introducción)\n",
        "  - [Subsección 1.1](#subsección-1.1)\n"
      ],
      "metadata": {
        "id": "gJFlHcIy0WjG"
      }
    },
    {
      "cell_type": "markdown",
      "source": [
        "#1. Abstracto"
      ],
      "metadata": {
        "id": "i2alGDchrMDz"
      }
    },
    {
      "cell_type": "markdown",
      "source": [
        "**Motivación**\n",
        "\n",
        "Mediante el análisis de los datos recogidos en MyAnimeList, busco comprender las tendencias, preferencias y comportamientos de los usuarios del anime. Este análisis no sólo permitirá descubrir qué series son más populares entre los aficionados, sino también identificar patrones demográficos y temporales (entre otros) que podrían ayudar en recomendaciones para personas en búsqueda de nuevos títulos.\n",
        "\n",
        "El **objetivo principal** es generar un algoritmo de recomendación de anime, en base a los datos obtenidos de MyAnimeList.\n",
        "\n",
        "\n",
        "Otros **objetivos secundarios** son realizar un análisis acerca del  fenómeno del anime, explorar datos a través de los años, los títulos más populares, demográfica, etc.\n",
        "\n",
        "\n",
        "**Audiencia**\n",
        "\n",
        "Los fans del anime, que podrán descubrir títulos que podrían desconocer y obtener una comprensión más profunda de cómo sus propias preferencias se alinean o difieren de las tendencias generales.\n",
        "\n",
        "\n",
        "**Preguntas/hipótesis**\n",
        "\n",
        "* ¿Incide la demográfica en la elección de los animes?\n",
        "\n",
        "* ¿Suele un género realmente mirar el anime demográficamente denominado como tal?\n",
        "\n",
        "* ¿Pasa similar a ésto con la demográfica de edades?"
      ],
      "metadata": {
        "id": "Beq2YSpuqVci"
      }
    },
    {
      "cell_type": "markdown",
      "source": [
        "#2. Introducción\n"
      ],
      "metadata": {
        "id": "2IOWR7hNrGGU"
      }
    },
    {
      "cell_type": "markdown",
      "source": [
        "El anime es un estilo de animación que se originó en Japón y se ha convertido en un fenómeno global, aprisionando al público de todo el mundo con un estilo artístico único, diversos géneros y narraciones complejas. El término \"anime\" en sí es una forma abreviada de la palabra inglesa \"animation\" y en Japón abarca todas las formas de medios animados. Fuera de Japón, sin embargo, ha llegado a representar un estilo distinto de animación que a menudo se caracteriza por obras de arte coloridas, temas fantásticos y personajes vibrantes.\n",
        "\n",
        "![anime_1](https://drive.google.com/uc?export=view&id=1U36BwfjRApAkkxvKs0l6-rvZJxuA0H2d)\n",
        "\n",
        "**Origen**\n",
        "\n",
        "La historia del anime se remonta a principios del siglo XX, pero comenzó a ganar fuerza significativa en Japón en la década de 1960 con las obras de Osamu Tezuka y el estudio de animación Toei Animation. A \"Astro Boy\" (1963) de Tezuka a menudo se le atribuye el mérito de ser la primera serie de televisión de anime popular.\n",
        "\n",
        "![anime_2](https://drive.google.com/uc?export=view&id=1AOhYC0K5evkOTEI8RFuSWYYMTfR8E_JZ)\n",
        "\n",
        "**Evolución**\n",
        "\n",
        "A lo largo de las décadas, la industria del anime ha evolucionado y expandido exponencialmente. La década de 1980 vio un auge en la producción de anime, con series clásicas como \"Mobile Suit Gundam\" y \"Dragon Ball\" ganando popularidad. La década de 1990 y principios de la de 2000 marcaron un período significativo de expansión internacional, con títulos como \"Sailor Moon\", \"Pokémon\", \"Naruto\" y \"Dragon Ball Z\" que se convirtieron en nombres muy conocidos en todo el mundo.\n",
        "\n",
        "La industria también se ha diversificado, atendiendo a una amplia gama de audiencias con géneros que van desde acción, aventura, romance y ciencia ficción, hasta géneros más especializados como mecha, Recuentos de la vida e isekai. La calidad de la producción ha mejorado significativamente con los avances en la tecnología de animación y la narración se ha vuelto más sofisticada, abordando a menudo temas complejos y maduros.\n",
        "\n",
        "**Atractivo mundial**\n",
        "\n",
        "El anime ha captado la atención del público mundial por varias razones. Su estilo artístico único, su amplia gama de géneros y temas y su voluntad de explorar temas complejos y maduros lo distinguen de muchos estilos de animación occidentales. Además, la comunidad del anime está muy comprometida, lo que crea un sentido de pertenencia e interés compartido. Las convenciones de fans, los productos y el contenido subtitulado por fans han desempeñado un papel importante en el fomento de esta comunidad.\n",
        "\n",
        "![anime_3](https://drive.google.com/uc?export=view&id=1ahmpGkNmfvFsYHYHRa-4Bq0163-NWFly)\n",
        "\n",
        "MyAnimeList es una plataforma en la comunidad de fans del anime, que sirve como una base de datos completa para series de anime y manga. Permite que los usuarios puedan realizar seguimientos de las series que han visto o leído, calificarlas y escribir reseñas. También proporciona foros y recomendaciones, que sirven como un centro para que los fanáticos del anime se conecten, discutan sus series favoritas y descubran contenido nuevo."
      ],
      "metadata": {
        "id": "j_lusau5jeg2"
      }
    },
    {
      "cell_type": "markdown",
      "source": [
        "# 3. Descripción del Dataset"
      ],
      "metadata": {
        "id": "gmUXalGhjhd4"
      }
    },
    {
      "cell_type": "markdown",
      "source": [
        "\n",
        "\n",
        "\n",
        "La información extraída en este dataset permite visualizar diferente información de interés para aficionados, así como realizar distintas métricas y análisis, dada la variedad de variables que contiene. Específicamente me enfocaré en el dataset denominado Anime.csv. Realizaré distintas tareas de limpieza y orden de los datos, así como visualizaciones, para poder crear un reporte analítico que responda a las preguntas que irán surgiendo en el proceso analítico.\n",
        "\n",
        "El raspado se realizó el 17 de julio de 2022.\n",
        "\n",
        "**Contenido del dataset**\n",
        "\n",
        "El conjunto de datos contiene 3 archivos:\n",
        "\n",
        "  AnimeList.csv: contiene información sobre animes con título, sinónimos de título, género, estudio, licencia, productor, duración, clasificación, puntuación, fecha de emisión, episodios, fuente y muchos otros datos con información acerca de las tendencias en el tiempo sobre aspectos del anime.\n",
        "\n",
        "  UserList.csv: contiene información sobre los usuarios que miran anime, a saber, nombre de usuario, fecha de registro (join_date), última fecha en línea, fecha de nacimiento, género, ubicación y muchos valores agregados de sus listas de anime.\n",
        "\n",
        "  UserAnimeList.csv: contiene listas de anime de todos los usuarios. Por cada registro, contiene el nombre de usuario, la identificación del anime, la puntuación, el estado y la marca de tiempo cuando se actualizó este registro por última vez.\n",
        "\n",
        "El conjunto de datos en su conjunto contiene:\n",
        "\n",
        "*  302675 usuarios únicos\n",
        "\n",
        "*  302573 de ellos con algunos datos demográficos\n",
        "\n",
        "*  80076112 registros en listas de anime\n",
        "\n",
        "*  46358322 de ellos tienen calificaciones\n",
        "\n",
        "*  14478 anime único\n",
        "\n",
        "Link a la API utilizada: https://docs.api.jikan.moe/\n",
        "\n",
        "Licencia: Matěj Račinský, “MyAnimeList Dataset.” Kaggle, 2018, doi: 10.34740/KAGGLE/DSV/45582."
      ],
      "metadata": {
        "id": "tB82raayiC1q"
      }
    },
    {
      "cell_type": "markdown",
      "metadata": {
        "id": "b-kxH6CzKfly"
      },
      "source": [
        "# 4. Importación de librerias"
      ]
    },
    {
      "cell_type": "code",
      "execution_count": null,
      "metadata": {
        "colab": {
          "base_uri": "https://localhost:8080/"
        },
        "id": "K-CQiNoeTdSU",
        "outputId": "1af30e80-ccde-4dfb-9b67-596ed5ba12a8"
      },
      "outputs": [
        {
          "output_type": "stream",
          "name": "stdout",
          "text": [
            "Collecting git+https://github.com/abhinavk99/jikanpy.git\n",
            "  Cloning https://github.com/abhinavk99/jikanpy.git to /tmp/pip-req-build-o4yu6g0b\n",
            "  Running command git clone --filter=blob:none --quiet https://github.com/abhinavk99/jikanpy.git /tmp/pip-req-build-o4yu6g0b\n",
            "  Resolved https://github.com/abhinavk99/jikanpy.git to commit dfd2badd2f074fe6f1f9e94fee95bd90c2a45e63\n",
            "  Preparing metadata (setup.py) ... \u001b[?25l\u001b[?25hdone\n",
            "Requirement already satisfied: requests in /usr/local/lib/python3.10/dist-packages (from jikanpy-v4==1.0.2) (2.31.0)\n",
            "Requirement already satisfied: aiohttp in /usr/local/lib/python3.10/dist-packages (from jikanpy-v4==1.0.2) (3.9.1)\n",
            "Collecting simplejson (from jikanpy-v4==1.0.2)\n",
            "  Downloading simplejson-3.19.2-cp310-cp310-manylinux_2_5_x86_64.manylinux1_x86_64.manylinux_2_17_x86_64.manylinux2014_x86_64.whl (137 kB)\n",
            "\u001b[2K     \u001b[90m━━━━━━━━━━━━━━━━━━━━━━━━━━━━━━━━━━━━━━━━\u001b[0m \u001b[32m137.9/137.9 kB\u001b[0m \u001b[31m2.9 MB/s\u001b[0m eta \u001b[36m0:00:00\u001b[0m\n",
            "\u001b[?25hRequirement already satisfied: attrs>=17.3.0 in /usr/local/lib/python3.10/dist-packages (from aiohttp->jikanpy-v4==1.0.2) (23.2.0)\n",
            "Requirement already satisfied: multidict<7.0,>=4.5 in /usr/local/lib/python3.10/dist-packages (from aiohttp->jikanpy-v4==1.0.2) (6.0.4)\n",
            "Requirement already satisfied: yarl<2.0,>=1.0 in /usr/local/lib/python3.10/dist-packages (from aiohttp->jikanpy-v4==1.0.2) (1.9.4)\n",
            "Requirement already satisfied: frozenlist>=1.1.1 in /usr/local/lib/python3.10/dist-packages (from aiohttp->jikanpy-v4==1.0.2) (1.4.1)\n",
            "Requirement already satisfied: aiosignal>=1.1.2 in /usr/local/lib/python3.10/dist-packages (from aiohttp->jikanpy-v4==1.0.2) (1.3.1)\n",
            "Requirement already satisfied: async-timeout<5.0,>=4.0 in /usr/local/lib/python3.10/dist-packages (from aiohttp->jikanpy-v4==1.0.2) (4.0.3)\n",
            "Requirement already satisfied: charset-normalizer<4,>=2 in /usr/local/lib/python3.10/dist-packages (from requests->jikanpy-v4==1.0.2) (3.3.2)\n",
            "Requirement already satisfied: idna<4,>=2.5 in /usr/local/lib/python3.10/dist-packages (from requests->jikanpy-v4==1.0.2) (3.6)\n",
            "Requirement already satisfied: urllib3<3,>=1.21.1 in /usr/local/lib/python3.10/dist-packages (from requests->jikanpy-v4==1.0.2) (2.0.7)\n",
            "Requirement already satisfied: certifi>=2017.4.17 in /usr/local/lib/python3.10/dist-packages (from requests->jikanpy-v4==1.0.2) (2023.11.17)\n",
            "Building wheels for collected packages: jikanpy-v4\n",
            "  Building wheel for jikanpy-v4 (setup.py) ... \u001b[?25l\u001b[?25hdone\n",
            "  Created wheel for jikanpy-v4: filename=jikanpy_v4-1.0.2-py3-none-any.whl size=15138 sha256=83ad8fe888cddbaf3a18e32db934f993d7b5bfeaa9f0dcc7b8ddb739ae533a07\n",
            "  Stored in directory: /tmp/pip-ephem-wheel-cache-57k2f43v/wheels/3d/7a/b0/bb7319bfa4d98488bc79bff803517c421c0d5aedd1e860b1a9\n",
            "Successfully built jikanpy-v4\n",
            "Installing collected packages: simplejson, jikanpy-v4\n",
            "Successfully installed jikanpy-v4-1.0.2 simplejson-3.19.2\n",
            "Requirement already satisfied: wordcloud in /usr/local/lib/python3.10/dist-packages (1.9.3)\n",
            "Requirement already satisfied: matplotlib in /usr/local/lib/python3.10/dist-packages (3.7.1)\n",
            "Requirement already satisfied: requests in /usr/local/lib/python3.10/dist-packages (2.31.0)\n",
            "Requirement already satisfied: numpy>=1.6.1 in /usr/local/lib/python3.10/dist-packages (from wordcloud) (1.23.5)\n",
            "Requirement already satisfied: pillow in /usr/local/lib/python3.10/dist-packages (from wordcloud) (9.4.0)\n",
            "Requirement already satisfied: contourpy>=1.0.1 in /usr/local/lib/python3.10/dist-packages (from matplotlib) (1.2.0)\n",
            "Requirement already satisfied: cycler>=0.10 in /usr/local/lib/python3.10/dist-packages (from matplotlib) (0.12.1)\n",
            "Requirement already satisfied: fonttools>=4.22.0 in /usr/local/lib/python3.10/dist-packages (from matplotlib) (4.47.2)\n",
            "Requirement already satisfied: kiwisolver>=1.0.1 in /usr/local/lib/python3.10/dist-packages (from matplotlib) (1.4.5)\n",
            "Requirement already satisfied: packaging>=20.0 in /usr/local/lib/python3.10/dist-packages (from matplotlib) (23.2)\n",
            "Requirement already satisfied: pyparsing>=2.3.1 in /usr/local/lib/python3.10/dist-packages (from matplotlib) (3.1.1)\n",
            "Requirement already satisfied: python-dateutil>=2.7 in /usr/local/lib/python3.10/dist-packages (from matplotlib) (2.8.2)\n",
            "Requirement already satisfied: charset-normalizer<4,>=2 in /usr/local/lib/python3.10/dist-packages (from requests) (3.3.2)\n",
            "Requirement already satisfied: idna<4,>=2.5 in /usr/local/lib/python3.10/dist-packages (from requests) (3.6)\n",
            "Requirement already satisfied: urllib3<3,>=1.21.1 in /usr/local/lib/python3.10/dist-packages (from requests) (2.0.7)\n",
            "Requirement already satisfied: certifi>=2017.4.17 in /usr/local/lib/python3.10/dist-packages (from requests) (2023.11.17)\n",
            "Requirement already satisfied: six>=1.5 in /usr/local/lib/python3.10/dist-packages (from python-dateutil>=2.7->matplotlib) (1.16.0)\n",
            "Requirement already satisfied: aiohttp in /usr/local/lib/python3.10/dist-packages (3.9.1)\n",
            "Requirement already satisfied: attrs>=17.3.0 in /usr/local/lib/python3.10/dist-packages (from aiohttp) (23.2.0)\n",
            "Requirement already satisfied: multidict<7.0,>=4.5 in /usr/local/lib/python3.10/dist-packages (from aiohttp) (6.0.4)\n",
            "Requirement already satisfied: yarl<2.0,>=1.0 in /usr/local/lib/python3.10/dist-packages (from aiohttp) (1.9.4)\n",
            "Requirement already satisfied: frozenlist>=1.1.1 in /usr/local/lib/python3.10/dist-packages (from aiohttp) (1.4.1)\n",
            "Requirement already satisfied: aiosignal>=1.1.2 in /usr/local/lib/python3.10/dist-packages (from aiohttp) (1.3.1)\n",
            "Requirement already satisfied: async-timeout<5.0,>=4.0 in /usr/local/lib/python3.10/dist-packages (from aiohttp) (4.0.3)\n",
            "Requirement already satisfied: idna>=2.0 in /usr/local/lib/python3.10/dist-packages (from yarl<2.0,>=1.0->aiohttp) (3.6)\n",
            "Requirement already satisfied: matplotlib in /usr/local/lib/python3.10/dist-packages (3.7.1)\n",
            "Requirement already satisfied: seaborn in /usr/local/lib/python3.10/dist-packages (0.13.1)\n",
            "Requirement already satisfied: contourpy>=1.0.1 in /usr/local/lib/python3.10/dist-packages (from matplotlib) (1.2.0)\n",
            "Requirement already satisfied: cycler>=0.10 in /usr/local/lib/python3.10/dist-packages (from matplotlib) (0.12.1)\n",
            "Requirement already satisfied: fonttools>=4.22.0 in /usr/local/lib/python3.10/dist-packages (from matplotlib) (4.47.2)\n",
            "Requirement already satisfied: kiwisolver>=1.0.1 in /usr/local/lib/python3.10/dist-packages (from matplotlib) (1.4.5)\n",
            "Requirement already satisfied: numpy>=1.20 in /usr/local/lib/python3.10/dist-packages (from matplotlib) (1.23.5)\n",
            "Requirement already satisfied: packaging>=20.0 in /usr/local/lib/python3.10/dist-packages (from matplotlib) (23.2)\n",
            "Requirement already satisfied: pillow>=6.2.0 in /usr/local/lib/python3.10/dist-packages (from matplotlib) (9.4.0)\n",
            "Requirement already satisfied: pyparsing>=2.3.1 in /usr/local/lib/python3.10/dist-packages (from matplotlib) (3.1.1)\n",
            "Requirement already satisfied: python-dateutil>=2.7 in /usr/local/lib/python3.10/dist-packages (from matplotlib) (2.8.2)\n",
            "Requirement already satisfied: pandas>=1.2 in /usr/local/lib/python3.10/dist-packages (from seaborn) (1.5.3)\n",
            "Requirement already satisfied: pytz>=2020.1 in /usr/local/lib/python3.10/dist-packages (from pandas>=1.2->seaborn) (2023.3.post1)\n",
            "Requirement already satisfied: six>=1.5 in /usr/local/lib/python3.10/dist-packages (from python-dateutil>=2.7->matplotlib) (1.16.0)\n",
            "Collecting sklearn2pmml\n",
            "  Downloading sklearn2pmml-0.101.0.tar.gz (7.0 MB)\n",
            "\u001b[2K     \u001b[90m━━━━━━━━━━━━━━━━━━━━━━━━━━━━━━━━━━━━━━━━\u001b[0m \u001b[32m7.0/7.0 MB\u001b[0m \u001b[31m40.5 MB/s\u001b[0m eta \u001b[36m0:00:00\u001b[0m\n",
            "\u001b[?25h  Preparing metadata (setup.py) ... \u001b[?25l\u001b[?25hdone\n",
            "Collecting dill>=0.3.4 (from sklearn2pmml)\n",
            "  Downloading dill-0.3.7-py3-none-any.whl (115 kB)\n",
            "\u001b[2K     \u001b[90m━━━━━━━━━━━━━━━━━━━━━━━━━━━━━━━━━━━━━━━━\u001b[0m \u001b[32m115.3/115.3 kB\u001b[0m \u001b[31m13.7 MB/s\u001b[0m eta \u001b[36m0:00:00\u001b[0m\n",
            "\u001b[?25hRequirement already satisfied: joblib>=0.13.0 in /usr/local/lib/python3.10/dist-packages (from sklearn2pmml) (1.3.2)\n",
            "Requirement already satisfied: scikit-learn>=0.18.0 in /usr/local/lib/python3.10/dist-packages (from sklearn2pmml) (1.2.2)\n",
            "Requirement already satisfied: sklearn-pandas>=0.0.10 in /usr/local/lib/python3.10/dist-packages (from sklearn2pmml) (2.2.0)\n",
            "Requirement already satisfied: numpy>=1.17.3 in /usr/local/lib/python3.10/dist-packages (from scikit-learn>=0.18.0->sklearn2pmml) (1.23.5)\n",
            "Requirement already satisfied: scipy>=1.3.2 in /usr/local/lib/python3.10/dist-packages (from scikit-learn>=0.18.0->sklearn2pmml) (1.11.4)\n",
            "Requirement already satisfied: threadpoolctl>=2.0.0 in /usr/local/lib/python3.10/dist-packages (from scikit-learn>=0.18.0->sklearn2pmml) (3.2.0)\n",
            "Requirement already satisfied: pandas>=1.1.4 in /usr/local/lib/python3.10/dist-packages (from sklearn-pandas>=0.0.10->sklearn2pmml) (1.5.3)\n",
            "Requirement already satisfied: python-dateutil>=2.8.1 in /usr/local/lib/python3.10/dist-packages (from pandas>=1.1.4->sklearn-pandas>=0.0.10->sklearn2pmml) (2.8.2)\n",
            "Requirement already satisfied: pytz>=2020.1 in /usr/local/lib/python3.10/dist-packages (from pandas>=1.1.4->sklearn-pandas>=0.0.10->sklearn2pmml) (2023.3.post1)\n",
            "Requirement already satisfied: six>=1.5 in /usr/local/lib/python3.10/dist-packages (from python-dateutil>=2.8.1->pandas>=1.1.4->sklearn-pandas>=0.0.10->sklearn2pmml) (1.16.0)\n",
            "Building wheels for collected packages: sklearn2pmml\n",
            "  Building wheel for sklearn2pmml (setup.py) ... \u001b[?25l\u001b[?25hdone\n",
            "  Created wheel for sklearn2pmml: filename=sklearn2pmml-0.101.0-py3-none-any.whl size=7053107 sha256=3103f49a0806a3c41046c7a2c1f1a57d97f448e3b4b3743a72a60f325f3403e5\n",
            "  Stored in directory: /root/.cache/pip/wheels/00/75/8e/b9974d00e6530c25c4abe75577ecf5372bc3ba04656ec59d06\n",
            "Successfully built sklearn2pmml\n",
            "Installing collected packages: dill, sklearn2pmml\n",
            "Successfully installed dill-0.3.7 sklearn2pmml-0.101.0\n"
          ]
        }
      ],
      "source": [
        "# Instalación de JikanPy -- es un contenedor de Python para Jikan, que proporciona enlaces para todas las funciones de API y es compatible con Python 3.6+\n",
        "!pip install git+https://github.com/abhinavk99/jikanpy.git\n",
        "!pip install wordcloud matplotlib requests\n",
        "!pip install aiohttp\n",
        "!pip install matplotlib seaborn\n",
        "!pip install sklearn2pmml\n",
        "#!pip install pandas-profiling==3.6.2"
      ]
    },
    {
      "cell_type": "code",
      "execution_count": null,
      "metadata": {
        "id": "FB39k_t1uSCl"
      },
      "outputs": [],
      "source": [
        "# Standard library imports\n",
        "import datetime\n",
        "import json\n",
        "import os\n",
        "import re\n",
        "import time\n",
        "\n",
        "# HTTP y web scraping\n",
        "import requests\n",
        "from bs4 import BeautifulSoup\n",
        "\n",
        "# Manipulacion de datos y analisis\n",
        "import numpy as np\n",
        "import pandas as pd\n",
        "from scipy.stats import ttest_ind\n",
        "\n",
        "# Machine Learning y Preprocesamiento\n",
        "from sklearn.decomposition import IncrementalPCA, PCA\n",
        "from sklearn.discriminant_analysis import LinearDiscriminantAnalysis\n",
        "from sklearn.ensemble import RandomForestClassifier, RandomForestRegressor\n",
        "from sklearn.linear_model import LinearRegression, LogisticRegression, LogisticRegressionCV, Ridge\n",
        "from sklearn.metrics import (accuracy_score, classification_report, confusion_matrix, f1_score, log_loss,\n",
        "                             mean_squared_error, precision_score, r2_score, recall_score, roc_auc_score)\n",
        "from sklearn.model_selection import (GridSearchCV, KFold, StratifiedKFold, cross_val_predict, cross_val_score,\n",
        "                                     learning_curve, train_test_split)\n",
        "from sklearn.naive_bayes import BernoulliNB, ComplementNB, GaussianNB, MultinomialNB\n",
        "from sklearn.neighbors import KNeighborsClassifier, KNeighborsRegressor\n",
        "from sklearn.neural_network import MLPClassifier, MLPRegressor\n",
        "from sklearn.preprocessing import LabelEncoder, OneHotEncoder, PolynomialFeatures, StandardScaler\n",
        "from sklearn.svm import SVC, SVR\n",
        "from sklearn.tree import DecisionTreeClassifier, DecisionTreeRegressor\n",
        "from sklearn2pmml import PMMLPipeline, sklearn2pmml\n",
        "from sklearn2pmml.decoration import CategoricalDomain, ContinuousDomain\n",
        "from sklearn_pandas import DataFrameMapper\n",
        "from sklearn.impute import SimpleImputer\n",
        "from sklearn.feature_selection import SelectFromModel\n",
        "\n",
        "# librerias de visualizacion\n",
        "import matplotlib.cm as cm\n",
        "import matplotlib.colors as mcolors\n",
        "import matplotlib.pyplot as plt\n",
        "import plotly.express as px\n",
        "import plotly.graph_objects as go\n",
        "import seaborn as sns\n",
        "from IPython.display import display, HTML\n",
        "from wordcloud import WordCloud\n",
        "\n",
        "# Network y Graph Analysis\n",
        "import networkx as nx\n",
        "\n",
        "# otros\n",
        "from google.colab import files\n",
        "\n",
        "#from pandas_profiling import ProfileReport"
      ]
    },
    {
      "cell_type": "markdown",
      "metadata": {
        "id": "xv5IYEyhLodu"
      },
      "source": [
        "# 5. Importación de datos"
      ]
    },
    {
      "cell_type": "code",
      "execution_count": null,
      "metadata": {
        "id": "X0KmqAFqF5qj",
        "colab": {
          "base_uri": "https://localhost:8080/"
        },
        "outputId": "5635278a-7266-4581-f66d-ba3a33651b2a"
      },
      "outputs": [
        {
          "output_type": "stream",
          "name": "stdout",
          "text": [
            "Drive already mounted at /content/drive; to attempt to forcibly remount, call drive.mount(\"/content/drive\", force_remount=True).\n"
          ]
        }
      ],
      "source": [
        "from google.colab import drive\n",
        "drive.mount('/content/drive')"
      ]
    },
    {
      "cell_type": "markdown",
      "metadata": {
        "id": "bTk5b5a5KU4A"
      },
      "source": [
        "**Importación de datos desde bases de datos**"
      ]
    },
    {
      "cell_type": "code",
      "execution_count": null,
      "metadata": {
        "id": "xyPhISaJrIuX"
      },
      "outputs": [],
      "source": [
        "anime_cleaned_df = pd.read_csv('/content/drive/MyDrive/my_anime_list_23/anime_cleaned.csv')"
      ]
    },
    {
      "cell_type": "code",
      "execution_count": null,
      "metadata": {
        "id": "tTwLbi--Gheq",
        "colab": {
          "base_uri": "https://localhost:8080/"
        },
        "outputId": "ab81044e-b196-433e-9b76-df351011e02e"
      },
      "outputs": [
        {
          "output_type": "stream",
          "name": "stderr",
          "text": [
            "<ipython-input-8-5b77a3b6ee31>:1: DtypeWarning: Columns (11) have mixed types. Specify dtype option on import or set low_memory=False.\n",
            "  user_df = pd.read_csv('/content/drive/MyDrive/my_anime_list_23/users.csv')\n"
          ]
        }
      ],
      "source": [
        "user_df = pd.read_csv('/content/drive/MyDrive/my_anime_list_23/users.csv')"
      ]
    },
    {
      "cell_type": "code",
      "execution_count": null,
      "metadata": {
        "id": "akIStfiGzdLm"
      },
      "outputs": [],
      "source": [
        "# Randomizo y corto UserAnimeList por su tamaño excesivo (+4gb)\n",
        "\n",
        "#file_name = '/content/drive/MyDrive/my_anime_list_23/UserAnimeList.csv'\n",
        "#num_rows = 1000000  # Número total estimado de filas en el archivo\n",
        "#chunk_size = 1000000  # Tamaño de cada trozo\n",
        "\n",
        "#for i, start in enumerate(range(0, num_rows, chunk_size)):\n",
        "#    df_chunk = pd.read_csv(file_name, skiprows=start, nrows=chunk_size, header=None)\n",
        "#    # Si es la primera iteración, incluye el encabezado\n",
        "#    header = True if start == 0 else False\n",
        "#    df_chunk.to_csv(f'/content/drive/MyDrive/my_anime_list_23/UserAnimeList_muestra.csv', index=False, header=header)"
      ]
    },
    {
      "cell_type": "code",
      "execution_count": null,
      "metadata": {
        "id": "IlOzztnN-_mP"
      },
      "outputs": [],
      "source": [
        "userAnimeList_df = pd.read_csv('/content/drive/MyDrive/my_anime_list_23/UserAnimeList_muestra.csv')"
      ]
    },
    {
      "cell_type": "markdown",
      "metadata": {
        "id": "vPGf6kIWXD1R"
      },
      "source": [
        "**Importación de datos desde la API [Jikan](https://docs.api.jikan.moe/)**"
      ]
    },
    {
      "cell_type": "markdown",
      "metadata": {
        "id": "P1_iqr_TmTkX"
      },
      "source": [
        "Creo una función para importar los datos desde la API y evitar la redundancia  de código con llamadas a la API:"
      ]
    },
    {
      "cell_type": "code",
      "execution_count": null,
      "metadata": {
        "id": "X8ZpsGXFmR61"
      },
      "outputs": [],
      "source": [
        "def importar_datos_desde_jikan(anime_id):\n",
        "    url = f\"https://api.jikan.moe/v4/anime/{anime_id}\"\n",
        "    response = requests.get(url)\n",
        "\n",
        "    if response.status_code == 200:\n",
        "        anime_data = response.json()\n",
        "        df = pd.json_normalize(anime_data['data'])\n",
        "        return df\n",
        "    else:\n",
        "        print(f\"Error al realizar la solicitud: {response.status_code}\")\n",
        "        return None"
      ]
    },
    {
      "cell_type": "code",
      "execution_count": null,
      "metadata": {
        "id": "vg3Lpd53KMC0",
        "colab": {
          "base_uri": "https://localhost:8080/"
        },
        "outputId": "f9e86f26-df0d-4dd4-a185-9a7ee9a62f85"
      },
      "outputs": [
        {
          "output_type": "stream",
          "name": "stdout",
          "text": [
            "   mal_id                                           url  approved  \\\n",
            "0       1  https://myanimelist.net/anime/1/Cowboy_Bebop      True   \n",
            "\n",
            "                                              titles         title  \\\n",
            "0  [{'type': 'Default', 'title': 'Cowboy Bebop'},...  Cowboy Bebop   \n",
            "\n",
            "  title_english title_japanese title_synonyms type    source  ...  \\\n",
            "0  Cowboy Bebop      カウボーイビバップ             []   TV  Original  ...   \n",
            "\n",
            "   aired.prop.from.month aired.prop.from.year  aired.prop.to.day  \\\n",
            "0                      4                 1998                 24   \n",
            "\n",
            "  aired.prop.to.month aired.prop.to.year                 aired.string  \\\n",
            "0                   4               1999  Apr 3, 1998 to Apr 24, 1999   \n",
            "\n",
            "   broadcast.day  broadcast.time  broadcast.timezone          broadcast.string  \n",
            "0      Saturdays           01:00          Asia/Tokyo  Saturdays at 01:00 (JST)  \n",
            "\n",
            "[1 rows x 59 columns]\n"
          ]
        }
      ],
      "source": [
        "# Llamo a la función con el ID del anime\n",
        "df = importar_datos_desde_jikan(1)\n",
        "\n",
        "# Verifico y muestro el df\n",
        "if df is not None:\n",
        "    print(df)\n",
        "else:\n",
        "    print(\"No se pudo obtener los datos del anime.\")"
      ]
    },
    {
      "cell_type": "markdown",
      "metadata": {
        "id": "tjXmFzw_oF78"
      },
      "source": [
        "Veamos algunos datos acerca de la composición del df:"
      ]
    },
    {
      "cell_type": "code",
      "execution_count": null,
      "metadata": {
        "id": "xZBv0mlV6q9P",
        "colab": {
          "base_uri": "https://localhost:8080/",
          "height": 333
        },
        "outputId": "3a395ee9-e324-44fa-ed9e-49ccbb8020b2"
      },
      "outputs": [
        {
          "output_type": "display_data",
          "data": {
            "text/plain": [
              "<Figure size 500x300 with 1 Axes>"
            ],
            "image/png": "[encoded data removed]"
          },
          "metadata": {}
        }
      ],
      "source": [
        "df = importar_datos_desde_jikan(1)\n",
        "\n",
        "if df is not None:\n",
        "    # Cuento el número de columnas para cada tipo de dato\n",
        "    dtype_counts = df.dtypes.value_counts()\n",
        "\n",
        "    # Creo un gráfico de barras con esta información\n",
        "    plt.figure(figsize=(5, 3))\n",
        "    dtype_counts.plot(kind='bar')\n",
        "    plt.title('Cantidad de Columnas por Tipo de Dato')\n",
        "    plt.xlabel('Tipo de Dato')\n",
        "    plt.ylabel('Cantidad de Columnas')\n",
        "    plt.xticks(rotation='horizontal')\n",
        "    plt.show()\n",
        "else:\n",
        "    print(\"Error al realizar la solicitud\")"
      ]
    },
    {
      "cell_type": "code",
      "execution_count": null,
      "metadata": {
        "id": "s2FMl4HQHIcc",
        "colab": {
          "base_uri": "https://localhost:8080/"
        },
        "outputId": "d67c2484-fdce-4ada-d237-4faca27867a5"
      },
      "outputs": [
        {
          "output_type": "stream",
          "name": "stdout",
          "text": [
            "Index(['mal_id', 'url', 'approved', 'titles', 'title', 'title_english',\n",
            "       'title_japanese', 'title_synonyms', 'type', 'source', 'episodes',\n",
            "       'status', 'airing', 'duration', 'rating', 'score', 'scored_by', 'rank',\n",
            "       'popularity', 'members', 'favorites', 'synopsis', 'background',\n",
            "       'season', 'year', 'producers', 'licensors', 'studios', 'genres',\n",
            "       'explicit_genres', 'themes', 'demographics', 'images.jpg.image_url',\n",
            "       'images.jpg.small_image_url', 'images.jpg.large_image_url',\n",
            "       'images.webp.image_url', 'images.webp.small_image_url',\n",
            "       'images.webp.large_image_url', 'trailer.youtube_id', 'trailer.url',\n",
            "       'trailer.embed_url', 'trailer.images.image_url',\n",
            "       'trailer.images.small_image_url', 'trailer.images.medium_image_url',\n",
            "       'trailer.images.large_image_url', 'trailer.images.maximum_image_url',\n",
            "       'aired.from', 'aired.to', 'aired.prop.from.day',\n",
            "       'aired.prop.from.month', 'aired.prop.from.year', 'aired.prop.to.day',\n",
            "       'aired.prop.to.month', 'aired.prop.to.year', 'aired.string',\n",
            "       'broadcast.day', 'broadcast.time', 'broadcast.timezone',\n",
            "       'broadcast.string'],\n",
            "      dtype='object')\n"
          ]
        }
      ],
      "source": [
        "# Veamos las columnas del df\n",
        "print(df.columns)"
      ]
    },
    {
      "cell_type": "code",
      "execution_count": null,
      "metadata": {
        "id": "25o1aKzuVvMY",
        "colab": {
          "base_uri": "https://localhost:8080/"
        },
        "outputId": "cd48d526-e68c-4fe5-b6fe-6ac53622ce11"
      },
      "outputs": [
        {
          "output_type": "stream",
          "name": "stdout",
          "text": [
            "          title  episodes  score\n",
            "0  Cowboy Bebop        26   8.75\n"
          ]
        }
      ],
      "source": [
        "# reemplazo 'data.' con una cadena vacía (''), eliminando 'data.' de los nombres de las columnas en el df\n",
        "df.columns = df.columns.str.replace('data.', '', regex=False)\n",
        "\n",
        "# imprimo las columnas 'title', 'episodes', y 'score' del df para visualizar esos datos\n",
        "print(df[['title', 'episodes', 'score']])"
      ]
    },
    {
      "cell_type": "markdown",
      "metadata": {
        "id": "Vgx-WI6RRT3S"
      },
      "source": [
        "# 6. Exploración de datos"
      ]
    },
    {
      "cell_type": "code",
      "execution_count": null,
      "metadata": {
        "id": "NkH14Zf2RT3X",
        "colab": {
          "base_uri": "https://localhost:8080/"
        },
        "outputId": "4af876cd-99da-400f-bace-2beeee54837f"
      },
      "outputs": [
        {
          "output_type": "stream",
          "name": "stdout",
          "text": [
            "Index(['mal_id', 'url', 'approved', 'titles', 'title', 'title_english',\n",
            "       'title_japanese', 'title_synonyms', 'type', 'source', 'episodes',\n",
            "       'status', 'airing', 'duration', 'rating', 'score', 'scored_by', 'rank',\n",
            "       'popularity', 'members', 'favorites', 'synopsis', 'background',\n",
            "       'season', 'year', 'producers', 'licensors', 'studios', 'genres',\n",
            "       'explicit_genres', 'themes', 'demographics', 'images.jpg.image_url',\n",
            "       'images.jpg.small_image_url', 'images.jpg.large_image_url',\n",
            "       'images.webp.image_url', 'images.webp.small_image_url',\n",
            "       'images.webp.large_image_url', 'trailer.youtube_id', 'trailer.url',\n",
            "       'trailer.embed_url', 'trailer.images.image_url',\n",
            "       'trailer.images.small_image_url', 'trailer.images.medium_image_url',\n",
            "       'trailer.images.large_image_url', 'trailer.images.maximum_image_url',\n",
            "       'aired.from', 'aired.to', 'aired.prop.from.day',\n",
            "       'aired.prop.from.month', 'aired.prop.from.year', 'aired.prop.to.day',\n",
            "       'aired.prop.to.month', 'aired.prop.to.year', 'aired.string',\n",
            "       'broadcast.day', 'broadcast.time', 'broadcast.timezone',\n",
            "       'broadcast.string'],\n",
            "      dtype='object')\n"
          ]
        }
      ],
      "source": [
        "print(df.columns)"
      ]
    },
    {
      "cell_type": "code",
      "execution_count": null,
      "metadata": {
        "id": "dWh-sDGhRT3Y",
        "colab": {
          "base_uri": "https://localhost:8080/"
        },
        "outputId": "d8a46b55-e970-467d-bb53-14d0e93e5393"
      },
      "outputs": [
        {
          "output_type": "stream",
          "name": "stdout",
          "text": [
            "<class 'pandas.core.frame.DataFrame'>\n",
            "RangeIndex: 1 entries, 0 to 0\n",
            "Data columns (total 59 columns):\n",
            " #   Column                            Non-Null Count  Dtype  \n",
            "---  ------                            --------------  -----  \n",
            " 0   mal_id                            1 non-null      int64  \n",
            " 1   url                               1 non-null      object \n",
            " 2   approved                          1 non-null      bool   \n",
            " 3   titles                            1 non-null      object \n",
            " 4   title                             1 non-null      object \n",
            " 5   title_english                     1 non-null      object \n",
            " 6   title_japanese                    1 non-null      object \n",
            " 7   title_synonyms                    1 non-null      object \n",
            " 8   type                              1 non-null      object \n",
            " 9   source                            1 non-null      object \n",
            " 10  episodes                          1 non-null      int64  \n",
            " 11  status                            1 non-null      object \n",
            " 12  airing                            1 non-null      bool   \n",
            " 13  duration                          1 non-null      object \n",
            " 14  rating                            1 non-null      object \n",
            " 15  score                             1 non-null      float64\n",
            " 16  scored_by                         1 non-null      int64  \n",
            " 17  rank                              1 non-null      int64  \n",
            " 18  popularity                        1 non-null      int64  \n",
            " 19  members                           1 non-null      int64  \n",
            " 20  favorites                         1 non-null      int64  \n",
            " 21  synopsis                          1 non-null      object \n",
            " 22  background                        1 non-null      object \n",
            " 23  season                            1 non-null      object \n",
            " 24  year                              1 non-null      int64  \n",
            " 25  producers                         1 non-null      object \n",
            " 26  licensors                         1 non-null      object \n",
            " 27  studios                           1 non-null      object \n",
            " 28  genres                            1 non-null      object \n",
            " 29  explicit_genres                   1 non-null      object \n",
            " 30  themes                            1 non-null      object \n",
            " 31  demographics                      1 non-null      object \n",
            " 32  images.jpg.image_url              1 non-null      object \n",
            " 33  images.jpg.small_image_url        1 non-null      object \n",
            " 34  images.jpg.large_image_url        1 non-null      object \n",
            " 35  images.webp.image_url             1 non-null      object \n",
            " 36  images.webp.small_image_url       1 non-null      object \n",
            " 37  images.webp.large_image_url       1 non-null      object \n",
            " 38  trailer.youtube_id                1 non-null      object \n",
            " 39  trailer.url                       1 non-null      object \n",
            " 40  trailer.embed_url                 1 non-null      object \n",
            " 41  trailer.images.image_url          1 non-null      object \n",
            " 42  trailer.images.small_image_url    1 non-null      object \n",
            " 43  trailer.images.medium_image_url   1 non-null      object \n",
            " 44  trailer.images.large_image_url    1 non-null      object \n",
            " 45  trailer.images.maximum_image_url  1 non-null      object \n",
            " 46  aired.from                        1 non-null      object \n",
            " 47  aired.to                          1 non-null      object \n",
            " 48  aired.prop.from.day               1 non-null      int64  \n",
            " 49  aired.prop.from.month             1 non-null      int64  \n",
            " 50  aired.prop.from.year              1 non-null      int64  \n",
            " 51  aired.prop.to.day                 1 non-null      int64  \n",
            " 52  aired.prop.to.month               1 non-null      int64  \n",
            " 53  aired.prop.to.year                1 non-null      int64  \n",
            " 54  aired.string                      1 non-null      object \n",
            " 55  broadcast.day                     1 non-null      object \n",
            " 56  broadcast.time                    1 non-null      object \n",
            " 57  broadcast.timezone                1 non-null      object \n",
            " 58  broadcast.string                  1 non-null      object \n",
            "dtypes: bool(2), float64(1), int64(14), object(42)\n",
            "memory usage: 586.0+ bytes\n",
            "None\n",
            "       mal_id  episodes  score  scored_by  rank  popularity    members  \\\n",
            "count     1.0       1.0   1.00        1.0   1.0         1.0        1.0   \n",
            "mean      1.0      26.0   8.75   948743.0  45.0        43.0  1835582.0   \n",
            "std       NaN       NaN    NaN        NaN   NaN         NaN        NaN   \n",
            "min       1.0      26.0   8.75   948743.0  45.0        43.0  1835582.0   \n",
            "25%       1.0      26.0   8.75   948743.0  45.0        43.0  1835582.0   \n",
            "50%       1.0      26.0   8.75   948743.0  45.0        43.0  1835582.0   \n",
            "75%       1.0      26.0   8.75   948743.0  45.0        43.0  1835582.0   \n",
            "max       1.0      26.0   8.75   948743.0  45.0        43.0  1835582.0   \n",
            "\n",
            "       favorites    year  aired.prop.from.day  aired.prop.from.month  \\\n",
            "count        1.0     1.0                  1.0                    1.0   \n",
            "mean     81168.0  1998.0                  3.0                    4.0   \n",
            "std          NaN     NaN                  NaN                    NaN   \n",
            "min      81168.0  1998.0                  3.0                    4.0   \n",
            "25%      81168.0  1998.0                  3.0                    4.0   \n",
            "50%      81168.0  1998.0                  3.0                    4.0   \n",
            "75%      81168.0  1998.0                  3.0                    4.0   \n",
            "max      81168.0  1998.0                  3.0                    4.0   \n",
            "\n",
            "       aired.prop.from.year  aired.prop.to.day  aired.prop.to.month  \\\n",
            "count                   1.0                1.0                  1.0   \n",
            "mean                 1998.0               24.0                  4.0   \n",
            "std                     NaN                NaN                  NaN   \n",
            "min                  1998.0               24.0                  4.0   \n",
            "25%                  1998.0               24.0                  4.0   \n",
            "50%                  1998.0               24.0                  4.0   \n",
            "75%                  1998.0               24.0                  4.0   \n",
            "max                  1998.0               24.0                  4.0   \n",
            "\n",
            "       aired.prop.to.year  \n",
            "count                 1.0  \n",
            "mean               1999.0  \n",
            "std                   NaN  \n",
            "min                1999.0  \n",
            "25%                1999.0  \n",
            "50%                1999.0  \n",
            "75%                1999.0  \n",
            "max                1999.0  \n",
            "          title  episodes  score\n",
            "0  Cowboy Bebop        26   8.75\n"
          ]
        }
      ],
      "source": [
        "df = importar_datos_desde_jikan(1)\n",
        "\n",
        "if df is not None:\n",
        "    # información del df\n",
        "    print(df.info())\n",
        "\n",
        "    # resumen estadístico del df\n",
        "    print(df.describe())\n",
        "\n",
        "    # columnas específicas\n",
        "    print(df[['title', 'episodes', 'score']])\n",
        "else:\n",
        "    print(\"Error al realizar la solicitud o procesar los datos\")"
      ]
    },
    {
      "cell_type": "code",
      "execution_count": null,
      "metadata": {
        "id": "6uhd4j_kRT3Z",
        "colab": {
          "base_uri": "https://localhost:8080/"
        },
        "outputId": "4267a068-55eb-4883-fe89-69686bc5a7c2"
      },
      "outputs": [
        {
          "output_type": "stream",
          "name": "stdout",
          "text": [
            "          title  episodes  score\n",
            "0  Cowboy Bebop        26   8.75\n"
          ]
        }
      ],
      "source": [
        "# reemplazo 'data.' con una cadena vacía (''), eliminando 'data.' de los nombres de las columnas en el df\n",
        "df.columns = df.columns.str.replace('data.', '', regex=False)\n",
        "\n",
        "# imprimo las columnas 'title', 'episodes', y 'score' del df para visualizar esos datos\n",
        "print(df[['title', 'episodes', 'score']])"
      ]
    },
    {
      "cell_type": "markdown",
      "metadata": {
        "id": "3cQwNEFacULg"
      },
      "source": [
        "# 7. Data Wrangling"
      ]
    },
    {
      "cell_type": "markdown",
      "metadata": {
        "id": "G37JVUh96FwT"
      },
      "source": [
        "**Inspección inicial**"
      ]
    },
    {
      "cell_type": "code",
      "execution_count": null,
      "metadata": {
        "id": "AXyYjDOEZshh",
        "colab": {
          "base_uri": "https://localhost:8080/",
          "height": 199
        },
        "outputId": "f4a916ac-b915-4f24-a2ad-bc0e078c44b4"
      },
      "outputs": [
        {
          "output_type": "execute_result",
          "data": {
            "text/plain": [
              "   mal_id                                           url  approved  \\\n",
              "0       1  https://myanimelist.net/anime/1/Cowboy_Bebop      True   \n",
              "\n",
              "                                              titles         title  \\\n",
              "0  [{'type': 'Default', 'title': 'Cowboy Bebop'},...  Cowboy Bebop   \n",
              "\n",
              "  title_english title_japanese title_synonyms type    source  ...  \\\n",
              "0  Cowboy Bebop      カウボーイビバップ             []   TV  Original  ...   \n",
              "\n",
              "   aired.prop.from.month aired.prop.from.year  aired.prop.to.day  \\\n",
              "0                      4                 1998                 24   \n",
              "\n",
              "  aired.prop.to.month aired.prop.to.year                 aired.string  \\\n",
              "0                   4               1999  Apr 3, 1998 to Apr 24, 1999   \n",
              "\n",
              "   broadcast.day  broadcast.time  broadcast.timezone          broadcast.string  \n",
              "0      Saturdays           01:00          Asia/Tokyo  Saturdays at 01:00 (JST)  \n",
              "\n",
              "[1 rows x 59 columns]"
            ],
            "text/html": [
              "\n",
              "  <div id=\"df-ba5e5fca-45d0-44b7-9314-8342f7ff20d0\" class=\"colab-df-container\">\n",
              "    <div>\n",
              "<style scoped>\n",
              "    .dataframe tbody tr th:only-of-type {\n",
              "        vertical-align: middle;\n",
              "    }\n",
              "\n",
              "    .dataframe tbody tr th {\n",
              "        vertical-align: top;\n",
              "    }\n",
              "\n",
              "    .dataframe thead th {\n",
              "        text-align: right;\n",
              "    }\n",
              "</style>\n",
              "<table border=\"1\" class=\"dataframe\">\n",
              "  <thead>\n",
              "    <tr style=\"text-align: right;\">\n",
              "      <th></th>\n",
              "      <th>mal_id</th>\n",
              "      <th>url</th>\n",
              "      <th>approved</th>\n",
              "      <th>titles</th>\n",
              "      <th>title</th>\n",
              "      <th>title_english</th>\n",
              "      <th>title_japanese</th>\n",
              "      <th>title_synonyms</th>\n",
              "      <th>type</th>\n",
              "      <th>source</th>\n",
              "      <th>...</th>\n",
              "      <th>aired.prop.from.month</th>\n",
              "      <th>aired.prop.from.year</th>\n",
              "      <th>aired.prop.to.day</th>\n",
              "      <th>aired.prop.to.month</th>\n",
              "      <th>aired.prop.to.year</th>\n",
              "      <th>aired.string</th>\n",
              "      <th>broadcast.day</th>\n",
              "      <th>broadcast.time</th>\n",
              "      <th>broadcast.timezone</th>\n",
              "      <th>broadcast.string</th>\n",
              "    </tr>\n",
              "  </thead>\n",
              "  <tbody>\n",
              "    <tr>\n",
              "      <th>0</th>\n",
              "      <td>1</td>\n",
              "      <td>https://myanimelist.net/anime/1/Cowboy_Bebop</td>\n",
              "      <td>True</td>\n",
              "      <td>[{'type': 'Default', 'title': 'Cowboy Bebop'},...</td>\n",
              "      <td>Cowboy Bebop</td>\n",
              "      <td>Cowboy Bebop</td>\n",
              "      <td>カウボーイビバップ</td>\n",
              "      <td>[]</td>\n",
              "      <td>TV</td>\n",
              "      <td>Original</td>\n",
              "      <td>...</td>\n",
              "      <td>4</td>\n",
              "      <td>1998</td>\n",
              "      <td>24</td>\n",
              "      <td>4</td>\n",
              "      <td>1999</td>\n",
              "      <td>Apr 3, 1998 to Apr 24, 1999</td>\n",
              "      <td>Saturdays</td>\n",
              "      <td>01:00</td>\n",
              "      <td>Asia/Tokyo</td>\n",
              "      <td>Saturdays at 01:00 (JST)</td>\n",
              "    </tr>\n",
              "  </tbody>\n",
              "</table>\n",
              "<p>1 rows × 59 columns</p>\n",
              "</div>\n",
              "    <div class=\"colab-df-buttons\">\n",
              "\n",
              "  <div class=\"colab-df-container\">\n",
              "    <button class=\"colab-df-convert\" onclick=\"convertToInteractive('df-ba5e5fca-45d0-44b7-9314-8342f7ff20d0')\"\n",
              "            title=\"Convert this dataframe to an interactive table.\"\n",
              "            style=\"display:none;\">\n",
              "\n",
              "  <svg xmlns=\"http://www.w3.org/2000/svg\" height=\"24px\" viewBox=\"0 -960 960 960\">\n",
              "    <path d=\"M120-120v-720h720v720H120Zm60-500h600v-160H180v160Zm220 220h160v-160H400v160Zm0 220h160v-160H400v160ZM180-400h160v-160H180v160Zm440 0h160v-160H620v160ZM180-180h160v-160H180v160Zm440 0h160v-160H620v160Z\"/>\n",
              "  </svg>\n",
              "    </button>\n",
              "\n",
              "  <style>\n",
              "    .colab-df-container {\n",
              "      display:flex;\n",
              "      gap: 12px;\n",
              "    }\n",
              "\n",
              "    .colab-df-convert {\n",
              "      background-color: #E8F0FE;\n",
              "      border: none;\n",
              "      border-radius: 50%;\n",
              "      cursor: pointer;\n",
              "      display: none;\n",
              "      fill: #1967D2;\n",
              "      height: 32px;\n",
              "      padding: 0 0 0 0;\n",
              "      width: 32px;\n",
              "    }\n",
              "\n",
              "    .colab-df-convert:hover {\n",
              "      background-color: #E2EBFA;\n",
              "      box-shadow: 0px 1px 2px rgba(60, 64, 67, 0.3), 0px 1px 3px 1px rgba(60, 64, 67, 0.15);\n",
              "      fill: #174EA6;\n",
              "    }\n",
              "\n",
              "    .colab-df-buttons div {\n",
              "      margin-bottom: 4px;\n",
              "    }\n",
              "\n",
              "    [theme=dark] .colab-df-convert {\n",
              "      background-color: #3B4455;\n",
              "      fill: #D2E3FC;\n",
              "    }\n",
              "\n",
              "    [theme=dark] .colab-df-convert:hover {\n",
              "      background-color: #434B5C;\n",
              "      box-shadow: 0px 1px 3px 1px rgba(0, 0, 0, 0.15);\n",
              "      filter: drop-shadow(0px 1px 2px rgba(0, 0, 0, 0.3));\n",
              "      fill: #FFFFFF;\n",
              "    }\n",
              "  </style>\n",
              "\n",
              "    <script>\n",
              "      const buttonEl =\n",
              "        document.querySelector('#df-ba5e5fca-45d0-44b7-9314-8342f7ff20d0 button.colab-df-convert');\n",
              "      buttonEl.style.display =\n",
              "        google.colab.kernel.accessAllowed ? 'block' : 'none';\n",
              "\n",
              "      async function convertToInteractive(key) {\n",
              "        const element = document.querySelector('#df-ba5e5fca-45d0-44b7-9314-8342f7ff20d0');\n",
              "        const dataTable =\n",
              "          await google.colab.kernel.invokeFunction('convertToInteractive',\n",
              "                                                    [key], {});\n",
              "        if (!dataTable) return;\n",
              "\n",
              "        const docLinkHtml = 'Like what you see? Visit the ' +\n",
              "          '<a target=\"_blank\" href=https://colab.research.google.com/notebooks/data_table.ipynb>data table notebook</a>'\n",
              "          + ' to learn more about interactive tables.';\n",
              "        element.innerHTML = '';\n",
              "        dataTable['output_type'] = 'display_data';\n",
              "        await google.colab.output.renderOutput(dataTable, element);\n",
              "        const docLink = document.createElement('div');\n",
              "        docLink.innerHTML = docLinkHtml;\n",
              "        element.appendChild(docLink);\n",
              "      }\n",
              "    </script>\n",
              "  </div>\n",
              "\n",
              "\n",
              "    </div>\n",
              "  </div>\n"
            ]
          },
          "metadata": {},
          "execution_count": 19
        }
      ],
      "source": [
        "df.head()"
      ]
    },
    {
      "cell_type": "code",
      "execution_count": null,
      "metadata": {
        "id": "vwczfoWK58sK",
        "colab": {
          "base_uri": "https://localhost:8080/",
          "height": 199
        },
        "outputId": "fd884746-583f-4e8d-ddb1-3080cf01afb2"
      },
      "outputs": [
        {
          "output_type": "execute_result",
          "data": {
            "text/plain": [
              "   mal_id                                           url  approved  \\\n",
              "0       1  https://myanimelist.net/anime/1/Cowboy_Bebop      True   \n",
              "\n",
              "                                              titles         title  \\\n",
              "0  [{'type': 'Default', 'title': 'Cowboy Bebop'},...  Cowboy Bebop   \n",
              "\n",
              "  title_english title_japanese title_synonyms type    source  ...  \\\n",
              "0  Cowboy Bebop      カウボーイビバップ             []   TV  Original  ...   \n",
              "\n",
              "   aired.prop.from.month aired.prop.from.year  aired.prop.to.day  \\\n",
              "0                      4                 1998                 24   \n",
              "\n",
              "  aired.prop.to.month aired.prop.to.year                 aired.string  \\\n",
              "0                   4               1999  Apr 3, 1998 to Apr 24, 1999   \n",
              "\n",
              "   broadcast.day  broadcast.time  broadcast.timezone          broadcast.string  \n",
              "0      Saturdays           01:00          Asia/Tokyo  Saturdays at 01:00 (JST)  \n",
              "\n",
              "[1 rows x 59 columns]"
            ],
            "text/html": [
              "\n",
              "  <div id=\"df-1131227f-725c-453a-ab20-7f76c6344b57\" class=\"colab-df-container\">\n",
              "    <div>\n",
              "<style scoped>\n",
              "    .dataframe tbody tr th:only-of-type {\n",
              "        vertical-align: middle;\n",
              "    }\n",
              "\n",
              "    .dataframe tbody tr th {\n",
              "        vertical-align: top;\n",
              "    }\n",
              "\n",
              "    .dataframe thead th {\n",
              "        text-align: right;\n",
              "    }\n",
              "</style>\n",
              "<table border=\"1\" class=\"dataframe\">\n",
              "  <thead>\n",
              "    <tr style=\"text-align: right;\">\n",
              "      <th></th>\n",
              "      <th>mal_id</th>\n",
              "      <th>url</th>\n",
              "      <th>approved</th>\n",
              "      <th>titles</th>\n",
              "      <th>title</th>\n",
              "      <th>title_english</th>\n",
              "      <th>title_japanese</th>\n",
              "      <th>title_synonyms</th>\n",
              "      <th>type</th>\n",
              "      <th>source</th>\n",
              "      <th>...</th>\n",
              "      <th>aired.prop.from.month</th>\n",
              "      <th>aired.prop.from.year</th>\n",
              "      <th>aired.prop.to.day</th>\n",
              "      <th>aired.prop.to.month</th>\n",
              "      <th>aired.prop.to.year</th>\n",
              "      <th>aired.string</th>\n",
              "      <th>broadcast.day</th>\n",
              "      <th>broadcast.time</th>\n",
              "      <th>broadcast.timezone</th>\n",
              "      <th>broadcast.string</th>\n",
              "    </tr>\n",
              "  </thead>\n",
              "  <tbody>\n",
              "    <tr>\n",
              "      <th>0</th>\n",
              "      <td>1</td>\n",
              "      <td>https://myanimelist.net/anime/1/Cowboy_Bebop</td>\n",
              "      <td>True</td>\n",
              "      <td>[{'type': 'Default', 'title': 'Cowboy Bebop'},...</td>\n",
              "      <td>Cowboy Bebop</td>\n",
              "      <td>Cowboy Bebop</td>\n",
              "      <td>カウボーイビバップ</td>\n",
              "      <td>[]</td>\n",
              "      <td>TV</td>\n",
              "      <td>Original</td>\n",
              "      <td>...</td>\n",
              "      <td>4</td>\n",
              "      <td>1998</td>\n",
              "      <td>24</td>\n",
              "      <td>4</td>\n",
              "      <td>1999</td>\n",
              "      <td>Apr 3, 1998 to Apr 24, 1999</td>\n",
              "      <td>Saturdays</td>\n",
              "      <td>01:00</td>\n",
              "      <td>Asia/Tokyo</td>\n",
              "      <td>Saturdays at 01:00 (JST)</td>\n",
              "    </tr>\n",
              "  </tbody>\n",
              "</table>\n",
              "<p>1 rows × 59 columns</p>\n",
              "</div>\n",
              "    <div class=\"colab-df-buttons\">\n",
              "\n",
              "  <div class=\"colab-df-container\">\n",
              "    <button class=\"colab-df-convert\" onclick=\"convertToInteractive('df-1131227f-725c-453a-ab20-7f76c6344b57')\"\n",
              "            title=\"Convert this dataframe to an interactive table.\"\n",
              "            style=\"display:none;\">\n",
              "\n",
              "  <svg xmlns=\"http://www.w3.org/2000/svg\" height=\"24px\" viewBox=\"0 -960 960 960\">\n",
              "    <path d=\"M120-120v-720h720v720H120Zm60-500h600v-160H180v160Zm220 220h160v-160H400v160Zm0 220h160v-160H400v160ZM180-400h160v-160H180v160Zm440 0h160v-160H620v160ZM180-180h160v-160H180v160Zm440 0h160v-160H620v160Z\"/>\n",
              "  </svg>\n",
              "    </button>\n",
              "\n",
              "  <style>\n",
              "    .colab-df-container {\n",
              "      display:flex;\n",
              "      gap: 12px;\n",
              "    }\n",
              "\n",
              "    .colab-df-convert {\n",
              "      background-color: #E8F0FE;\n",
              "      border: none;\n",
              "      border-radius: 50%;\n",
              "      cursor: pointer;\n",
              "      display: none;\n",
              "      fill: #1967D2;\n",
              "      height: 32px;\n",
              "      padding: 0 0 0 0;\n",
              "      width: 32px;\n",
              "    }\n",
              "\n",
              "    .colab-df-convert:hover {\n",
              "      background-color: #E2EBFA;\n",
              "      box-shadow: 0px 1px 2px rgba(60, 64, 67, 0.3), 0px 1px 3px 1px rgba(60, 64, 67, 0.15);\n",
              "      fill: #174EA6;\n",
              "    }\n",
              "\n",
              "    .colab-df-buttons div {\n",
              "      margin-bottom: 4px;\n",
              "    }\n",
              "\n",
              "    [theme=dark] .colab-df-convert {\n",
              "      background-color: #3B4455;\n",
              "      fill: #D2E3FC;\n",
              "    }\n",
              "\n",
              "    [theme=dark] .colab-df-convert:hover {\n",
              "      background-color: #434B5C;\n",
              "      box-shadow: 0px 1px 3px 1px rgba(0, 0, 0, 0.15);\n",
              "      filter: drop-shadow(0px 1px 2px rgba(0, 0, 0, 0.3));\n",
              "      fill: #FFFFFF;\n",
              "    }\n",
              "  </style>\n",
              "\n",
              "    <script>\n",
              "      const buttonEl =\n",
              "        document.querySelector('#df-1131227f-725c-453a-ab20-7f76c6344b57 button.colab-df-convert');\n",
              "      buttonEl.style.display =\n",
              "        google.colab.kernel.accessAllowed ? 'block' : 'none';\n",
              "\n",
              "      async function convertToInteractive(key) {\n",
              "        const element = document.querySelector('#df-1131227f-725c-453a-ab20-7f76c6344b57');\n",
              "        const dataTable =\n",
              "          await google.colab.kernel.invokeFunction('convertToInteractive',\n",
              "                                                    [key], {});\n",
              "        if (!dataTable) return;\n",
              "\n",
              "        const docLinkHtml = 'Like what you see? Visit the ' +\n",
              "          '<a target=\"_blank\" href=https://colab.research.google.com/notebooks/data_table.ipynb>data table notebook</a>'\n",
              "          + ' to learn more about interactive tables.';\n",
              "        element.innerHTML = '';\n",
              "        dataTable['output_type'] = 'display_data';\n",
              "        await google.colab.output.renderOutput(dataTable, element);\n",
              "        const docLink = document.createElement('div');\n",
              "        docLink.innerHTML = docLinkHtml;\n",
              "        element.appendChild(docLink);\n",
              "      }\n",
              "    </script>\n",
              "  </div>\n",
              "\n",
              "\n",
              "    </div>\n",
              "  </div>\n"
            ]
          },
          "metadata": {},
          "execution_count": 20
        }
      ],
      "source": [
        "df.tail()"
      ]
    },
    {
      "cell_type": "code",
      "execution_count": null,
      "metadata": {
        "id": "Fjp3qlYz5-nx",
        "colab": {
          "base_uri": "https://localhost:8080/"
        },
        "outputId": "f36cebcf-4620-4870-d1d5-ce6581db8e67"
      },
      "outputs": [
        {
          "output_type": "stream",
          "name": "stdout",
          "text": [
            "<class 'pandas.core.frame.DataFrame'>\n",
            "RangeIndex: 1 entries, 0 to 0\n",
            "Data columns (total 59 columns):\n",
            " #   Column                            Non-Null Count  Dtype  \n",
            "---  ------                            --------------  -----  \n",
            " 0   mal_id                            1 non-null      int64  \n",
            " 1   url                               1 non-null      object \n",
            " 2   approved                          1 non-null      bool   \n",
            " 3   titles                            1 non-null      object \n",
            " 4   title                             1 non-null      object \n",
            " 5   title_english                     1 non-null      object \n",
            " 6   title_japanese                    1 non-null      object \n",
            " 7   title_synonyms                    1 non-null      object \n",
            " 8   type                              1 non-null      object \n",
            " 9   source                            1 non-null      object \n",
            " 10  episodes                          1 non-null      int64  \n",
            " 11  status                            1 non-null      object \n",
            " 12  airing                            1 non-null      bool   \n",
            " 13  duration                          1 non-null      object \n",
            " 14  rating                            1 non-null      object \n",
            " 15  score                             1 non-null      float64\n",
            " 16  scored_by                         1 non-null      int64  \n",
            " 17  rank                              1 non-null      int64  \n",
            " 18  popularity                        1 non-null      int64  \n",
            " 19  members                           1 non-null      int64  \n",
            " 20  favorites                         1 non-null      int64  \n",
            " 21  synopsis                          1 non-null      object \n",
            " 22  background                        1 non-null      object \n",
            " 23  season                            1 non-null      object \n",
            " 24  year                              1 non-null      int64  \n",
            " 25  producers                         1 non-null      object \n",
            " 26  licensors                         1 non-null      object \n",
            " 27  studios                           1 non-null      object \n",
            " 28  genres                            1 non-null      object \n",
            " 29  explicit_genres                   1 non-null      object \n",
            " 30  themes                            1 non-null      object \n",
            " 31  demographics                      1 non-null      object \n",
            " 32  images.jpg.image_url              1 non-null      object \n",
            " 33  images.jpg.small_image_url        1 non-null      object \n",
            " 34  images.jpg.large_image_url        1 non-null      object \n",
            " 35  images.webp.image_url             1 non-null      object \n",
            " 36  images.webp.small_image_url       1 non-null      object \n",
            " 37  images.webp.large_image_url       1 non-null      object \n",
            " 38  trailer.youtube_id                1 non-null      object \n",
            " 39  trailer.url                       1 non-null      object \n",
            " 40  trailer.embed_url                 1 non-null      object \n",
            " 41  trailer.images.image_url          1 non-null      object \n",
            " 42  trailer.images.small_image_url    1 non-null      object \n",
            " 43  trailer.images.medium_image_url   1 non-null      object \n",
            " 44  trailer.images.large_image_url    1 non-null      object \n",
            " 45  trailer.images.maximum_image_url  1 non-null      object \n",
            " 46  aired.from                        1 non-null      object \n",
            " 47  aired.to                          1 non-null      object \n",
            " 48  aired.prop.from.day               1 non-null      int64  \n",
            " 49  aired.prop.from.month             1 non-null      int64  \n",
            " 50  aired.prop.from.year              1 non-null      int64  \n",
            " 51  aired.prop.to.day                 1 non-null      int64  \n",
            " 52  aired.prop.to.month               1 non-null      int64  \n",
            " 53  aired.prop.to.year                1 non-null      int64  \n",
            " 54  aired.string                      1 non-null      object \n",
            " 55  broadcast.day                     1 non-null      object \n",
            " 56  broadcast.time                    1 non-null      object \n",
            " 57  broadcast.timezone                1 non-null      object \n",
            " 58  broadcast.string                  1 non-null      object \n",
            "dtypes: bool(2), float64(1), int64(14), object(42)\n",
            "memory usage: 586.0+ bytes\n"
          ]
        }
      ],
      "source": [
        "df.info()"
      ]
    },
    {
      "cell_type": "code",
      "execution_count": null,
      "metadata": {
        "id": "qx0hcNxz59Xf",
        "colab": {
          "base_uri": "https://localhost:8080/",
          "height": 320
        },
        "outputId": "11a4ddae-fe75-4c09-d9d5-fc4273bf5cf9"
      },
      "outputs": [
        {
          "output_type": "execute_result",
          "data": {
            "text/plain": [
              "       mal_id  episodes  score  scored_by  rank  popularity    members  \\\n",
              "count     1.0       1.0   1.00        1.0   1.0         1.0        1.0   \n",
              "mean      1.0      26.0   8.75   948743.0  45.0        43.0  1835582.0   \n",
              "std       NaN       NaN    NaN        NaN   NaN         NaN        NaN   \n",
              "min       1.0      26.0   8.75   948743.0  45.0        43.0  1835582.0   \n",
              "25%       1.0      26.0   8.75   948743.0  45.0        43.0  1835582.0   \n",
              "50%       1.0      26.0   8.75   948743.0  45.0        43.0  1835582.0   \n",
              "75%       1.0      26.0   8.75   948743.0  45.0        43.0  1835582.0   \n",
              "max       1.0      26.0   8.75   948743.0  45.0        43.0  1835582.0   \n",
              "\n",
              "       favorites    year  aired.prop.from.day  aired.prop.from.month  \\\n",
              "count        1.0     1.0                  1.0                    1.0   \n",
              "mean     81168.0  1998.0                  3.0                    4.0   \n",
              "std          NaN     NaN                  NaN                    NaN   \n",
              "min      81168.0  1998.0                  3.0                    4.0   \n",
              "25%      81168.0  1998.0                  3.0                    4.0   \n",
              "50%      81168.0  1998.0                  3.0                    4.0   \n",
              "75%      81168.0  1998.0                  3.0                    4.0   \n",
              "max      81168.0  1998.0                  3.0                    4.0   \n",
              "\n",
              "       aired.prop.from.year  aired.prop.to.day  aired.prop.to.month  \\\n",
              "count                   1.0                1.0                  1.0   \n",
              "mean                 1998.0               24.0                  4.0   \n",
              "std                     NaN                NaN                  NaN   \n",
              "min                  1998.0               24.0                  4.0   \n",
              "25%                  1998.0               24.0                  4.0   \n",
              "50%                  1998.0               24.0                  4.0   \n",
              "75%                  1998.0               24.0                  4.0   \n",
              "max                  1998.0               24.0                  4.0   \n",
              "\n",
              "       aired.prop.to.year  \n",
              "count                 1.0  \n",
              "mean               1999.0  \n",
              "std                   NaN  \n",
              "min                1999.0  \n",
              "25%                1999.0  \n",
              "50%                1999.0  \n",
              "75%                1999.0  \n",
              "max                1999.0  "
            ],
            "text/html": [
              "\n",
              "  <div id=\"df-c64e35c6-71dc-43cf-a929-b5e9dcafefb4\" class=\"colab-df-container\">\n",
              "    <div>\n",
              "<style scoped>\n",
              "    .dataframe tbody tr th:only-of-type {\n",
              "        vertical-align: middle;\n",
              "    }\n",
              "\n",
              "    .dataframe tbody tr th {\n",
              "        vertical-align: top;\n",
              "    }\n",
              "\n",
              "    .dataframe thead th {\n",
              "        text-align: right;\n",
              "    }\n",
              "</style>\n",
              "<table border=\"1\" class=\"dataframe\">\n",
              "  <thead>\n",
              "    <tr style=\"text-align: right;\">\n",
              "      <th></th>\n",
              "      <th>mal_id</th>\n",
              "      <th>episodes</th>\n",
              "      <th>score</th>\n",
              "      <th>scored_by</th>\n",
              "      <th>rank</th>\n",
              "      <th>popularity</th>\n",
              "      <th>members</th>\n",
              "      <th>favorites</th>\n",
              "      <th>year</th>\n",
              "      <th>aired.prop.from.day</th>\n",
              "      <th>aired.prop.from.month</th>\n",
              "      <th>aired.prop.from.year</th>\n",
              "      <th>aired.prop.to.day</th>\n",
              "      <th>aired.prop.to.month</th>\n",
              "      <th>aired.prop.to.year</th>\n",
              "    </tr>\n",
              "  </thead>\n",
              "  <tbody>\n",
              "    <tr>\n",
              "      <th>count</th>\n",
              "      <td>1.0</td>\n",
              "      <td>1.0</td>\n",
              "      <td>1.00</td>\n",
              "      <td>1.0</td>\n",
              "      <td>1.0</td>\n",
              "      <td>1.0</td>\n",
              "      <td>1.0</td>\n",
              "      <td>1.0</td>\n",
              "      <td>1.0</td>\n",
              "      <td>1.0</td>\n",
              "      <td>1.0</td>\n",
              "      <td>1.0</td>\n",
              "      <td>1.0</td>\n",
              "      <td>1.0</td>\n",
              "      <td>1.0</td>\n",
              "    </tr>\n",
              "    <tr>\n",
              "      <th>mean</th>\n",
              "      <td>1.0</td>\n",
              "      <td>26.0</td>\n",
              "      <td>8.75</td>\n",
              "      <td>948743.0</td>\n",
              "      <td>45.0</td>\n",
              "      <td>43.0</td>\n",
              "      <td>1835582.0</td>\n",
              "      <td>81168.0</td>\n",
              "      <td>1998.0</td>\n",
              "      <td>3.0</td>\n",
              "      <td>4.0</td>\n",
              "      <td>1998.0</td>\n",
              "      <td>24.0</td>\n",
              "      <td>4.0</td>\n",
              "      <td>1999.0</td>\n",
              "    </tr>\n",
              "    <tr>\n",
              "      <th>std</th>\n",
              "      <td>NaN</td>\n",
              "      <td>NaN</td>\n",
              "      <td>NaN</td>\n",
              "      <td>NaN</td>\n",
              "      <td>NaN</td>\n",
              "      <td>NaN</td>\n",
              "      <td>NaN</td>\n",
              "      <td>NaN</td>\n",
              "      <td>NaN</td>\n",
              "      <td>NaN</td>\n",
              "      <td>NaN</td>\n",
              "      <td>NaN</td>\n",
              "      <td>NaN</td>\n",
              "      <td>NaN</td>\n",
              "      <td>NaN</td>\n",
              "    </tr>\n",
              "    <tr>\n",
              "      <th>min</th>\n",
              "      <td>1.0</td>\n",
              "      <td>26.0</td>\n",
              "      <td>8.75</td>\n",
              "      <td>948743.0</td>\n",
              "      <td>45.0</td>\n",
              "      <td>43.0</td>\n",
              "      <td>1835582.0</td>\n",
              "      <td>81168.0</td>\n",
              "      <td>1998.0</td>\n",
              "      <td>3.0</td>\n",
              "      <td>4.0</td>\n",
              "      <td>1998.0</td>\n",
              "      <td>24.0</td>\n",
              "      <td>4.0</td>\n",
              "      <td>1999.0</td>\n",
              "    </tr>\n",
              "    <tr>\n",
              "      <th>25%</th>\n",
              "      <td>1.0</td>\n",
              "      <td>26.0</td>\n",
              "      <td>8.75</td>\n",
              "      <td>948743.0</td>\n",
              "      <td>45.0</td>\n",
              "      <td>43.0</td>\n",
              "      <td>1835582.0</td>\n",
              "      <td>81168.0</td>\n",
              "      <td>1998.0</td>\n",
              "      <td>3.0</td>\n",
              "      <td>4.0</td>\n",
              "      <td>1998.0</td>\n",
              "      <td>24.0</td>\n",
              "      <td>4.0</td>\n",
              "      <td>1999.0</td>\n",
              "    </tr>\n",
              "    <tr>\n",
              "      <th>50%</th>\n",
              "      <td>1.0</td>\n",
              "      <td>26.0</td>\n",
              "      <td>8.75</td>\n",
              "      <td>948743.0</td>\n",
              "      <td>45.0</td>\n",
              "      <td>43.0</td>\n",
              "      <td>1835582.0</td>\n",
              "      <td>81168.0</td>\n",
              "      <td>1998.0</td>\n",
              "      <td>3.0</td>\n",
              "      <td>4.0</td>\n",
              "      <td>1998.0</td>\n",
              "      <td>24.0</td>\n",
              "      <td>4.0</td>\n",
              "      <td>1999.0</td>\n",
              "    </tr>\n",
              "    <tr>\n",
              "      <th>75%</th>\n",
              "      <td>1.0</td>\n",
              "      <td>26.0</td>\n",
              "      <td>8.75</td>\n",
              "      <td>948743.0</td>\n",
              "      <td>45.0</td>\n",
              "      <td>43.0</td>\n",
              "      <td>1835582.0</td>\n",
              "      <td>81168.0</td>\n",
              "      <td>1998.0</td>\n",
              "      <td>3.0</td>\n",
              "      <td>4.0</td>\n",
              "      <td>1998.0</td>\n",
              "      <td>24.0</td>\n",
              "      <td>4.0</td>\n",
              "      <td>1999.0</td>\n",
              "    </tr>\n",
              "    <tr>\n",
              "      <th>max</th>\n",
              "      <td>1.0</td>\n",
              "      <td>26.0</td>\n",
              "      <td>8.75</td>\n",
              "      <td>948743.0</td>\n",
              "      <td>45.0</td>\n",
              "      <td>43.0</td>\n",
              "      <td>1835582.0</td>\n",
              "      <td>81168.0</td>\n",
              "      <td>1998.0</td>\n",
              "      <td>3.0</td>\n",
              "      <td>4.0</td>\n",
              "      <td>1998.0</td>\n",
              "      <td>24.0</td>\n",
              "      <td>4.0</td>\n",
              "      <td>1999.0</td>\n",
              "    </tr>\n",
              "  </tbody>\n",
              "</table>\n",
              "</div>\n",
              "    <div class=\"colab-df-buttons\">\n",
              "\n",
              "  <div class=\"colab-df-container\">\n",
              "    <button class=\"colab-df-convert\" onclick=\"convertToInteractive('df-c64e35c6-71dc-43cf-a929-b5e9dcafefb4')\"\n",
              "            title=\"Convert this dataframe to an interactive table.\"\n",
              "            style=\"display:none;\">\n",
              "\n",
              "  <svg xmlns=\"http://www.w3.org/2000/svg\" height=\"24px\" viewBox=\"0 -960 960 960\">\n",
              "    <path d=\"M120-120v-720h720v720H120Zm60-500h600v-160H180v160Zm220 220h160v-160H400v160Zm0 220h160v-160H400v160ZM180-400h160v-160H180v160Zm440 0h160v-160H620v160ZM180-180h160v-160H180v160Zm440 0h160v-160H620v160Z\"/>\n",
              "  </svg>\n",
              "    </button>\n",
              "\n",
              "  <style>\n",
              "    .colab-df-container {\n",
              "      display:flex;\n",
              "      gap: 12px;\n",
              "    }\n",
              "\n",
              "    .colab-df-convert {\n",
              "      background-color: #E8F0FE;\n",
              "      border: none;\n",
              "      border-radius: 50%;\n",
              "      cursor: pointer;\n",
              "      display: none;\n",
              "      fill: #1967D2;\n",
              "      height: 32px;\n",
              "      padding: 0 0 0 0;\n",
              "      width: 32px;\n",
              "    }\n",
              "\n",
              "    .colab-df-convert:hover {\n",
              "      background-color: #E2EBFA;\n",
              "      box-shadow: 0px 1px 2px rgba(60, 64, 67, 0.3), 0px 1px 3px 1px rgba(60, 64, 67, 0.15);\n",
              "      fill: #174EA6;\n",
              "    }\n",
              "\n",
              "    .colab-df-buttons div {\n",
              "      margin-bottom: 4px;\n",
              "    }\n",
              "\n",
              "    [theme=dark] .colab-df-convert {\n",
              "      background-color: #3B4455;\n",
              "      fill: #D2E3FC;\n",
              "    }\n",
              "\n",
              "    [theme=dark] .colab-df-convert:hover {\n",
              "      background-color: #434B5C;\n",
              "      box-shadow: 0px 1px 3px 1px rgba(0, 0, 0, 0.15);\n",
              "      filter: drop-shadow(0px 1px 2px rgba(0, 0, 0, 0.3));\n",
              "      fill: #FFFFFF;\n",
              "    }\n",
              "  </style>\n",
              "\n",
              "    <script>\n",
              "      const buttonEl =\n",
              "        document.querySelector('#df-c64e35c6-71dc-43cf-a929-b5e9dcafefb4 button.colab-df-convert');\n",
              "      buttonEl.style.display =\n",
              "        google.colab.kernel.accessAllowed ? 'block' : 'none';\n",
              "\n",
              "      async function convertToInteractive(key) {\n",
              "        const element = document.querySelector('#df-c64e35c6-71dc-43cf-a929-b5e9dcafefb4');\n",
              "        const dataTable =\n",
              "          await google.colab.kernel.invokeFunction('convertToInteractive',\n",
              "                                                    [key], {});\n",
              "        if (!dataTable) return;\n",
              "\n",
              "        const docLinkHtml = 'Like what you see? Visit the ' +\n",
              "          '<a target=\"_blank\" href=https://colab.research.google.com/notebooks/data_table.ipynb>data table notebook</a>'\n",
              "          + ' to learn more about interactive tables.';\n",
              "        element.innerHTML = '';\n",
              "        dataTable['output_type'] = 'display_data';\n",
              "        await google.colab.output.renderOutput(dataTable, element);\n",
              "        const docLink = document.createElement('div');\n",
              "        docLink.innerHTML = docLinkHtml;\n",
              "        element.appendChild(docLink);\n",
              "      }\n",
              "    </script>\n",
              "  </div>\n",
              "\n",
              "\n",
              "<div id=\"df-6fcd59a3-8562-44f2-b30c-11cb66f778e2\">\n",
              "  <button class=\"colab-df-quickchart\" onclick=\"quickchart('df-6fcd59a3-8562-44f2-b30c-11cb66f778e2')\"\n",
              "            title=\"Suggest charts\"\n",
              "            style=\"display:none;\">\n",
              "\n",
              "<svg xmlns=\"http://www.w3.org/2000/svg\" height=\"24px\"viewBox=\"0 0 24 24\"\n",
              "     width=\"24px\">\n",
              "    <g>\n",
              "        <path d=\"M19 3H5c-1.1 0-2 .9-2 2v14c0 1.1.9 2 2 2h14c1.1 0 2-.9 2-2V5c0-1.1-.9-2-2-2zM9 17H7v-7h2v7zm4 0h-2V7h2v10zm4 0h-2v-4h2v4z\"/>\n",
              "    </g>\n",
              "</svg>\n",
              "  </button>\n",
              "\n",
              "<style>\n",
              "  .colab-df-quickchart {\n",
              "      --bg-color: #E8F0FE;\n",
              "      --fill-color: #1967D2;\n",
              "      --hover-bg-color: #E2EBFA;\n",
              "      --hover-fill-color: #174EA6;\n",
              "      --disabled-fill-color: #AAA;\n",
              "      --disabled-bg-color: #DDD;\n",
              "  }\n",
              "\n",
              "  [theme=dark] .colab-df-quickchart {\n",
              "      --bg-color: #3B4455;\n",
              "      --fill-color: #D2E3FC;\n",
              "      --hover-bg-color: #434B5C;\n",
              "      --hover-fill-color: #FFFFFF;\n",
              "      --disabled-bg-color: #3B4455;\n",
              "      --disabled-fill-color: #666;\n",
              "  }\n",
              "\n",
              "  .colab-df-quickchart {\n",
              "    background-color: var(--bg-color);\n",
              "    border: none;\n",
              "    border-radius: 50%;\n",
              "    cursor: pointer;\n",
              "    display: none;\n",
              "    fill: var(--fill-color);\n",
              "    height: 32px;\n",
              "    padding: 0;\n",
              "    width: 32px;\n",
              "  }\n",
              "\n",
              "  .colab-df-quickchart:hover {\n",
              "    background-color: var(--hover-bg-color);\n",
              "    box-shadow: 0 1px 2px rgba(60, 64, 67, 0.3), 0 1px 3px 1px rgba(60, 64, 67, 0.15);\n",
              "    fill: var(--button-hover-fill-color);\n",
              "  }\n",
              "\n",
              "  .colab-df-quickchart-complete:disabled,\n",
              "  .colab-df-quickchart-complete:disabled:hover {\n",
              "    background-color: var(--disabled-bg-color);\n",
              "    fill: var(--disabled-fill-color);\n",
              "    box-shadow: none;\n",
              "  }\n",
              "\n",
              "  .colab-df-spinner {\n",
              "    border: 2px solid var(--fill-color);\n",
              "    border-color: transparent;\n",
              "    border-bottom-color: var(--fill-color);\n",
              "    animation:\n",
              "      spin 1s steps(1) infinite;\n",
              "  }\n",
              "\n",
              "  @keyframes spin {\n",
              "    0% {\n",
              "      border-color: transparent;\n",
              "      border-bottom-color: var(--fill-color);\n",
              "      border-left-color: var(--fill-color);\n",
              "    }\n",
              "    20% {\n",
              "      border-color: transparent;\n",
              "      border-left-color: var(--fill-color);\n",
              "      border-top-color: var(--fill-color);\n",
              "    }\n",
              "    30% {\n",
              "      border-color: transparent;\n",
              "      border-left-color: var(--fill-color);\n",
              "      border-top-color: var(--fill-color);\n",
              "      border-right-color: var(--fill-color);\n",
              "    }\n",
              "    40% {\n",
              "      border-color: transparent;\n",
              "      border-right-color: var(--fill-color);\n",
              "      border-top-color: var(--fill-color);\n",
              "    }\n",
              "    60% {\n",
              "      border-color: transparent;\n",
              "      border-right-color: var(--fill-color);\n",
              "    }\n",
              "    80% {\n",
              "      border-color: transparent;\n",
              "      border-right-color: var(--fill-color);\n",
              "      border-bottom-color: var(--fill-color);\n",
              "    }\n",
              "    90% {\n",
              "      border-color: transparent;\n",
              "      border-bottom-color: var(--fill-color);\n",
              "    }\n",
              "  }\n",
              "</style>\n",
              "\n",
              "  <script>\n",
              "    async function quickchart(key) {\n",
              "      const quickchartButtonEl =\n",
              "        document.querySelector('#' + key + ' button');\n",
              "      quickchartButtonEl.disabled = true;  // To prevent multiple clicks.\n",
              "      quickchartButtonEl.classList.add('colab-df-spinner');\n",
              "      try {\n",
              "        const charts = await google.colab.kernel.invokeFunction(\n",
              "            'suggestCharts', [key], {});\n",
              "      } catch (error) {\n",
              "        console.error('Error during call to suggestCharts:', error);\n",
              "      }\n",
              "      quickchartButtonEl.classList.remove('colab-df-spinner');\n",
              "      quickchartButtonEl.classList.add('colab-df-quickchart-complete');\n",
              "    }\n",
              "    (() => {\n",
              "      let quickchartButtonEl =\n",
              "        document.querySelector('#df-6fcd59a3-8562-44f2-b30c-11cb66f778e2 button');\n",
              "      quickchartButtonEl.style.display =\n",
              "        google.colab.kernel.accessAllowed ? 'block' : 'none';\n",
              "    })();\n",
              "  </script>\n",
              "</div>\n",
              "\n",
              "    </div>\n",
              "  </div>\n"
            ]
          },
          "metadata": {},
          "execution_count": 22
        }
      ],
      "source": [
        "df.describe()"
      ]
    },
    {
      "cell_type": "markdown",
      "metadata": {
        "id": "mQBc-v64_UGK"
      },
      "source": [
        "**Manejo de Valores Faltantes**"
      ]
    },
    {
      "cell_type": "markdown",
      "metadata": {
        "id": "GJh1861Pv5RJ"
      },
      "source": [
        "Reviso si tengo valores faltantes en las columnas"
      ]
    },
    {
      "cell_type": "code",
      "execution_count": null,
      "metadata": {
        "id": "IMZNf-Kt_VyR",
        "colab": {
          "base_uri": "https://localhost:8080/"
        },
        "outputId": "cb4105fe-165a-47a8-e8fc-0cdb615e6979"
      },
      "outputs": [
        {
          "output_type": "execute_result",
          "data": {
            "text/plain": [
              "mal_id                              0\n",
              "url                                 0\n",
              "approved                            0\n",
              "titles                              0\n",
              "title                               0\n",
              "title_english                       0\n",
              "title_japanese                      0\n",
              "title_synonyms                      0\n",
              "type                                0\n",
              "source                              0\n",
              "episodes                            0\n",
              "status                              0\n",
              "airing                              0\n",
              "duration                            0\n",
              "rating                              0\n",
              "score                               0\n",
              "scored_by                           0\n",
              "rank                                0\n",
              "popularity                          0\n",
              "members                             0\n",
              "favorites                           0\n",
              "synopsis                            0\n",
              "background                          0\n",
              "season                              0\n",
              "year                                0\n",
              "producers                           0\n",
              "licensors                           0\n",
              "studios                             0\n",
              "genres                              0\n",
              "explicit_genres                     0\n",
              "themes                              0\n",
              "demographics                        0\n",
              "images.jpg.image_url                0\n",
              "images.jpg.small_image_url          0\n",
              "images.jpg.large_image_url          0\n",
              "images.webp.image_url               0\n",
              "images.webp.small_image_url         0\n",
              "images.webp.large_image_url         0\n",
              "trailer.youtube_id                  0\n",
              "trailer.url                         0\n",
              "trailer.embed_url                   0\n",
              "trailer.images.image_url            0\n",
              "trailer.images.small_image_url      0\n",
              "trailer.images.medium_image_url     0\n",
              "trailer.images.large_image_url      0\n",
              "trailer.images.maximum_image_url    0\n",
              "aired.from                          0\n",
              "aired.to                            0\n",
              "aired.prop.from.day                 0\n",
              "aired.prop.from.month               0\n",
              "aired.prop.from.year                0\n",
              "aired.prop.to.day                   0\n",
              "aired.prop.to.month                 0\n",
              "aired.prop.to.year                  0\n",
              "aired.string                        0\n",
              "broadcast.day                       0\n",
              "broadcast.time                      0\n",
              "broadcast.timezone                  0\n",
              "broadcast.string                    0\n",
              "dtype: int64"
            ]
          },
          "metadata": {},
          "execution_count": 23
        }
      ],
      "source": [
        "df.isnull().sum()"
      ]
    },
    {
      "cell_type": "markdown",
      "metadata": {
        "id": "pvzt3hNi_lOU"
      },
      "source": [
        "**Transformación de Datos**"
      ]
    },
    {
      "cell_type": "code",
      "execution_count": null,
      "metadata": {
        "id": "guvvYkvxH63w"
      },
      "outputs": [],
      "source": [
        "def is_valid_url(url):\n",
        "    \"\"\" Función para verificar si una URL es válida.\"\"\"\n",
        "    try:\n",
        "        response = requests.get(url, timeout=3)\n",
        "        return response.status_code == 200\n",
        "    except requests.RequestException:\n",
        "        return False"
      ]
    },
    {
      "cell_type": "markdown",
      "metadata": {
        "id": "O6dE7oapJJEl"
      },
      "source": [
        "Operaciones sobre df_clean"
      ]
    },
    {
      "cell_type": "code",
      "execution_count": null,
      "metadata": {
        "id": "bW8km7lAH_Qd"
      },
      "outputs": [],
      "source": [
        "# Hago una copia del df original para no alterar los datos originales\n",
        "df_clean = df.copy()"
      ]
    },
    {
      "cell_type": "code",
      "execution_count": null,
      "metadata": {
        "id": "Po4GMABWH_3Y"
      },
      "outputs": [],
      "source": [
        "# Convierto las fechas 'aired.from' y 'aired.to' a formato datetime\n",
        "df_clean['aired.from'] = pd.to_datetime(df_clean['aired.from'])\n",
        "df_clean['aired.to'] = pd.to_datetime(df_clean['aired.to'])"
      ]
    },
    {
      "cell_type": "code",
      "execution_count": null,
      "metadata": {
        "id": "2ZolVvKRIDyU"
      },
      "outputs": [],
      "source": [
        "# Si existen las columnas adicionales de fechas, las combino y convierto\n",
        "if 'aired.prop.from.year' in df_clean.columns:\n",
        "    df_clean['aired_from_combined'] = pd.to_datetime(df_clean['aired.prop.from.year']*10000 + df_clean['aired.prop.from.month']*100 + df_clean['aired.prop.from.day'], format='%Y%m%d')\n",
        "    df_clean['aired_to_combined'] = pd.to_datetime(df_clean['aired.prop.to.year']*10000 + df_clean['aired.prop.to.month']*100 + df_clean['aired.prop.to.day'], format='%Y%m%d')\n",
        "else:\n",
        "    print(\"Falta información: las columnas de fecha 'aired.prop.from' y 'aired.prop.to' no están presentes. Hay que revisar el df\")\n"
      ]
    },
    {
      "cell_type": "markdown",
      "metadata": {
        "id": "k_b3rVv5IJvx"
      },
      "source": [
        "Operaciones sobre df"
      ]
    },
    {
      "cell_type": "code",
      "execution_count": null,
      "metadata": {
        "id": "t0iUEUO8IVo0"
      },
      "outputs": [],
      "source": [
        "# Transformo la columna 'title_synonyms' en una cadena delimitada por comas\n",
        "df['title_synonyms'] = df['title_synonyms'].apply(lambda x: ', '.join(x) if isinstance(x, list) else x)"
      ]
    },
    {
      "cell_type": "code",
      "execution_count": null,
      "metadata": {
        "id": "Awqv1N7hIh5X"
      },
      "outputs": [],
      "source": [
        "# Extraigo el título principal de la columna 'titles' y luego la elimino\n",
        "df['main_title'] = df['titles'].apply(lambda x: next((item['title'] for item in x if item['type'] == 'Default'), None))\n",
        "df.drop('titles', axis=1, inplace=True)"
      ]
    },
    {
      "cell_type": "code",
      "execution_count": null,
      "metadata": {
        "id": "4Lzhtu72IkNv"
      },
      "outputs": [],
      "source": [
        "# Añado una nueva columna que me indica si la URL del tráiler es válida\n",
        "df['trailer_url_valid'] = df['trailer.url'].apply(is_valid_url)"
      ]
    },
    {
      "cell_type": "code",
      "execution_count": null,
      "metadata": {
        "id": "f6oMxTFGInKy"
      },
      "outputs": [],
      "source": [
        "# Compruebo si tengo valores faltantes en el DataFrame\n",
        "missing_values = df.isnull().sum()\n",
        "if any(missing_values > 0):\n",
        "    print(missing_values[missing_values > 0])  # Imprimo las columnas que tienen valores faltantes y cuántos son"
      ]
    },
    {
      "cell_type": "code",
      "execution_count": null,
      "metadata": {
        "id": "zQQpaDbNIcii",
        "colab": {
          "base_uri": "https://localhost:8080/"
        },
        "outputId": "0f7ee5ed-8665-4fc9-ea74-63e6ea3f4039"
      },
      "outputs": [
        {
          "output_type": "stream",
          "name": "stdout",
          "text": [
            "   mal_id                                           url  approved  \\\n",
            "0       1  https://myanimelist.net/anime/1/Cowboy_Bebop      True   \n",
            "\n",
            "                                              titles         title  \\\n",
            "0  [{'type': 'Default', 'title': 'Cowboy Bebop'},...  Cowboy Bebop   \n",
            "\n",
            "  title_english title_japanese title_synonyms type    source  ...  \\\n",
            "0  Cowboy Bebop      カウボーイビバップ             []   TV  Original  ...   \n",
            "\n",
            "   aired.prop.to.day aired.prop.to.month  aired.prop.to.year  \\\n",
            "0                 24                   4                1999   \n",
            "\n",
            "                  aired.string broadcast.day  broadcast.time  \\\n",
            "0  Apr 3, 1998 to Apr 24, 1999     Saturdays           01:00   \n",
            "\n",
            "   broadcast.timezone          broadcast.string  aired_from_combined  \\\n",
            "0          Asia/Tokyo  Saturdays at 01:00 (JST)           1998-04-03   \n",
            "\n",
            "   aired_to_combined  \n",
            "0         1999-04-24  \n",
            "\n",
            "[1 rows x 61 columns]\n"
          ]
        }
      ],
      "source": [
        "# Imprimo las primeras filas de df_clean para verificar los cambios realizados\n",
        "print(df_clean.head())"
      ]
    },
    {
      "cell_type": "code",
      "execution_count": null,
      "metadata": {
        "id": "q82Cu4-PbFPY",
        "colab": {
          "base_uri": "https://localhost:8080/"
        },
        "outputId": "6431803b-2887-4d9b-de0b-55685e5b7928"
      },
      "outputs": [
        {
          "output_type": "stream",
          "name": "stdout",
          "text": [
            "<class 'pandas.core.frame.DataFrame'>\n",
            "RangeIndex: 1 entries, 0 to 0\n",
            "Data columns (total 60 columns):\n",
            " #   Column                            Non-Null Count  Dtype  \n",
            "---  ------                            --------------  -----  \n",
            " 0   mal_id                            1 non-null      int64  \n",
            " 1   url                               1 non-null      object \n",
            " 2   approved                          1 non-null      bool   \n",
            " 3   title                             1 non-null      object \n",
            " 4   title_english                     1 non-null      object \n",
            " 5   title_japanese                    1 non-null      object \n",
            " 6   title_synonyms                    1 non-null      object \n",
            " 7   type                              1 non-null      object \n",
            " 8   source                            1 non-null      object \n",
            " 9   episodes                          1 non-null      int64  \n",
            " 10  status                            1 non-null      object \n",
            " 11  airing                            1 non-null      bool   \n",
            " 12  duration                          1 non-null      object \n",
            " 13  rating                            1 non-null      object \n",
            " 14  score                             1 non-null      float64\n",
            " 15  scored_by                         1 non-null      int64  \n",
            " 16  rank                              1 non-null      int64  \n",
            " 17  popularity                        1 non-null      int64  \n",
            " 18  members                           1 non-null      int64  \n",
            " 19  favorites                         1 non-null      int64  \n",
            " 20  synopsis                          1 non-null      object \n",
            " 21  background                        1 non-null      object \n",
            " 22  season                            1 non-null      object \n",
            " 23  year                              1 non-null      int64  \n",
            " 24  producers                         1 non-null      object \n",
            " 25  licensors                         1 non-null      object \n",
            " 26  studios                           1 non-null      object \n",
            " 27  genres                            1 non-null      object \n",
            " 28  explicit_genres                   1 non-null      object \n",
            " 29  themes                            1 non-null      object \n",
            " 30  demographics                      1 non-null      object \n",
            " 31  images.jpg.image_url              1 non-null      object \n",
            " 32  images.jpg.small_image_url        1 non-null      object \n",
            " 33  images.jpg.large_image_url        1 non-null      object \n",
            " 34  images.webp.image_url             1 non-null      object \n",
            " 35  images.webp.small_image_url       1 non-null      object \n",
            " 36  images.webp.large_image_url       1 non-null      object \n",
            " 37  trailer.youtube_id                1 non-null      object \n",
            " 38  trailer.url                       1 non-null      object \n",
            " 39  trailer.embed_url                 1 non-null      object \n",
            " 40  trailer.images.image_url          1 non-null      object \n",
            " 41  trailer.images.small_image_url    1 non-null      object \n",
            " 42  trailer.images.medium_image_url   1 non-null      object \n",
            " 43  trailer.images.large_image_url    1 non-null      object \n",
            " 44  trailer.images.maximum_image_url  1 non-null      object \n",
            " 45  aired.from                        1 non-null      object \n",
            " 46  aired.to                          1 non-null      object \n",
            " 47  aired.prop.from.day               1 non-null      int64  \n",
            " 48  aired.prop.from.month             1 non-null      int64  \n",
            " 49  aired.prop.from.year              1 non-null      int64  \n",
            " 50  aired.prop.to.day                 1 non-null      int64  \n",
            " 51  aired.prop.to.month               1 non-null      int64  \n",
            " 52  aired.prop.to.year                1 non-null      int64  \n",
            " 53  aired.string                      1 non-null      object \n",
            " 54  broadcast.day                     1 non-null      object \n",
            " 55  broadcast.time                    1 non-null      object \n",
            " 56  broadcast.timezone                1 non-null      object \n",
            " 57  broadcast.string                  1 non-null      object \n",
            " 58  main_title                        1 non-null      object \n",
            " 59  trailer_url_valid                 1 non-null      bool   \n",
            "dtypes: bool(3), float64(1), int64(14), object(42)\n",
            "memory usage: 587.0+ bytes\n"
          ]
        }
      ],
      "source": [
        "df.info()"
      ]
    },
    {
      "cell_type": "markdown",
      "metadata": {
        "id": "q1v9XSKZ6rYw"
      },
      "source": [
        "# 8. Insights Generales"
      ]
    },
    {
      "cell_type": "code",
      "execution_count": null,
      "metadata": {
        "id": "4EVQ0itfzfCz",
        "colab": {
          "base_uri": "https://localhost:8080/",
          "height": 542
        },
        "outputId": "f096fc23-53f3-4cf9-a7b0-3bc0956bf9bc"
      },
      "outputs": [
        {
          "output_type": "stream",
          "name": "stderr",
          "text": [
            "<ipython-input-34-b5f59473ce02>:1: MatplotlibDeprecationWarning: The seaborn styles shipped by Matplotlib are deprecated since 3.6, as they no longer correspond to the styles shipped by seaborn. However, they will remain available as 'seaborn-v0_8-<style>'. Alternatively, directly use the seaborn API instead.\n",
            "  plt.style.use('seaborn-white')\n"
          ]
        },
        {
          "output_type": "display_data",
          "data": {
            "text/plain": [
              "<Figure size 640x480 with 1 Axes>"
            ],
            "image/png": "[encoded data removed]"
          },
          "metadata": {}
        }
      ],
      "source": [
        "plt.style.use('seaborn-white')\n",
        "pastel_palette = sns.color_palette(\"pastel\")\n",
        "anime_cleaned_df['type'].value_counts().plot(kind='bar', color=pastel_palette)\n",
        "\n",
        "plt.title(\"Anime Genres\", fontsize=16)\n",
        "plt.xlabel(\"Genres\", fontsize=10)\n",
        "plt.ylabel(\"Cantidad\", fontsize=10)\n",
        "\n",
        "plt.xticks(rotation='horizontal')\n",
        "\n",
        "plt.tight_layout()\n",
        "plt.show()"
      ]
    },
    {
      "cell_type": "markdown",
      "metadata": {
        "id": "bW5M7l0J1PGH"
      },
      "source": [
        "La mayoría de los titulos son producciones para TV, el resto son OVA ('Original video animation', producciones generalmente especiales de pocos o un solo episodio), luego especiales y peliculas, casi la misma cantidad. ONA ('Original net animation', producciones directamente creadas para internet) y en mucho menor medida animes musicales."
      ]
    },
    {
      "cell_type": "markdown",
      "metadata": {
        "id": "qfb1I0gL2DKm"
      },
      "source": []
    },
    {
      "cell_type": "markdown",
      "metadata": {
        "id": "rau9BKnp7vVt"
      },
      "source": [
        "Veamos la popularidad de los top 10 animes de todos los tiempos, con mayor cantidad de episodios:"
      ]
    },
    {
      "cell_type": "code",
      "execution_count": null,
      "metadata": {
        "id": "gw9bqqEakBeq",
        "colab": {
          "base_uri": "https://localhost:8080/",
          "height": 542
        },
        "outputId": "3e848e9d-7ccd-489d-d697-2bf8aa007961"
      },
      "outputs": [
        {
          "output_type": "display_data",
          "data": {
            "text/plain": [
              "<Figure size 2000x800 with 1 Axes>"
            ],
            "image/png": "[encoded data removed]"
          },
          "metadata": {}
        }
      ],
      "source": [
        "def get_top_animes_with_most_episodes(page=1):\n",
        "    url = f\"https://api.jikan.moe/v4/anime?order_by=episodes&sort=desc&page={page}\"\n",
        "    response = requests.get(url)\n",
        "\n",
        "    if response.status_code == 200:\n",
        "        data = response.json()\n",
        "        return data.get(\"data\")\n",
        "    else:\n",
        "        return []\n",
        "\n",
        "def get_anime_popularity(anime_id):\n",
        "    time.sleep(2)  # retraso para respetar la API\n",
        "    url = f\"https://api.jikan.moe/v4/anime/{anime_id}/statistics\"\n",
        "    response = requests.get(url)\n",
        "\n",
        "    if response.status_code == 200:\n",
        "        data = response.json()\n",
        "        return data.get(\"data\", {}).get(\"statistics\", {}).get(\"popularity\")\n",
        "    else:\n",
        "        return None\n",
        "\n",
        "def main():\n",
        "    top_animes = get_top_animes_with_most_episodes()\n",
        "\n",
        "    # Creo un df para los datos\n",
        "    df = pd.DataFrame({\n",
        "        'Title': [anime['title'] for anime in top_animes],\n",
        "        'Episodes': [anime['episodes'] for anime in top_animes],\n",
        "        'Popularity': [get_anime_popularity(anime['mal_id']) for anime in top_animes],\n",
        "        'Favorites': [anime['favorites'] for anime in top_animes],\n",
        "    }).head(10)\n",
        "\n",
        "    # Visualización con un gráfico de barras\n",
        "    plt.figure(figsize=(20, 8))\n",
        "    bars = plt.barh(df['Title'], df['Episodes'], color=sns.color_palette(\"viridis\", len(df)))\n",
        "\n",
        "    # Añado la popularidad como tamaño de las barras\n",
        "    for bar, popularity in zip(bars, df['Popularity']):\n",
        "        bar.set_alpha(0.6)\n",
        "        bar.set_linewidth(2)\n",
        "        bar.set_edgecolor('black')\n",
        "        bar.set_zorder(3)\n",
        "        bar.set_label(f'Popularity: {popularity}')\n",
        "\n",
        "    # Añado etiquetas con la cantidad de episodios\n",
        "    for i, (episodes, title) in enumerate(zip(df['Episodes'], df['Title'])):\n",
        "        plt.text(episodes, i, f' {episodes} episodes', va='center')\n",
        "\n",
        "    # ajusto el límite del eje x y margen derecho\n",
        "    max_episodes = df['Episodes'].max()\n",
        "    plt.xlim(0, max_episodes + 200)  # buffer adicional para el texto\n",
        "    plt.subplots_adjust(right=1)  # ajuste de margen derecho para acomodar el texto\n",
        "\n",
        "\n",
        "    plt.xlabel('Número of episodios')\n",
        "    plt.title('Top 10 Animes con Más Episodios')\n",
        "    plt.gca().invert_yaxis()\n",
        "    plt.tight_layout()\n",
        "    plt.show()\n",
        "\n",
        "if __name__ == \"__main__\":\n",
        "    main()\n"
      ]
    },
    {
      "cell_type": "markdown",
      "metadata": {
        "id": "nrxgEJ-3R7jm"
      },
      "source": [
        "No hay una relación aparente entre la cantidad de episodios, al menos positiva, y los favoritos (popularidad) de los animes. El unico a destacar es Doraemon, un anime muy popular, orientado a niños."
      ]
    },
    {
      "cell_type": "markdown",
      "metadata": {
        "id": "Ef2PnYyHyCEz"
      },
      "source": [
        "¿Cómo ha sido la evolución de lanzamientos de titulos a través de las décadas?"
      ]
    },
    {
      "cell_type": "code",
      "execution_count": null,
      "metadata": {
        "id": "elj0EWIstGze",
        "colab": {
          "base_uri": "https://localhost:8080/",
          "height": 542
        },
        "outputId": "66bb7c27-9975-4747-e224-4f68e655de01"
      },
      "outputs": [
        {
          "output_type": "display_data",
          "data": {
            "text/html": [
              "<html>\n",
              "<head><meta charset=\"utf-8\" /></head>\n",
              "<body>\n",
              "    <div>            <script src=\"https://cdnjs.cloudflare.com/ajax/libs/mathjax/2.7.5/MathJax.js?config=TeX-AMS-MML_SVG\"></script><script type=\"text/javascript\">if (window.MathJax && window.MathJax.Hub && window.MathJax.Hub.Config) {window.MathJax.Hub.Config({SVG: {font: \"STIX-Web\"}});}</script>                <script type=\"text/javascript\">window.PlotlyConfig = {MathJaxConfig: 'local'};</script>\n",
              "        <script charset=\"utf-8\" src=\"https://cdn.plot.ly/plotly-2.24.1.min.js\"></script>                <div id=\"1b2f37a1-74f0-4ec0-b92e-b502ba8deafb\" class=\"plotly-graph-div\" style=\"height:525px; width:100%;\"></div>            <script type=\"text/javascript\">                                    window.PLOTLYENV=window.PLOTLYENV || {};                                    if (document.getElementById(\"1b2f37a1-74f0-4ec0-b92e-b502ba8deafb\")) {                    Plotly.newPlot(                        \"1b2f37a1-74f0-4ec0-b92e-b502ba8deafb\",                        [{\"alignmentgroup\":\"True\",\"bingroup\":\"x\",\"hovertemplate\":\"type=TV\\u003cbr\\u003eaired_from_year=%{x}\\u003cbr\\u003ecount=%{y}\\u003cextra\\u003e\\u003c\\u002fextra\\u003e\",\"legendgroup\":\"TV\",\"marker\":{\"color\":\"#636efa\",\"pattern\":{\"shape\":\"\"},\"line\":{\"color\":\"rgba(255,255,255,1)\",\"width\":3}},\"name\":\"TV\",\"nbinsx\":10,\"offsetgroup\":\"TV\",\"orientation\":\"v\",\"showlegend\":true,\"x\":[2012.0,2007.0,2008.0,2002.0,2012.0,2009.0,2003.0,2007.0,2008.0,2006.0,2008.0,2010.0,2011.0,2012.0,2004.0,2002.0,2009.0,2007.0,1989.0,2008.0,2011.0,2004.0,2008.0,2013.0,2006.0,2011.0,2008.0,2011.0,2009.0,2011.0,2010.0,1992.0,2001.0,2006.0,1999.0,2005.0,2006.0,2007.0,2000.0,2010.0,2010.0,2006.0,2012.0,2010.0,2007.0,2012.0,1998.0,2000.0,2011.0,2011.0,2007.0,2008.0,2006.0,2016.0,2002.0,2016.0,2016.0,2008.0,2015.0,2018.0,2001.0,2010.0,2010.0,2016.0,2014.0,2013.0,2017.0,2017.0,1997.0,2015.0,2018.0,2006.0,2014.0,2008.0,2014.0,2012.0,1987.0,2017.0,2017.0,2018.0,1995.0,2017.0,2015.0,2013.0,2017.0,2011.0,2006.0,2011.0,2009.0,2017.0,2013.0,2014.0,2016.0,2004.0,2014.0,1998.0,2009.0,2011.0,1978.0,2015.0,2016.0,2003.0,2015.0,1971.0,2015.0,2010.0,2001.0,2014.0,1983.0,2016.0,2013.0,2008.0,2007.0,2012.0,2009.0,2012.0,2017.0,2010.0,2007.0,2013.0,2004.0,2004.0,1978.0,2006.0,2017.0,2004.0,2009.0,2010.0,2018.0,2003.0,2015.0,2009.0,2012.0,2017.0,2011.0,2015.0,2016.0,2016.0,2004.0,2009.0,2009.0,2007.0,2010.0,2014.0,2018.0,1987.0,2014.0,2018.0,2001.0,2003.0,2010.0,2006.0,2006.0,2018.0,1999.0,2007.0,1996.0,2014.0,1998.0,2015.0,2009.0,2018.0,1998.0,2011.0,2007.0,2002.0,2016.0,2015.0,2002.0,2001.0,1977.0,2000.0,2012.0,1986.0,2008.0,2005.0,2006.0,2013.0,2015.0,2013.0,2012.0,2017.0,2004.0,2006.0,2017.0,2011.0,2013.0,2016.0,2013.0,2012.0,1976.0,1980.0,2010.0,2006.0,2016.0,1997.0,2017.0,1997.0,1995.0,2016.0,2015.0,2013.0,2009.0,2018.0,2006.0,2010.0,2007.0,1997.0,2008.0,1998.0,2013.0,2004.0,2009.0,2007.0,2009.0,1988.0,2017.0,1985.0,2012.0,2009.0,2004.0,1995.0,2013.0,2003.0,2013.0,2003.0,1990.0,2002.0,2008.0,2018.0,2011.0,2018.0,2005.0,2007.0,2017.0,2012.0,2016.0,2015.0,2004.0,2014.0,2004.0,2012.0,2013.0,2015.0,2015.0,2015.0,2001.0,2008.0,2012.0,2013.0,2009.0,2000.0,1969.0,2005.0,2007.0,2002.0,2018.0,2011.0,2007.0,2018.0,2015.0,2018.0,2007.0,2004.0,2008.0,2000.0,2006.0,1984.0,2006.0,2016.0,2014.0,2004.0,1989.0,2010.0,2015.0,2011.0,1984.0,2014.0,2009.0,2006.0,2010.0,2012.0,1990.0,2015.0,1996.0,1982.0,2016.0,1995.0,2014.0,1994.0,2012.0,2010.0,1999.0,2012.0,1980.0,2016.0,2015.0,2013.0,2011.0,1985.0,1976.0,1998.0,1972.0,1992.0,2018.0,2008.0,2009.0,1985.0,1999.0,2011.0,1984.0,2002.0,2005.0,2009.0,2003.0,2007.0,2012.0,2016.0,2005.0,1978.0,2017.0,1992.0,2014.0,2017.0,2012.0,2002.0,2018.0,1974.0,2001.0,2013.0,2002.0,2004.0,2004.0,1997.0,2013.0,2010.0,2016.0,2000.0,1999.0,2017.0,2010.0,2017.0,2007.0,2014.0,2006.0,2018.0,2012.0,2006.0,2009.0,2015.0,2002.0,2017.0,2018.0,1996.0,2016.0,2006.0,2018.0,2009.0,2004.0,2016.0,1999.0,2017.0,2013.0,2002.0,1989.0,2013.0,2016.0,2006.0,2007.0,2014.0,2005.0,1975.0,2015.0,2015.0,2012.0,2015.0,2016.0,2014.0,1998.0,2016.0,1976.0,2010.0,2013.0,2015.0,2005.0,2018.0,2004.0,2013.0,2017.0,2007.0,2005.0,2007.0,2013.0,2017.0,2017.0,2014.0,2016.0,1998.0,1999.0,2002.0,2014.0,2017.0,2013.0,1977.0,2017.0,1987.0,2013.0,1996.0,2017.0,2008.0,2010.0,2016.0,2010.0,2018.0,2016.0,2013.0,2001.0,2009.0,2006.0,1994.0,2014.0,2004.0,2015.0,2003.0,2016.0,2016.0,2005.0,2018.0,2008.0,2011.0,2015.0,1998.0,2016.0,2015.0,2006.0,2015.0,2015.0,1966.0,2016.0,2006.0,2017.0,2007.0,2016.0,2009.0,2006.0,2015.0,2013.0,2018.0,2006.0,2013.0,2014.0,2002.0,2016.0,1997.0,2010.0,2012.0,2005.0,2007.0,2017.0,2009.0,2001.0,1987.0,2008.0,2012.0,2001.0,2011.0,2009.0,2018.0,2008.0,2011.0,2000.0,1981.0,2010.0,1984.0,2009.0,1976.0,2011.0,2018.0,2016.0,2018.0,2010.0,1973.0,2003.0,2015.0,1980.0,2015.0,2014.0,1995.0,2015.0,1998.0,2015.0,2008.0,2007.0,2012.0,2014.0,1981.0,2017.0,2007.0,2014.0,2012.0,2013.0,2005.0,2015.0,2015.0,1984.0,2011.0,2016.0,2017.0,2012.0,2013.0,1995.0,2015.0,2013.0,2009.0,2002.0,2016.0,2016.0,1999.0,2011.0,1985.0,1999.0,2006.0,2012.0,2005.0,1998.0,2017.0,2007.0,2013.0,2004.0,2007.0,2006.0,1963.0,1998.0,2015.0,2017.0,2016.0,2010.0,2016.0,1991.0,2008.0,2007.0,2011.0,2001.0,2007.0,1997.0,2015.0,2010.0,2003.0,1987.0,1997.0,2013.0,2005.0,2008.0,2016.0,2002.0,2016.0,2015.0,2014.0,2003.0,1993.0,2013.0,2004.0,2017.0,2008.0,2015.0,2009.0,1999.0,2004.0,2015.0,1993.0,2005.0,2015.0,2017.0,1998.0,2008.0,1998.0,2016.0,2014.0,2012.0,2015.0,2003.0,1994.0,2012.0,2002.0,1981.0,2012.0,2018.0,1994.0,2001.0,2013.0,2008.0,2002.0,2014.0,2008.0,2003.0,2007.0,2014.0,2017.0,1965.0,2017.0,2013.0,1989.0,2011.0,2004.0,2016.0,2013.0,2015.0,2017.0,2011.0,1987.0,2012.0,2000.0,2001.0,2010.0,2012.0,2008.0,2016.0,2011.0,2018.0,2002.0,2016.0,2014.0,2017.0,2015.0,2015.0,2016.0,1974.0,1999.0,2014.0,2005.0,2016.0,2009.0,2017.0,1977.0,2018.0,1986.0,2013.0,1983.0,1999.0,2013.0,2014.0,2005.0,2016.0,2016.0,2006.0,2004.0,2008.0,2014.0,2015.0,2005.0,2016.0,1989.0,1999.0,1994.0,2016.0,2016.0,2015.0,2011.0,2002.0,2008.0,2017.0,2015.0,2009.0,1999.0,2014.0,1994.0,2012.0,1995.0,2018.0,2009.0,2006.0,1998.0,2007.0,2016.0,2014.0,2008.0,2008.0,1996.0,2018.0,2016.0,2006.0,2003.0,2010.0,2014.0,2011.0,2017.0,2017.0,2018.0,2013.0,2010.0,2017.0,2008.0,1996.0,2018.0,2011.0,2017.0,2004.0,2016.0,2010.0,2012.0,2016.0,1997.0,2012.0,2007.0,2011.0,2009.0,2006.0,1974.0,2018.0,1988.0,2003.0,1992.0,2009.0,2014.0,1994.0,2010.0,2014.0,2009.0,2013.0,1963.0,2007.0,2017.0,2015.0,2000.0,1973.0,2003.0,2011.0,2005.0,2005.0,2016.0,1969.0,2017.0,2009.0,2015.0,1989.0,2014.0,1993.0,2007.0,2014.0,1991.0,2012.0,2018.0,1983.0,2003.0,2015.0,1976.0,2014.0,2006.0,2006.0,2000.0,1986.0,2016.0,1996.0,2002.0,2007.0,2014.0,2001.0,1990.0,2017.0,2016.0,2001.0,2012.0,2001.0,1999.0,2015.0,2016.0,2015.0,2004.0,2014.0,2017.0,1981.0,2014.0,2014.0,2008.0,2012.0,2009.0,2017.0,2005.0,2014.0,2017.0,2010.0,2011.0,2014.0,2001.0,2011.0,2017.0,2015.0,2015.0,2016.0,2014.0,2011.0,2007.0,2006.0,2012.0,2003.0,1997.0,1990.0,2008.0,1998.0,2001.0,1990.0,2010.0,2016.0,2011.0,2008.0,1981.0,2007.0,2015.0,2015.0,1992.0,2008.0,2001.0,2012.0,2017.0,2006.0,2007.0,1973.0,2017.0,2006.0,2016.0,2016.0,2009.0,2017.0,1969.0,2011.0,1980.0,1984.0,2011.0,2004.0,1984.0,2007.0,2014.0,1983.0,2003.0,2017.0,2012.0,1991.0,1999.0,2014.0,2014.0,1978.0,2012.0,1992.0,2013.0,1990.0,2014.0,2007.0,2015.0,1973.0,1980.0,2018.0,2003.0,2007.0,2000.0,2002.0,2012.0,2003.0,2006.0,2012.0,2014.0,2012.0,2015.0,2008.0,2011.0,2010.0,2005.0,1991.0,2008.0,2013.0,1999.0,2005.0,2017.0,2006.0,2012.0,1976.0,2015.0,2014.0,2016.0,2008.0,1979.0,2008.0,1999.0,2016.0,2012.0,2015.0,1990.0,2003.0,2017.0,1984.0,1981.0,2015.0,2010.0,2014.0,1997.0,1999.0,2017.0,2007.0,2012.0,2013.0,2018.0,1984.0,1991.0,2017.0,2012.0,2014.0,2016.0,2015.0,2002.0,1981.0,1997.0,2010.0,2014.0,2014.0,2015.0,2009.0,2013.0,2017.0,1984.0,1974.0,2009.0,2007.0,2017.0,1986.0,2003.0,2001.0,2002.0,2017.0,2009.0,2015.0,1981.0,2018.0,1999.0,2015.0,2001.0,2015.0,1985.0,2003.0,2013.0,2018.0,2000.0,2018.0,2015.0,2010.0,2015.0,2004.0,2011.0,2005.0,2014.0,2007.0,1996.0,2005.0,2014.0,2000.0,2014.0,2007.0,2010.0,2015.0,2015.0,2017.0,2003.0,2015.0,2001.0,2000.0,1998.0,1979.0,2018.0,2018.0,2013.0,2017.0,2016.0,1998.0,2017.0,2017.0,2017.0,2003.0,1998.0,1990.0,2004.0,2010.0,2007.0,2005.0,2015.0,1993.0,2009.0,2003.0,2006.0,2008.0,2000.0,2007.0,2009.0,1976.0,2017.0,2017.0,1975.0,2016.0,2005.0,2017.0,2001.0,2015.0,1998.0,2012.0,2010.0,2008.0,2006.0,2004.0,2009.0,2005.0,2008.0,1997.0,2017.0,1992.0,2008.0,1972.0,2012.0,2005.0,2009.0,2005.0,2014.0,2000.0,2017.0,2011.0,2016.0,1995.0,2012.0,2005.0,2008.0,1998.0,2011.0,2008.0,2018.0,1981.0,2017.0,2015.0,2008.0,2009.0,2018.0,2008.0,1997.0,2003.0,2002.0,2004.0,2005.0,2008.0,1984.0,2018.0,2013.0,2013.0,2015.0,2003.0,2011.0,1997.0,2009.0,2016.0,2006.0,2001.0,2013.0,1999.0,2017.0,2002.0,2015.0,2016.0,2016.0,2012.0,2003.0,1983.0,2004.0,2016.0,2001.0,2015.0,2017.0,2009.0,2014.0,2001.0,2015.0,2013.0,2006.0,2013.0,2013.0,2007.0,1999.0,2014.0,2003.0,2016.0,2016.0,2010.0,1983.0,1992.0,2009.0,2005.0,1999.0,2002.0,2015.0,1989.0,2015.0,1995.0,2008.0,2010.0,2000.0,2016.0,2016.0,2011.0,2003.0,2012.0,2006.0,2010.0,1999.0,2016.0,1989.0,2003.0,2011.0,2017.0,1995.0,1998.0,2007.0,2001.0,2012.0,2014.0,1988.0,2011.0,1994.0,2006.0,2008.0,2017.0,2004.0,1997.0,2017.0,1999.0,2005.0,2018.0,2011.0,2008.0,2015.0,2016.0,2012.0,2016.0,2013.0,2008.0,2015.0,2011.0,2004.0,2010.0,2017.0,1999.0,2015.0,2017.0,2009.0,2018.0,2016.0,2013.0,2004.0,2013.0,1977.0,2016.0,2017.0,1997.0,2003.0,2000.0,2017.0,1974.0,2014.0,2017.0,1987.0,2011.0,2005.0,2011.0,2012.0,1979.0,2003.0,1990.0,1977.0,2006.0,2006.0,2018.0,2015.0,2004.0,2007.0,1990.0,2014.0,1988.0,2009.0,2016.0,2014.0,2006.0,1985.0,1994.0,2011.0,2014.0,2011.0,1999.0,2013.0,2010.0,2000.0,2016.0,2012.0,2009.0,2016.0,2008.0,2013.0,1993.0,1976.0,2017.0,2009.0,2016.0,2007.0,1998.0,2017.0,2006.0,2000.0,2005.0,2014.0,2014.0,2002.0,2000.0,2013.0,2014.0,1984.0,2009.0,2007.0,2011.0,2013.0,2012.0,1995.0,2014.0,2009.0,2017.0,1969.0,2006.0,2007.0,2006.0,2012.0,2014.0,2018.0,2014.0,2006.0,2011.0,1978.0,2014.0,2004.0,2010.0,2002.0,2007.0,2008.0,2004.0,2014.0,2018.0,2010.0,2011.0,2012.0,2016.0,2018.0,2002.0,2014.0,1984.0,2017.0,2013.0,1997.0,2016.0,2015.0,1996.0,2001.0,2010.0,2016.0,1984.0,2013.0,2004.0,2015.0,1998.0,2015.0,2000.0,2009.0,1975.0,2008.0,2006.0,2011.0,2004.0,2014.0,2004.0,2000.0,2003.0,2016.0,2012.0,2013.0,2017.0,2016.0,2013.0,2005.0,2015.0,2014.0,1992.0,2009.0,2007.0,2004.0,2014.0,1974.0,2006.0,2015.0,2017.0,2009.0,2013.0,1969.0,2015.0,2017.0,2007.0,2011.0,2013.0,1986.0,2004.0,2009.0,2005.0,2016.0,2004.0,2007.0,2017.0,2004.0,2018.0,2006.0,2014.0,2005.0,2017.0,1982.0,2016.0,2012.0,2009.0,2016.0,2016.0,1999.0,2000.0,2012.0,2011.0,2016.0,2016.0,2010.0,2016.0,1995.0,2017.0,2007.0,1997.0,1992.0,2017.0,2017.0,2008.0,2002.0,2018.0,2008.0,2016.0,1994.0,2015.0,1979.0,2010.0,2009.0,1985.0,2008.0,2017.0,2014.0,1968.0,2012.0,2016.0,2018.0,1982.0,1998.0,2012.0,2009.0,2011.0,2016.0,2016.0,2015.0,2005.0,1997.0,1981.0,2014.0,2012.0,2018.0,2018.0,2006.0,1990.0,2012.0,2015.0,1984.0,2011.0,2015.0,2014.0,2017.0,2017.0,2001.0,1981.0,1985.0,2015.0,2012.0,2017.0,2013.0,2004.0,2014.0,1990.0,2007.0,2012.0,1991.0,2012.0,2002.0,2013.0,2016.0,2016.0,2018.0,2013.0,1991.0,2003.0,2016.0,2016.0,2017.0,2011.0,2017.0,1991.0,2014.0,2016.0,1995.0,1998.0,1985.0,1998.0,2004.0,2015.0,1996.0,2011.0,2017.0,1974.0,2010.0,1983.0,1994.0,2013.0,2004.0,1999.0,2009.0,2017.0,1984.0,1984.0,2012.0,1996.0,2001.0,2015.0,2016.0,2014.0,2001.0,1980.0,2002.0,2005.0,2016.0,2004.0,1998.0,2006.0,2006.0,2012.0,2010.0,2003.0,1996.0,1985.0,1998.0,2006.0,2015.0,2016.0,2006.0,2017.0,1997.0,2011.0,2005.0,2007.0,1993.0,2007.0,2000.0,2016.0,1997.0,1980.0,2017.0,2009.0,2012.0,2016.0,2000.0,2012.0,2014.0,2017.0,2010.0,2017.0,1995.0,2017.0,1995.0,2004.0,2002.0,2015.0,2011.0,2000.0,2010.0,2014.0,2017.0,1994.0,2005.0,2008.0,2010.0,2015.0,1979.0,2017.0,2018.0,2014.0,2017.0,2015.0,2006.0,1996.0,2017.0,2015.0,2011.0,2014.0,1999.0,2016.0,2016.0,2012.0,2015.0,2016.0,2018.0,1984.0,2017.0,2009.0,2018.0,2012.0,2002.0,2016.0,2016.0,1995.0,2017.0,2009.0,2014.0,2013.0,2011.0,2016.0,1999.0,2001.0,2002.0,2016.0,2013.0,2016.0,1999.0,2005.0,1998.0,2013.0,2016.0,2010.0,2005.0,2010.0,2009.0,2016.0,1998.0,2015.0,2007.0,2009.0,2006.0,2001.0,2017.0,1978.0,1973.0,2018.0,2018.0,2013.0,2016.0,2013.0,1983.0,1979.0,2015.0,2006.0,2011.0,2001.0,1992.0,1984.0,2017.0,2018.0,1983.0,2014.0,2013.0,2015.0,2005.0,2018.0,2005.0,2013.0,2002.0,2015.0,2008.0,2016.0,2015.0,2011.0,2016.0,2014.0,2017.0,2007.0,1977.0,2003.0,1994.0,2011.0,2017.0,2014.0,2001.0,2007.0,2007.0,2004.0,2011.0,2017.0,2012.0,2008.0,2002.0,2015.0,2006.0,2009.0,2013.0,2002.0,2015.0,2003.0,1995.0,1986.0,2003.0,2004.0,1999.0,2017.0,2006.0,2007.0,2005.0,2016.0,2013.0,2016.0,2001.0,2017.0,2003.0,2014.0,2017.0,2006.0,1998.0,2008.0,2017.0,2012.0,2015.0,1986.0,2002.0,2013.0,2017.0,1996.0,2007.0,2014.0,2015.0,2015.0,2007.0,1996.0,2017.0,2016.0,2011.0,1981.0,1990.0,2016.0,2016.0,2006.0,2008.0,2015.0,1977.0,1998.0,2016.0,2012.0,1992.0,2004.0,2013.0,2006.0,2005.0,2014.0,2012.0,1986.0,2004.0,2016.0,2014.0,2014.0,2016.0,2017.0,2017.0,2013.0,2004.0,2007.0,2008.0,1989.0,2008.0,2014.0,2017.0,2016.0,2015.0,2009.0,2008.0,2017.0,1988.0,2014.0,2016.0,2015.0,2016.0,2015.0,1985.0,2011.0,2018.0,2018.0,2012.0,2007.0,2002.0,1971.0,2018.0,2001.0,2008.0,2017.0,2011.0,2018.0,2016.0,1986.0,2003.0,2017.0,2016.0,2008.0,2018.0,1983.0,2007.0,2008.0,1999.0,2015.0,1996.0,1963.0,2005.0,2002.0,2015.0,2005.0,2013.0,2017.0,2017.0,1982.0,1970.0,2004.0,2014.0,2013.0,2017.0,2009.0,2016.0,1974.0,2006.0,1997.0,2016.0,1995.0,1986.0,2016.0,1968.0,2014.0,2007.0,2011.0,2014.0,2016.0,2015.0,2010.0,2012.0,2003.0,2002.0,2015.0,2008.0,2014.0,2005.0,2008.0,2017.0,2017.0,2006.0,2006.0,2007.0,1998.0,2017.0,1986.0,2012.0,2015.0,2012.0,2017.0,2000.0,2014.0,1998.0,1992.0,2012.0,1990.0,2010.0,1974.0,2005.0,2017.0,2017.0,2008.0,2012.0,2013.0,2006.0,2016.0,2018.0,2015.0,2015.0,2009.0,2018.0,2013.0,1972.0,2013.0,2002.0,2014.0,1968.0,1985.0,2006.0,2015.0,2014.0,2007.0,1999.0,2002.0,2014.0,2006.0,2012.0,2007.0,1996.0,2015.0,2007.0,2008.0,2002.0,2014.0,2005.0,2015.0,2015.0,2017.0,2015.0,2009.0,2004.0,2006.0,1999.0,2014.0,2005.0,1996.0,2017.0,2012.0,2008.0,1988.0,2012.0,2010.0,1987.0,2018.0,1982.0,2017.0,2002.0,2010.0,2017.0,2015.0,2014.0,2017.0,2006.0,1999.0,2016.0,2011.0,2015.0,2004.0,2008.0,2015.0,2013.0,1999.0,2017.0,2014.0,1967.0,2017.0,2014.0,2013.0,2001.0,2016.0,1971.0,2011.0,2004.0,2017.0,2006.0,2012.0,2012.0,1982.0,1998.0,2015.0,2016.0,2002.0,2009.0,1987.0,2007.0,2003.0,2010.0,2007.0,2008.0,1998.0,2011.0,1984.0,2017.0,1992.0,2010.0,2015.0,2016.0,2014.0,2001.0,2014.0,1980.0,2015.0,2016.0,2013.0,2014.0,2014.0,2016.0,2005.0,2016.0,2014.0,2004.0,2011.0,2009.0,2006.0,2014.0,2015.0,2013.0,2017.0,1975.0,2004.0,2014.0,2011.0,2005.0,2010.0,2006.0,2000.0,2015.0,2016.0,2007.0,1970.0,2015.0,2014.0,1999.0,2002.0,2005.0,2002.0,2014.0,1982.0,2007.0,2018.0,2007.0,2013.0,2009.0,2011.0,2014.0,2012.0,2012.0,1998.0,2017.0,1995.0,2015.0,2004.0,2001.0,1989.0,2017.0,2011.0,2017.0,2016.0,1998.0,2018.0,2014.0,2003.0,2006.0,2009.0,1983.0,2005.0,2010.0,2010.0,2006.0,1996.0,1983.0,2008.0,2012.0,1974.0,2015.0,2016.0,2018.0,2017.0,2016.0,2005.0,2017.0,2012.0,1996.0,2003.0,1999.0,2018.0,2017.0,2002.0,2016.0,1976.0,2003.0,1998.0,2017.0,2011.0,2011.0,2011.0,2000.0,2016.0,2007.0,1976.0,2016.0,2007.0,2011.0,2004.0,2014.0,2009.0,2017.0,1977.0,2016.0,2014.0,2001.0,2001.0,1989.0,1999.0,2006.0,2009.0,1974.0,2011.0,2008.0,2006.0,2017.0,2012.0,2010.0,2003.0,1995.0,2004.0,2011.0,2009.0,2003.0,2016.0,1996.0,2015.0,1988.0,1983.0,1998.0,2006.0,2014.0,2012.0,2007.0,2015.0,2018.0,1989.0,1969.0,2016.0,2004.0,2016.0,2007.0,2001.0,2003.0,2016.0,2001.0,2006.0,2017.0,2004.0,2017.0,2016.0,2017.0,2009.0,2002.0,2015.0,2005.0,2008.0,2014.0,1982.0,2013.0,2016.0,2014.0,2010.0,1998.0,2007.0,2016.0,1991.0,2012.0,2006.0,2010.0,1996.0,1994.0,2015.0,2008.0,2010.0,2001.0,2007.0,2012.0,2012.0,2016.0,2013.0,2007.0,2009.0,1979.0,2006.0,2001.0,2016.0,1970.0,2016.0,2011.0,1995.0,2013.0,2016.0,2009.0,2005.0,2017.0,2017.0,2011.0,2005.0,2009.0,2017.0,2013.0,2014.0,2006.0,1982.0,2013.0,2008.0,2015.0,2003.0,2014.0,2011.0,2003.0,2004.0,1996.0,2014.0,2016.0,1979.0,2016.0,2017.0,1988.0,2012.0,2013.0,2013.0,2013.0,2015.0,2006.0,2010.0,2014.0,2015.0,2013.0,2015.0,2004.0,2012.0,2010.0,2018.0,2009.0,2008.0,2018.0,2018.0,2015.0,2000.0,1993.0,2009.0,2001.0,2013.0,2006.0,2005.0,2014.0,2010.0,2016.0,1999.0,2005.0,2006.0,2001.0,2015.0,2006.0,2013.0,2015.0,2013.0,2015.0,2006.0,2011.0,2005.0,2017.0,2010.0,2007.0,2016.0,2002.0,2014.0,1999.0,2012.0,2009.0,2002.0,1971.0,2007.0,2003.0,1991.0,2016.0,2014.0,2017.0,2012.0,2018.0,2014.0,2014.0,2013.0,1990.0,2001.0,1984.0,2006.0,2014.0,2003.0,2015.0,1977.0,2007.0,2011.0,2006.0,2014.0,2002.0,2018.0,2018.0,2009.0,2005.0,2018.0,2011.0,2014.0,2017.0,2018.0,2013.0,2003.0,2015.0,1992.0,2010.0,2000.0,1986.0,2014.0,2004.0,2016.0,2017.0,1983.0,1992.0,2015.0,2009.0,2010.0,1987.0,1972.0,2008.0,1995.0,2010.0,2005.0,2013.0,2017.0,2011.0,2015.0,1996.0,1973.0,1993.0,1980.0,2014.0,1982.0,1977.0,2001.0,2015.0,2017.0,2018.0,2016.0,1989.0,2012.0,2005.0,2016.0,2003.0,1972.0,1995.0,2014.0,2013.0,2004.0,2015.0,2003.0,2005.0,2017.0,2014.0,1986.0,2015.0,2011.0,2016.0,1963.0,1986.0,2012.0,1989.0,2015.0,2018.0,2012.0,2013.0,2016.0,2011.0,2010.0,2016.0,2011.0,2012.0,2002.0,1991.0,1998.0,2015.0,2008.0,2015.0,2007.0,2002.0,2003.0,2004.0,2007.0,2013.0,1977.0,2009.0,2001.0,2011.0,2002.0,2006.0,2013.0,2009.0,2007.0,2017.0,1998.0,2003.0,2009.0,2007.0,1988.0,2014.0,2012.0,1978.0,2001.0,2010.0,1993.0,2013.0,2017.0,2011.0,1999.0,2017.0,2016.0,2002.0,2015.0,2016.0,2006.0,2017.0,2013.0,2009.0,2008.0,2009.0,1987.0,2015.0,2005.0,2007.0,2001.0,2013.0,2009.0,2011.0,1975.0,1997.0,2009.0,1998.0,2014.0,2013.0,2010.0,2012.0,2012.0,2012.0,2004.0,1983.0,2015.0,2011.0,2009.0,1978.0,2018.0,1996.0,2011.0,2013.0,2017.0,2009.0,2017.0,2005.0,2018.0,1981.0,2008.0,2016.0,1983.0,2005.0,2007.0,1988.0,2006.0,2006.0,2018.0,2013.0,2006.0,2014.0,2016.0,2007.0,1999.0,2010.0,2017.0,2014.0,2008.0,2005.0,2015.0,1991.0,2008.0,2011.0,2001.0,2000.0,2008.0,2002.0,1984.0,2004.0,2011.0,1998.0,2018.0,1988.0,1981.0,1981.0,2005.0,2017.0,2013.0,2008.0,2017.0,2008.0,1998.0,2007.0,2014.0,2000.0,1997.0,2013.0,2016.0,2005.0,1983.0,2000.0,2016.0,2016.0,1998.0,2007.0,2004.0,2007.0,2015.0,2016.0,2009.0,1998.0,2009.0,2015.0,2017.0,2008.0,2017.0,2000.0,2001.0,1996.0,2013.0,2016.0,2014.0,2013.0,2013.0,2008.0,2006.0,1979.0,2006.0,2018.0,1988.0,2013.0,2013.0,2017.0,1982.0,2016.0,2016.0,1996.0,2015.0,1986.0,2001.0,2017.0,2006.0,2016.0,2002.0,1969.0,2002.0,2010.0,2018.0,2014.0,2008.0,2015.0,2015.0,2013.0,2017.0,1992.0,2011.0,2006.0,2018.0,1998.0,2017.0,2000.0,1993.0,2015.0,2001.0,2009.0,2018.0,2018.0,2008.0,2010.0,2013.0,2009.0,2016.0,2005.0,2012.0,2014.0,2017.0,2009.0,1988.0,2010.0,2004.0,1991.0,2008.0,2017.0,2016.0,2013.0,2003.0,2000.0,2006.0,2004.0,1981.0,2016.0,2013.0,2004.0,2012.0,1978.0,2016.0,2010.0,1975.0,2007.0,2018.0,2016.0,2011.0,2017.0,2011.0,2010.0,2009.0,2017.0,2007.0,2017.0,1994.0,2016.0,1997.0,2014.0,2016.0,2016.0,2007.0,2015.0,2005.0,1994.0,1991.0,2018.0,2000.0,2009.0,2015.0,1999.0,2015.0,2014.0,2012.0,2015.0,2016.0,2015.0,2008.0,2015.0,2017.0,2016.0,2008.0,2015.0,2017.0,2013.0,2001.0,1988.0,1979.0,2004.0,2012.0,2004.0,2014.0,2016.0,2004.0,2012.0,1999.0,2008.0,2018.0,2017.0,1986.0,2009.0,2000.0,2007.0,2003.0,1989.0,2012.0,2004.0,2011.0,1997.0,2016.0,2016.0,2009.0,1981.0,2013.0,2009.0,2009.0,2015.0,2003.0,2010.0,2015.0,2015.0,2016.0,2016.0,2006.0,2008.0,2008.0,2015.0,2009.0,2015.0,2014.0,2000.0,2016.0,2017.0,2017.0,1998.0,2016.0,1995.0,2016.0,2008.0,2004.0,2004.0,2016.0,2011.0,2013.0,2018.0,2014.0,2015.0,2014.0,2008.0,2013.0,2007.0,2017.0,2016.0,2003.0,2014.0,2014.0,2009.0,2018.0,2011.0,1987.0,2016.0,2006.0,2010.0,2011.0,1994.0,2001.0,2013.0,2013.0,2009.0,2016.0,2005.0,2005.0,2006.0,2014.0,1992.0,2005.0,2012.0,2008.0,2013.0,2014.0,2010.0,2004.0,1996.0,2002.0,2008.0,2014.0,1996.0,2012.0,2013.0,2004.0,2007.0,2008.0,2018.0,2011.0,2018.0,2012.0,2016.0,2016.0,2009.0,2013.0,2004.0,2016.0,2015.0,1986.0,2016.0,1992.0,2014.0,2016.0,2002.0,2009.0,2017.0,2014.0,2015.0,2004.0,2001.0,2016.0,1975.0,2012.0,1999.0,2015.0,2016.0,2014.0,2006.0,2018.0,2006.0,2015.0,2013.0,2015.0,1991.0,2016.0,2005.0,1996.0,2012.0,2015.0,2012.0,2001.0,2002.0,2017.0,2013.0,2001.0,1995.0,2003.0,2005.0,2014.0,2014.0,2011.0,2003.0,2015.0,2016.0,2005.0,2004.0,2003.0,2011.0,2007.0,2010.0,1998.0,2014.0,1999.0,1999.0,2015.0,2016.0,1997.0,2012.0,2018.0,2011.0,1991.0,2002.0,2008.0,2007.0,2010.0,2008.0,2012.0,2013.0,2003.0,1993.0,2014.0,1983.0,1999.0,2017.0,2003.0,2013.0,2008.0,2011.0,1999.0,1999.0,2005.0,2014.0,2005.0,1993.0,1974.0,2012.0,2018.0,2013.0,2005.0,2012.0,2012.0,2004.0,2003.0,2016.0,2004.0,2008.0,2015.0,1999.0,2010.0,2009.0,2012.0,1967.0,2016.0,2000.0,2018.0,1995.0,2016.0,2005.0,2004.0,2016.0,1989.0,2014.0,1982.0,2004.0,2018.0,2018.0,2014.0,2015.0,2012.0,2007.0,2000.0,2007.0,2004.0,2014.0,2015.0,2010.0,2015.0,1994.0,2016.0,2004.0,1973.0,2011.0,2014.0,2016.0,2018.0,2018.0,1978.0,1994.0,2017.0,2018.0,2001.0,2001.0,2017.0,2006.0,1994.0,2005.0,2011.0,2006.0,2007.0,2016.0,2017.0,2006.0,2012.0,2003.0,2009.0,2015.0,2006.0,2015.0,2007.0,2012.0,2017.0,2016.0,2014.0,2002.0,1993.0,2006.0,2018.0,2014.0,2013.0,2006.0,1987.0,1991.0,2008.0,2009.0,2014.0,2007.0,2000.0,2009.0,2013.0,2015.0,2011.0,2015.0,1979.0,1995.0,2011.0,2003.0,2004.0,2016.0,2017.0,2016.0,2017.0,2010.0,2016.0,2016.0,2001.0,2012.0,2004.0,2006.0,2018.0,2015.0,2007.0,2009.0,2017.0,2010.0,2005.0,2006.0,2006.0,2012.0,2012.0,1998.0,2006.0,1999.0,2001.0,2013.0,2003.0,2008.0,2009.0,2011.0,2006.0,2014.0,2010.0,2008.0,2007.0,1998.0,2007.0,1999.0,2017.0,2014.0,1988.0,2016.0,2006.0,2007.0,1987.0,2017.0,1976.0,2017.0,2013.0,2003.0,1989.0,2014.0,2002.0,1984.0,1969.0,2013.0,2004.0,2011.0,2011.0,2014.0,2004.0,2012.0,2008.0,2013.0,2014.0,2016.0,2015.0,2004.0,2008.0,1988.0,1977.0,1996.0,2015.0,2017.0,1984.0,2005.0,2010.0,2007.0,2012.0,2009.0,2016.0,1994.0,2016.0,1981.0,1998.0,2014.0,2016.0,1990.0,1977.0,2007.0,2017.0,2011.0,2006.0,2001.0,1966.0,2007.0,2006.0,2018.0,1997.0,2015.0,2016.0,2003.0,2008.0,2013.0,2012.0,2015.0,2009.0,2006.0,2008.0,2013.0,2017.0,2014.0,2017.0,1967.0,2010.0,2018.0,2009.0,2013.0,2009.0,2010.0,1981.0,2018.0,2002.0,2017.0,2015.0,2005.0,2004.0,2001.0],\"xaxis\":\"x\",\"yaxis\":\"y\",\"type\":\"histogram\"},{\"alignmentgroup\":\"True\",\"bingroup\":\"x\",\"hovertemplate\":\"type=OVA\\u003cbr\\u003eaired_from_year=%{x}\\u003cbr\\u003ecount=%{y}\\u003cextra\\u003e\\u003c\\u002fextra\\u003e\",\"legendgroup\":\"OVA\",\"marker\":{\"color\":\"#EF553B\",\"pattern\":{\"shape\":\"\"},\"line\":{\"color\":\"rgba(255,255,255,1)\",\"width\":3}},\"name\":\"OVA\",\"nbinsx\":10,\"offsetgroup\":\"OVA\",\"orientation\":\"v\",\"showlegend\":true,\"x\":[2017.0,2015.0,1998.0,1997.0,1994.0,2010.0,2005.0,2004.0,2015.0,2017.0,2011.0,2012.0,2013.0,2012.0,2014.0,2014.0,2000.0,2016.0,2006.0,2017.0,1999.0,1986.0,2009.0,2004.0,1993.0,1989.0,1989.0,2007.0,1988.0,1991.0,1996.0,2012.0,2009.0,2006.0,1985.0,2011.0,1990.0,2002.0,2002.0,2002.0,2009.0,2012.0,2016.0,2012.0,2006.0,1999.0,2011.0,1986.0,2012.0,2015.0,2016.0,2010.0,2011.0,2004.0,1990.0,1987.0,1994.0,1997.0,2016.0,2012.0,2004.0,1997.0,2013.0,2012.0,2001.0,2008.0,2002.0,2014.0,2012.0,2009.0,1991.0,1994.0,2007.0,2014.0,2010.0,2016.0,2005.0,2010.0,2002.0,2009.0,1992.0,1992.0,1999.0,2007.0,1988.0,2008.0,2016.0,2013.0,2007.0,2011.0,1986.0,1991.0,2012.0,2005.0,2013.0,1994.0,1997.0,1998.0,2012.0,2007.0,1994.0,2009.0,2015.0,1991.0,1999.0,2004.0,2007.0,1991.0,2004.0,1990.0,2011.0,2010.0,2000.0,1991.0,2015.0,2012.0,2016.0,1989.0,2001.0,2010.0,2012.0,1992.0,2009.0,2009.0,2011.0,2007.0,2009.0,2017.0,2008.0,2016.0,2015.0,1989.0,2015.0,2002.0,2006.0,2009.0,1996.0,2005.0,1990.0,2012.0,2001.0,2001.0,1987.0,2010.0,2017.0,2004.0,2008.0,1991.0,2011.0,2011.0,1994.0,2012.0,1985.0,2011.0,2007.0,2016.0,2012.0,1994.0,2001.0,1993.0,1990.0,2002.0,1989.0,2005.0,1989.0,1996.0,2009.0,1987.0,2006.0,1991.0,2016.0,2002.0,1996.0,2006.0,2014.0,2015.0,1995.0,2004.0,2001.0,1989.0,1995.0,2017.0,1998.0,1985.0,2014.0,1987.0,2008.0,2007.0,2008.0,2007.0,2007.0,1993.0,2008.0,2006.0,1993.0,2002.0,2008.0,1993.0,2011.0,1990.0,2008.0,2014.0,2013.0,2011.0,1995.0,2005.0,1986.0,1991.0,2006.0,2014.0,2003.0,2016.0,1998.0,1988.0,2014.0,1992.0,2017.0,1992.0,1991.0,2012.0,2012.0,1987.0,2010.0,2004.0,1987.0,2010.0,2018.0,2012.0,2017.0,2003.0,2016.0,2015.0,2008.0,1987.0,2013.0,1988.0,2016.0,2009.0,2007.0,2016.0,2002.0,2003.0,2016.0,2017.0,2012.0,2009.0,2014.0,2017.0,1990.0,2010.0,2014.0,2005.0,1995.0,1994.0,2010.0,2014.0,2010.0,2014.0,2014.0,2013.0,2014.0,2009.0,1988.0,2007.0,1990.0,2012.0,2000.0,1999.0,2005.0,1993.0,2002.0,2014.0,2015.0,1988.0,2002.0,2010.0,2010.0,2017.0,2011.0,2015.0,1998.0,2009.0,1999.0,2011.0,2012.0,2012.0,1983.0,2016.0,2015.0,2014.0,2011.0,2015.0,2013.0,2003.0,2009.0,2014.0,2017.0,2010.0,1991.0,2005.0,2001.0,2005.0,1992.0,2011.0,2013.0,2003.0,2010.0,2010.0,2016.0,2001.0,2017.0,2016.0,2013.0,2015.0,2003.0,2015.0,2017.0,1991.0,2015.0,2000.0,1996.0,2002.0,2002.0,2009.0,2015.0,2001.0,2015.0,2012.0,2009.0,2009.0,1992.0,2011.0,2010.0,1985.0,1990.0,2009.0,2013.0,1987.0,2018.0,1999.0,2009.0,2006.0,1989.0,2001.0,2002.0,2016.0,1987.0,1986.0,1992.0,1996.0,2007.0,2015.0,2006.0,2013.0,2012.0,2001.0,2011.0,2012.0,2007.0,2018.0,2006.0,2012.0,1998.0,2006.0,2004.0,2016.0,2010.0,1993.0,2008.0,1985.0,1991.0,2009.0,2015.0,2016.0,2016.0,1994.0,2014.0,1986.0,1994.0,2010.0,2005.0,1993.0,1992.0,2007.0,2004.0,2010.0,1992.0,2015.0,2007.0,2001.0,2010.0,2010.0,1994.0,2002.0,2012.0,2003.0,2011.0,2006.0,2017.0,2010.0,2017.0,2010.0,2002.0,2014.0,2015.0,1991.0,2000.0,2015.0,2011.0,2012.0,1995.0,1990.0,2017.0,2013.0,1999.0,2007.0,2017.0,1997.0,2008.0,2015.0,2015.0,2014.0,1987.0,2013.0,2005.0,1989.0,1996.0,2008.0,2008.0,1996.0,1990.0,2006.0,2015.0,1996.0,2010.0,2015.0,1993.0,2009.0,2012.0,2002.0,2017.0,2016.0,1994.0,2010.0,2005.0,1990.0,2014.0,2012.0,2015.0,2011.0,1991.0,2014.0,2016.0,2009.0,1995.0,2003.0,2006.0,2011.0,2004.0,1989.0,2010.0,2011.0,2004.0,2003.0,2002.0,2006.0,2017.0,2010.0,1995.0,1996.0,2013.0,2014.0,2007.0,2009.0,1991.0,1992.0,2015.0,2014.0,2004.0,2005.0,2001.0,2003.0,2011.0,2015.0,2015.0,2012.0,1995.0,2015.0,1999.0,2001.0,2014.0,2013.0,2013.0,2004.0,2008.0,1989.0,2002.0,2009.0,2003.0,2008.0,1992.0,1993.0,1991.0,2017.0,2001.0,1986.0,2013.0,2007.0,1990.0,2008.0,1989.0,2004.0,2012.0,1993.0,2010.0,2003.0,2013.0,2015.0,2013.0,2004.0,2017.0,2004.0,1987.0,1994.0,1991.0,2016.0,2016.0,2012.0,2007.0,2003.0,2013.0,2009.0,1985.0,2005.0,2016.0,2016.0,1989.0,2011.0,2013.0,2010.0,2010.0,2012.0,2015.0,2015.0,2007.0,1987.0,2005.0,2010.0,2013.0,2015.0,2001.0,1988.0,2012.0,1995.0,2010.0,1988.0,1999.0,2004.0,2000.0,1994.0,2012.0,2017.0,2001.0,2007.0,2007.0,2014.0,1995.0,2007.0,2016.0,2008.0,1989.0,1992.0,2006.0,1989.0,2012.0,2013.0,2013.0,2016.0,2015.0,2005.0,1995.0,2009.0,2004.0,1996.0,1995.0,1997.0,2014.0,2004.0,2016.0,2011.0,2002.0,2009.0,2018.0,1994.0,2015.0,2005.0,2012.0,2011.0,2017.0,2011.0,1999.0,2011.0,2013.0,2004.0,2017.0,2001.0,1986.0,2006.0,1993.0,2009.0,2007.0,2012.0,2014.0,1991.0,2002.0,1996.0,1994.0,1993.0,2003.0,2013.0,1985.0,1993.0,2005.0,2018.0,2003.0,1990.0,1989.0,2009.0,2003.0,2003.0,1992.0,2005.0,2004.0,2015.0,2014.0,1996.0,2006.0,2009.0,1986.0,2012.0,1989.0,2012.0,1986.0,1998.0,1993.0,2008.0,2008.0,2017.0,2008.0,1995.0,1995.0,2013.0,2011.0,1996.0,2014.0,2010.0,1994.0,2012.0,1987.0,2012.0,2013.0,2009.0,2011.0,1997.0,2015.0,2009.0,1995.0,2013.0,2016.0,2011.0,1996.0,2011.0,1989.0,2007.0,1996.0,2006.0,2005.0,2014.0,2017.0,2014.0,1988.0,2015.0,2006.0,2004.0,2010.0,2017.0,2009.0,2002.0,2007.0,2012.0,2013.0,1991.0,2014.0,2014.0,2009.0,2003.0,2016.0,2009.0,2003.0,1999.0,1997.0,2005.0,1991.0,1994.0,2015.0,1997.0,2014.0,2012.0,1990.0,2010.0,1987.0,2003.0,2010.0,2010.0,2008.0,1987.0,2006.0,1987.0,1989.0,2007.0,1992.0,1996.0,2003.0,2005.0,2006.0,2007.0,2004.0,1990.0,2017.0,1998.0,2004.0,2007.0,1992.0,1993.0,1988.0,2016.0,1991.0,2002.0,2004.0,2013.0,2005.0,2002.0,2009.0,2018.0,2001.0,1994.0,1998.0,2006.0,2015.0,1993.0,1995.0,1991.0,2016.0,2017.0,1988.0,1998.0,1989.0,1989.0,1987.0,1992.0,2001.0,1991.0,1993.0,1989.0,2010.0,2013.0,1996.0,2017.0,2010.0,2009.0,2016.0,2008.0,2005.0,2015.0,1993.0,1998.0,1999.0,2004.0,1996.0,1991.0,2013.0,2013.0,1995.0,1989.0,2003.0,2002.0,2003.0,2012.0,2006.0,1996.0,2005.0,2011.0,1985.0,1986.0,2002.0,1990.0,1992.0,2004.0,2017.0,2007.0,2015.0,1998.0,2009.0,2015.0,2011.0,2001.0,2016.0,1994.0,1988.0,1997.0,2006.0,2014.0,2007.0,1990.0,2016.0,2007.0,1989.0,1990.0,2007.0,2007.0,2017.0,1987.0,2015.0,2011.0,1993.0,2013.0,2006.0,1986.0,2011.0,1998.0,2007.0,2009.0,2015.0,2011.0,1994.0,1994.0,1997.0,2014.0,2016.0,2014.0,2005.0,2011.0,2010.0,2008.0,2013.0,2016.0,1993.0,2011.0,2016.0,2012.0,2007.0,2014.0,2004.0,2009.0,2014.0,2008.0,1990.0,2013.0,2011.0,2010.0,1991.0,1987.0,2010.0,2015.0,2008.0,2016.0,1994.0,2018.0,2013.0,2011.0,1995.0,2005.0,2017.0,1993.0,2015.0,2004.0,2012.0,1993.0,1991.0,2012.0,1994.0,2010.0,1993.0,2011.0,1997.0,2010.0,2014.0,2007.0,1986.0,2003.0,2011.0,2017.0,1994.0,1994.0,2012.0,1987.0,2007.0,2017.0,1996.0,2008.0,2007.0,2012.0,1998.0,2016.0,2010.0,2000.0,2016.0,1988.0,2007.0,1991.0,2001.0,2008.0,2012.0,2015.0,1997.0,2012.0,2011.0,2016.0,1991.0,2014.0,2012.0,2003.0,2009.0,1990.0,2015.0,2014.0,2006.0,2010.0,1994.0,1992.0,1990.0,1991.0,2008.0,2004.0,2007.0,2011.0,1995.0,2012.0,2017.0,2003.0,2016.0,2007.0,1994.0,1989.0,2013.0,2015.0,2012.0,2003.0,2017.0,2010.0,2004.0,2007.0,1992.0,2004.0,1995.0,2018.0,2010.0,2010.0,2015.0,2016.0,2007.0,2013.0,2006.0,2015.0,1984.0,2014.0,2016.0,2015.0,2010.0,2004.0,1990.0,2005.0,1990.0,2016.0,1994.0,2010.0,1986.0,2017.0,2006.0,1990.0,2000.0,1970.0,1996.0,2015.0,2008.0,2015.0,2017.0,1998.0,2014.0,2005.0,2015.0,2017.0,2010.0,2005.0,2010.0,1991.0,2011.0,2002.0,2014.0,2017.0,2000.0,2017.0,2002.0,2008.0,1993.0,2003.0,2013.0,2000.0,1996.0,1986.0,1989.0,1989.0,2011.0,1990.0,1999.0,1992.0,2016.0,2002.0,1987.0,2001.0,2014.0,2010.0,1988.0,2015.0,1996.0,1996.0,2013.0,1999.0,2013.0,2014.0,2015.0,2011.0,1992.0,1989.0,2003.0,2013.0,2010.0,2011.0,2006.0,2008.0,2003.0,2016.0,1994.0,2000.0,1989.0,2007.0,2009.0,2016.0,2003.0,2006.0,2011.0,2001.0,2012.0,2011.0,1998.0,2008.0,1998.0,2013.0,1993.0,2010.0,2016.0,1991.0,1996.0,2007.0,2011.0,2010.0,2005.0,2010.0,2010.0,2004.0,2017.0,1996.0,1985.0,2015.0,1991.0,2001.0,2003.0,1989.0,1983.0,2010.0,1996.0,2003.0,2013.0,1989.0,1992.0,2015.0,2016.0,2013.0,2007.0,2015.0,1998.0,2009.0,2016.0,2011.0,1987.0,1987.0,2008.0,2004.0,2009.0,1996.0,2010.0,2017.0,2012.0,1990.0,2005.0,1992.0,2014.0,2009.0,2015.0,2018.0,1985.0,2012.0,2003.0,1986.0,2011.0,2004.0,2010.0,2005.0,1997.0,2013.0,2012.0,2016.0,2010.0,2018.0,2004.0,2009.0,2010.0,2009.0,2012.0,2011.0,1990.0,2012.0,1997.0,2002.0,1988.0,1994.0,2005.0,2011.0,2014.0,1993.0,2007.0,1985.0,1983.0,1996.0,2015.0,2013.0,2012.0,2013.0,1988.0,2004.0,2015.0,1992.0,2011.0,2004.0,2007.0,2012.0,2014.0,2014.0,2012.0,2016.0,2015.0,2010.0,2007.0,2009.0,2016.0,1992.0,1993.0,2012.0,2016.0,2011.0,2014.0,2015.0,2004.0,2007.0,2008.0,1987.0,1991.0,2009.0,2011.0,2013.0,2014.0,2016.0,2008.0,1997.0,2010.0,2016.0,2005.0,1991.0,1991.0,2003.0,2007.0,2010.0,2011.0,2015.0,2016.0,2014.0,1993.0,1992.0,1987.0,2018.0,2014.0,2016.0,2016.0,1991.0,2014.0,2008.0,1995.0,2002.0,2010.0,1987.0,2009.0,2006.0,1997.0,2010.0,1988.0,1989.0,2004.0,2011.0,2002.0,2006.0,2014.0,2001.0,2012.0,1988.0,2012.0,2002.0,2004.0,1988.0,1997.0,2015.0,2017.0,1987.0,2011.0,1988.0,2002.0,2011.0,2011.0,2000.0,2016.0,1996.0,2001.0,2001.0,2013.0,1996.0,2017.0,1995.0,2005.0,2014.0,2011.0,2016.0,1994.0,2002.0,2007.0,2018.0,1988.0,2016.0,2010.0,2000.0,2002.0,2012.0,1986.0,2006.0,2007.0,2001.0,2006.0,1994.0,2008.0,2012.0,2015.0,2010.0,2011.0,2012.0,2017.0,2007.0,1991.0,1989.0,2005.0,2002.0,1992.0,2017.0,1996.0,1989.0,1998.0,2015.0,2002.0,2014.0,2008.0,2005.0,2005.0,1985.0,1986.0,2008.0,1997.0,2010.0,2012.0,1991.0,2016.0,2014.0,2015.0,2014.0,1987.0,2010.0,2016.0,1991.0,2017.0,2002.0,2011.0,2010.0,2013.0,2011.0,2008.0,2001.0,1992.0,2018.0,1991.0,2011.0,1997.0,1989.0,1990.0,2010.0,1986.0,2003.0,2006.0,2013.0,2013.0,1991.0,2008.0,2014.0,1991.0,2016.0,2015.0,2004.0,2004.0,2013.0,2000.0,2012.0,2014.0,1985.0,2013.0,1986.0,2018.0,2018.0,2018.0,2015.0,2017.0],\"xaxis\":\"x\",\"yaxis\":\"y\",\"type\":\"histogram\"},{\"alignmentgroup\":\"True\",\"bingroup\":\"x\",\"hovertemplate\":\"type=Special\\u003cbr\\u003eaired_from_year=%{x}\\u003cbr\\u003ecount=%{y}\\u003cextra\\u003e\\u003c\\u002fextra\\u003e\",\"legendgroup\":\"Special\",\"marker\":{\"color\":\"#00cc96\",\"pattern\":{\"shape\":\"\"},\"line\":{\"color\":\"rgba(255,255,255,1)\",\"width\":3}},\"name\":\"Special\",\"nbinsx\":10,\"offsetgroup\":\"Special\",\"orientation\":\"v\",\"showlegend\":true,\"x\":[2011.0,2000.0,2010.0,2016.0,2014.0,2011.0,1982.0,2008.0,2003.0,1988.0,2000.0,1981.0,1999.0,2009.0,2013.0,2010.0,2014.0,2017.0,2011.0,2015.0,2010.0,2010.0,2005.0,2000.0,2003.0,2013.0,2013.0,2008.0,2012.0,2014.0,2009.0,2011.0,2016.0,2017.0,2004.0,2016.0,2001.0,2003.0,2011.0,2008.0,2015.0,2011.0,2006.0,2011.0,2002.0,2017.0,2016.0,1992.0,2016.0,2009.0,2018.0,2017.0,2011.0,1997.0,1998.0,2015.0,2013.0,2010.0,2016.0,2015.0,2008.0,2014.0,2017.0,2014.0,2018.0,2005.0,1998.0,1999.0,2011.0,2005.0,2016.0,2016.0,2016.0,2017.0,2014.0,2013.0,1999.0,2011.0,2010.0,1999.0,2014.0,2016.0,1997.0,2015.0,2010.0,2018.0,2018.0,2001.0,2016.0,2009.0,2010.0,2006.0,1982.0,2010.0,2006.0,2013.0,2015.0,2008.0,2010.0,2009.0,2017.0,2003.0,2017.0,2010.0,2016.0,2014.0,1988.0,2009.0,2003.0,1997.0,2013.0,2017.0,2010.0,2018.0,2005.0,2014.0,2011.0,2015.0,2013.0,2008.0,2012.0,2014.0,2004.0,2017.0,2003.0,2009.0,2016.0,2011.0,2009.0,2013.0,2013.0,2016.0,2009.0,2006.0,2014.0,2000.0,2014.0,2014.0,2006.0,2007.0,2012.0,2001.0,1991.0,2002.0,2012.0,2012.0,2010.0,1988.0,2009.0,2011.0,2017.0,2017.0,2000.0,2003.0,2005.0,2001.0,2010.0,2014.0,2016.0,2014.0,2017.0,2013.0,2005.0,2007.0,2016.0,2016.0,2014.0,2003.0,2018.0,2009.0,2011.0,2011.0,1996.0,2006.0,2012.0,2016.0,2016.0,2012.0,2018.0,2007.0,2013.0,2009.0,2017.0,2006.0,2013.0,2014.0,2013.0,2012.0,1989.0,1993.0,2017.0,2001.0,2004.0,2017.0,2015.0,2014.0,1982.0,2011.0,2016.0,1982.0,2011.0,2006.0,2017.0,2005.0,1991.0,2002.0,2010.0,2005.0,1981.0,2016.0,2011.0,2012.0,2013.0,2015.0,2011.0,2010.0,2006.0,1964.0,2017.0,2014.0,1987.0,2007.0,2014.0,2010.0,2012.0,2008.0,2013.0,1992.0,2005.0,2010.0,2003.0,2014.0,2014.0,2005.0,2015.0,2009.0,2009.0,2014.0,2007.0,2008.0,2015.0,2017.0,2014.0,1999.0,2011.0,1995.0,2011.0,2013.0,2015.0,2004.0,2015.0,2009.0,2003.0,2003.0,2005.0,2014.0,2015.0,2007.0,2009.0,1984.0,2010.0,2004.0,2006.0,2015.0,2017.0,2017.0,2001.0,2014.0,2015.0,2015.0,2014.0,2016.0,2013.0,2012.0,2011.0,2018.0,2013.0,2016.0,2009.0,2008.0,2008.0,2016.0,2016.0,2013.0,2012.0,2014.0,2014.0,2014.0,2017.0,2013.0,2016.0,2015.0,2007.0,2016.0,2009.0,2012.0,2014.0,2014.0,2013.0,2015.0,2016.0,2016.0,2001.0,2011.0,2009.0,2006.0,2012.0,2017.0,2006.0,2016.0,2016.0,2007.0,2004.0,2015.0,2008.0,2009.0,2015.0,2001.0,2012.0,2005.0,2007.0,2014.0,2010.0,2014.0,2009.0,2014.0,2013.0,2011.0,2015.0,2015.0,2010.0,1991.0,2017.0,2013.0,2012.0,2006.0,2013.0,2014.0,2010.0,2016.0,2015.0,2017.0,2008.0,2003.0,1994.0,2007.0,1999.0,2010.0,1980.0,2013.0,2007.0,2011.0,2012.0,2009.0,2007.0,2016.0,2016.0,2008.0,2016.0,2013.0,2017.0,1986.0,2014.0,2008.0,2011.0,2017.0,2017.0,2006.0,2015.0,2012.0,2008.0,2010.0,2015.0,2006.0,2010.0,2013.0,2016.0,2010.0,2008.0,2010.0,2018.0,2011.0,2003.0,2015.0,2009.0,2010.0,2015.0,2016.0,2007.0,2011.0,2006.0,2005.0,2003.0,2008.0,2010.0,2016.0,2003.0,2011.0,2014.0,2007.0,2015.0,2010.0,2014.0,2016.0,2013.0,2010.0,2014.0,2016.0,2015.0,2013.0,2001.0,2011.0,2004.0,2005.0,2013.0,2006.0,2006.0,2011.0,2006.0,2014.0,2002.0,2006.0,2015.0,2008.0,2013.0,2016.0,1999.0,2012.0,1999.0,2015.0,2014.0,1985.0,2012.0,2014.0,2011.0,2007.0,2011.0,1997.0,2018.0,2017.0,2010.0,2007.0,2007.0,2015.0,2014.0,2002.0,2014.0,2012.0,2015.0,2018.0,2008.0,2010.0,2013.0,2001.0,2017.0,2007.0,2016.0,2006.0,2002.0,2006.0,2008.0,2015.0,2001.0,1987.0,2008.0,2015.0,2003.0,2015.0,2017.0,2013.0,2016.0,2007.0,2010.0,2009.0,2017.0,1972.0,2016.0,2009.0,2017.0,2009.0,2010.0,2017.0,2010.0,2011.0,2009.0,1993.0,2006.0,2012.0,2006.0,2017.0,2018.0,2015.0,2009.0,1981.0,2010.0,2009.0,2011.0,2002.0,2016.0,2017.0,2005.0,2004.0,2009.0,2009.0,2016.0,2004.0,2015.0,2012.0,2015.0,2017.0,2005.0,2010.0,2011.0,2014.0,2016.0,2011.0,2013.0,2013.0,2008.0,2011.0,2011.0,2000.0,2015.0,2012.0,2014.0,2013.0,2014.0,2015.0,1983.0,2012.0,2014.0,2015.0,2000.0,2010.0,2011.0,2017.0,2007.0,2016.0,2015.0,2005.0,2014.0,1990.0,2008.0,2017.0,2012.0,2010.0,1997.0,2010.0,2009.0,2010.0,2017.0,2010.0,1987.0,2005.0,2016.0,2009.0,2010.0,2011.0,2018.0,2017.0,2015.0,2007.0,2017.0,2003.0,2015.0,2014.0,2017.0,2007.0,2015.0,2005.0,2013.0,2005.0,2016.0,2017.0,2018.0,2007.0,2017.0,2009.0,2017.0,2010.0,2004.0,2011.0,2011.0,2004.0,2015.0,2015.0,2016.0,2006.0,2007.0,2014.0,2006.0,2008.0,2001.0,2013.0,1988.0,1981.0,2015.0,1987.0,2016.0,2015.0,1998.0,2014.0,2015.0,1996.0,2009.0,2015.0,2012.0,2011.0,2005.0,2008.0,1981.0,2014.0,2016.0,1998.0,2005.0,2009.0,2010.0,1997.0,2015.0,1984.0,2005.0,2016.0,2003.0,1997.0,2014.0,2015.0,2009.0,2012.0,2012.0,2009.0,2000.0,2009.0,2008.0,2012.0,2006.0,2015.0,2007.0,2003.0,2008.0,2009.0,2009.0,2012.0,1987.0,2003.0,2011.0,2013.0,2007.0,2005.0,2013.0,2016.0,2008.0,2007.0,2006.0,2016.0,2010.0,2014.0,2008.0,2017.0,2002.0,2016.0,1991.0,2016.0,2018.0,2006.0,2003.0,2014.0,2010.0,2011.0,2012.0,2011.0,2014.0,2015.0,2017.0,2014.0,1992.0,2016.0,2010.0,2017.0,2015.0,2013.0,2012.0,2003.0,2013.0,2014.0,2015.0,2003.0,2015.0,2008.0,2016.0,2016.0,1979.0,2014.0,2014.0,2016.0,2013.0,2007.0,2013.0,2009.0,2010.0,2012.0,2009.0,2012.0,1996.0,2016.0,2003.0,2008.0,2010.0,2016.0,2015.0,2010.0,2016.0,2018.0,1981.0,2015.0,2003.0,2003.0,2016.0,2012.0,2012.0,1992.0,2016.0,2010.0,2011.0,2016.0,2007.0,1993.0,2008.0,2008.0,2015.0,2008.0,2016.0,2011.0,2015.0,2010.0,2014.0,2014.0,2006.0,2014.0,2013.0,1994.0,2014.0,2014.0,2012.0,1993.0,2015.0,2007.0,2009.0,2014.0,2013.0,1998.0,1985.0,2012.0,2009.0,2014.0,2016.0,2012.0,2013.0,2013.0,2013.0,2005.0,2009.0,2008.0,2017.0,2011.0,2012.0,2008.0,2012.0,2010.0,2015.0,2001.0,2018.0,2003.0,2011.0,2015.0,2013.0,2013.0,2015.0,2017.0,2004.0,2009.0,2015.0,2012.0,2015.0,2009.0,1993.0,1997.0,2012.0,2009.0,2012.0,2012.0,2014.0,1998.0,2014.0,2017.0,2001.0,2012.0,2013.0,1995.0,2008.0,2015.0,2016.0,1999.0,2009.0,2015.0,2012.0,2015.0,2014.0,2012.0,2016.0,2003.0,2015.0,2015.0,2010.0,2005.0,2012.0,2016.0,2017.0,2010.0,2005.0,2009.0,2016.0,2009.0,2012.0,2009.0,2010.0,2012.0,2018.0,2006.0,2014.0,2016.0,2016.0,2007.0,2013.0,2008.0,2011.0,2008.0,2015.0,2015.0,2015.0,2014.0,2017.0,2016.0,2009.0,2002.0,2006.0,1981.0,2004.0,2006.0,2017.0,2010.0,2013.0,2009.0,2018.0,1992.0,2010.0,2016.0,2014.0,2011.0,2017.0,2012.0,2013.0,2017.0,2010.0,1995.0,2016.0,2013.0,2016.0,2005.0,2012.0,2008.0,2009.0,2006.0,1982.0,2003.0,2009.0,2012.0,2016.0,2014.0,2010.0,2011.0,2016.0,2007.0,2012.0,2016.0,2017.0,2005.0,2004.0,2016.0,2004.0,2016.0,2017.0,2014.0,2009.0,2009.0,2016.0,2003.0,2010.0,2008.0,1996.0,2017.0,2014.0,2003.0,2016.0,2009.0,2008.0,2003.0,2012.0,2009.0,2010.0,2002.0,2005.0,2009.0,2017.0,2011.0,2015.0,2003.0,2013.0,2011.0,2016.0,2006.0,2010.0,2009.0,2014.0,2015.0,2014.0,2002.0,2018.0,2018.0,2018.0],\"xaxis\":\"x\",\"yaxis\":\"y\",\"type\":\"histogram\"},{\"alignmentgroup\":\"True\",\"bingroup\":\"x\",\"hovertemplate\":\"type=ONA\\u003cbr\\u003eaired_from_year=%{x}\\u003cbr\\u003ecount=%{y}\\u003cextra\\u003e\\u003c\\u002fextra\\u003e\",\"legendgroup\":\"ONA\",\"marker\":{\"color\":\"#ab63fa\",\"pattern\":{\"shape\":\"\"},\"line\":{\"color\":\"rgba(255,255,255,1)\",\"width\":3}},\"name\":\"ONA\",\"nbinsx\":10,\"offsetgroup\":\"ONA\",\"orientation\":\"v\",\"showlegend\":true,\"x\":[2016.0,2007.0,2017.0,2009.0,2018.0,2009.0,2008.0,2016.0,2017.0,2015.0,2017.0,2018.0,2017.0,2009.0,2014.0,2016.0,2017.0,2017.0,2016.0,2011.0,2015.0,2014.0,2011.0,2016.0,2013.0,2016.0,2014.0,2005.0,2010.0,2008.0,2014.0,2005.0,2011.0,2017.0,2015.0,2014.0,2012.0,2016.0,2013.0,2016.0,2008.0,2016.0,2012.0,2017.0,2017.0,2013.0,2016.0,2015.0,2007.0,2015.0,2015.0,2018.0,2015.0,2015.0,2015.0,2016.0,2017.0,2016.0,2015.0,2015.0,2012.0,2016.0,2017.0,2015.0,2015.0,2017.0,2017.0,2017.0,2016.0,2016.0,2017.0,2016.0,2016.0,2016.0,2014.0,2003.0,2014.0,2016.0,2015.0,2013.0,2009.0,2018.0,2015.0,2014.0,2012.0,2014.0,2004.0,2017.0,2015.0,2018.0,2009.0,2016.0,2014.0,2013.0,2012.0,2017.0,2012.0,2009.0,2014.0,2014.0,2012.0,2016.0,2017.0,2017.0,2018.0,2017.0,2017.0,2013.0,2013.0,2010.0,2015.0,2017.0,2016.0,2013.0,2016.0,2016.0,2009.0,2012.0,2016.0,2017.0,2010.0,2015.0,2012.0,2010.0,2014.0,2013.0,2018.0,2011.0,2016.0,2016.0,2016.0,2016.0,2017.0,2018.0,2014.0,2017.0,2017.0,2011.0,2016.0,2013.0,2012.0,2018.0,2017.0,2016.0,2015.0,2011.0,2014.0,2015.0,2016.0,2001.0,2008.0,2015.0,2010.0,2015.0,2018.0,2015.0,2015.0,2012.0,2014.0,2014.0,2015.0,2012.0,2016.0,2015.0,2017.0,2016.0,2014.0,2016.0,2012.0,2014.0,2012.0,2011.0,2016.0,2016.0,2016.0,2016.0,2010.0,2016.0,2015.0,2009.0,2007.0,2013.0,2017.0,2006.0,2017.0,2018.0,2016.0,2014.0,2013.0,2017.0,2015.0,2016.0,2017.0,2017.0,2017.0,2012.0,2017.0,2012.0,2015.0,2014.0,2011.0,2016.0,2012.0,2014.0,2015.0,2015.0,2017.0,2003.0,2008.0,2018.0,2017.0,2017.0,2014.0,2011.0,2016.0,2012.0,2013.0,2016.0,2013.0,2017.0,2011.0,2004.0,2012.0,2017.0,2014.0,2010.0,2015.0,2015.0,2013.0,2013.0,2017.0,2017.0,2015.0,2016.0,2001.0,2018.0,2012.0,2011.0,2009.0,2016.0,2017.0,2008.0,2016.0,2017.0,2006.0,2016.0,2011.0,2017.0,2014.0,2014.0,2017.0,2016.0,2017.0,2006.0,2008.0,2018.0,2017.0,2017.0,2016.0,2015.0,2016.0,2018.0,2016.0,2001.0,2015.0,2015.0,2014.0,2016.0,2015.0,2011.0,2009.0,2012.0,2015.0,2007.0,2017.0,2015.0,2017.0,2015.0,2014.0,2012.0,2017.0,2012.0,2016.0,2017.0,2016.0,2013.0,2013.0,2010.0,2017.0,2000.0,2011.0,2006.0,2017.0,2012.0,2016.0,2016.0,2015.0,2016.0,2012.0,2017.0,2006.0,2015.0,2016.0,2016.0,2017.0,2017.0,2017.0,2015.0,2017.0,2017.0,2015.0,2017.0,2013.0,2007.0,2017.0,2015.0,2013.0,2006.0,2018.0,2016.0,2016.0,2016.0,2008.0,2017.0,2016.0,2017.0,2016.0,2016.0,2017.0,2017.0,2017.0,2017.0,2017.0,2012.0,2017.0,2015.0,2014.0,2017.0,2015.0,2016.0,2017.0,2017.0,2013.0,2018.0,2018.0,2016.0,2018.0,2013.0,2017.0,2013.0,2013.0,2017.0,2016.0,2010.0,2016.0,2012.0,2015.0,2018.0,2017.0,2017.0,2017.0,2014.0,2012.0,2014.0,2001.0,2011.0,2014.0,2016.0,2013.0,2010.0,2018.0,2017.0,2011.0,2014.0,2014.0,2016.0,2018.0,2016.0,2016.0,2011.0,2017.0,2012.0,2017.0,2018.0,2017.0,2015.0,2018.0,2017.0,2017.0,2016.0,2017.0,2017.0,2017.0,2017.0,2016.0,2013.0,2017.0,2017.0,2014.0,2016.0,2018.0,2017.0,2017.0,2015.0,2018.0,2016.0,2018.0,2013.0],\"xaxis\":\"x\",\"yaxis\":\"y\",\"type\":\"histogram\"},{\"alignmentgroup\":\"True\",\"bingroup\":\"x\",\"hovertemplate\":\"type=Movie\\u003cbr\\u003eaired_from_year=%{x}\\u003cbr\\u003ecount=%{y}\\u003cextra\\u003e\\u003c\\u002fextra\\u003e\",\"legendgroup\":\"Movie\",\"marker\":{\"color\":\"#FFA15A\",\"pattern\":{\"shape\":\"\"},\"line\":{\"color\":\"rgba(255,255,255,1)\",\"width\":3}},\"name\":\"Movie\",\"nbinsx\":10,\"offsetgroup\":\"Movie\",\"orientation\":\"v\",\"showlegend\":true,\"x\":[2013.0,2006.0,2013.0,1978.0,2013.0,2010.0,2017.0,1988.0,2006.0,1975.0,2005.0,1988.0,1980.0,1984.0,2015.0,2000.0,2016.0,2012.0,2013.0,2017.0,1991.0,2015.0,2016.0,2007.0,2017.0,2006.0,1997.0,1991.0,2009.0,2011.0,1967.0,2004.0,2010.0,2016.0,2014.0,1998.0,2017.0,2013.0,2006.0,1993.0,2017.0,2003.0,2016.0,1983.0,2014.0,2015.0,2007.0,1998.0,2016.0,1989.0,2018.0,2015.0,1996.0,1988.0,2017.0,2002.0,2001.0,2014.0,2016.0,2014.0,2015.0,2017.0,2005.0,2002.0,2016.0,2016.0,1997.0,2001.0,2008.0,2018.0,2000.0,2010.0,2006.0,2014.0,2015.0,2008.0,1989.0,1995.0,2012.0,2002.0,1997.0,1993.0,2014.0,1987.0,1982.0,2006.0,2017.0,2000.0,2016.0,1992.0,1985.0,1994.0,1981.0,1991.0,1997.0,2016.0,2009.0,2005.0,2015.0,2005.0,1963.0,2017.0,2014.0,2017.0,1992.0,2005.0,2017.0,2013.0,1995.0,1993.0,1999.0,1992.0,1996.0,2011.0,2016.0,2002.0,1999.0,1994.0,2012.0,2007.0,2007.0,2013.0,1982.0,2010.0,2013.0,2010.0,2005.0,2014.0,2014.0,2004.0,2006.0,2016.0,1997.0,2004.0,2014.0,2014.0,2016.0,2016.0,1999.0,1994.0,2004.0,2013.0,2017.0,2014.0,2016.0,1995.0,2013.0,2010.0,1996.0,2009.0,2012.0,2000.0,2004.0,1987.0,2010.0,1996.0,2016.0,2002.0,1966.0,2016.0,2010.0,2010.0,2008.0,2006.0,1989.0,2007.0,1991.0,2015.0,1981.0,1995.0,2005.0,1993.0,2017.0,2010.0,2017.0,2015.0,2012.0,2010.0,2014.0,2014.0,2012.0,1994.0,2010.0,2001.0,1998.0,1980.0,1990.0,1957.0,2002.0,2006.0,2016.0,1989.0,2005.0,2003.0,2005.0,2012.0,1986.0,1987.0,2010.0,2015.0,2016.0,1995.0,2016.0,2003.0,2000.0,2011.0,1944.0,1997.0,1998.0,2001.0,2007.0,1961.0,2003.0,2015.0,2014.0,2017.0,2006.0,2015.0,1987.0,1992.0,2005.0,2012.0,1995.0,1998.0,1984.0,2011.0,2016.0,2017.0,1990.0,2004.0,2010.0,2013.0,1986.0,2018.0,2018.0,2018.0,1986.0,2016.0,2007.0,2017.0,2011.0,1992.0,2002.0,1982.0,2012.0,1958.0,2007.0,2015.0,2009.0,1997.0,2017.0,1999.0,2011.0,2010.0,2016.0,2014.0,2001.0,1989.0,2007.0,2013.0,2015.0,2015.0,2015.0,2013.0,1990.0,1994.0,2012.0,1986.0,2017.0,2017.0,2014.0,1977.0,2012.0,2009.0,2012.0,2006.0,2015.0,2004.0,2004.0,2003.0,2008.0,2014.0,2017.0,1985.0,2015.0,2015.0,1962.0,2015.0,1996.0,1999.0,2016.0,2010.0,1988.0,2014.0,2005.0,2007.0,1995.0,1984.0,2015.0,1998.0,2013.0,1998.0,2015.0,1989.0,2009.0,2009.0,2007.0,2011.0,2013.0,2010.0,1980.0,1999.0,2014.0,2006.0,2005.0,2007.0,2016.0,2017.0,1966.0,2002.0,2007.0,2002.0,1986.0,2018.0,2007.0,2017.0,2000.0,2011.0,2006.0,2011.0,2004.0,2010.0,2013.0,2012.0,2018.0,1994.0,2011.0,2014.0,1943.0,1981.0,2016.0,1995.0,1979.0,1986.0,2015.0,2017.0,1990.0,2013.0,2014.0,2008.0,1994.0,2016.0,2016.0,2010.0,1960.0,2010.0,2015.0,2017.0,2016.0,2011.0,2011.0,2006.0,2010.0,2010.0,2008.0,2016.0,2015.0,2015.0,2015.0,1985.0,2007.0,2010.0,2002.0,2003.0,2017.0,2015.0,2018.0,2004.0,2007.0,1986.0,2011.0,2016.0,1980.0,1999.0,1988.0,1962.0,2015.0,2016.0,2008.0,1981.0,2015.0,2016.0,2015.0,2016.0,2015.0,2017.0,2015.0,2015.0,2017.0,1993.0,2016.0,2011.0,2015.0,2016.0,2014.0,2005.0,2006.0,1993.0,2002.0,2008.0,1993.0,2015.0,2010.0,2016.0,2011.0,2017.0,2004.0,1998.0,1984.0,2013.0,2012.0,2014.0,2011.0,1997.0,2016.0,2011.0,2015.0,2016.0,2014.0,2013.0,2013.0,2011.0,2005.0,2009.0,2000.0,2011.0,2016.0,2006.0,2016.0,2014.0,2017.0,2001.0,1987.0,2009.0,2017.0,2008.0,2015.0,1989.0,2017.0,1985.0,1980.0,2016.0,2007.0,2005.0,2017.0,2011.0,1993.0,2014.0,2001.0,2012.0,2016.0,1999.0,2000.0,2015.0,2001.0,2013.0,2001.0,2017.0,2015.0,1984.0,1984.0,2016.0,2012.0,2014.0,2007.0,2015.0,2017.0,2007.0,2015.0,2015.0,2002.0,2009.0,2011.0,2009.0,1992.0,2017.0,1990.0,2011.0,1972.0,1987.0,1983.0,2014.0,2014.0,1996.0,2011.0,1987.0,2014.0,2001.0,2017.0,2015.0,2013.0,2001.0,2011.0,2009.0,2007.0,2013.0,2012.0,2017.0,2017.0,2015.0,2000.0,2001.0,1993.0,2017.0,2015.0,2016.0,2014.0,2002.0,2015.0,2015.0,2007.0,1996.0,2005.0,2009.0,2008.0,2001.0,1994.0,2011.0,2017.0,2018.0,2013.0,2011.0,2016.0,2013.0,2011.0,2012.0,1995.0,2015.0,1979.0,2017.0,2014.0,1986.0,1982.0,1997.0,1998.0,1985.0,2004.0,1995.0,2014.0,1985.0,2016.0,1986.0,2017.0,2016.0,2005.0,1996.0,1999.0,2015.0,2001.0,2005.0,1994.0,2012.0,2009.0,1959.0,2011.0,2007.0,2005.0,2016.0,1981.0,1989.0,2016.0,2014.0,2012.0,1989.0,1992.0,2014.0,2017.0,2012.0,2009.0,1999.0,2000.0,2007.0,2017.0,1987.0,2017.0,2014.0,2011.0,1988.0,2011.0,1995.0,2016.0,1972.0,2016.0,1988.0,2010.0,1994.0,1983.0,2010.0,2004.0,2015.0,2015.0,2013.0,1992.0,2017.0,2011.0,2006.0,1998.0,2012.0,2010.0,2010.0,2004.0,2015.0,2015.0,2011.0,2011.0,2008.0,2009.0,2017.0,2000.0,2014.0,1996.0,1982.0,1981.0,1994.0,2004.0,2017.0,2012.0,2013.0,2018.0,2016.0,1992.0,2008.0,2011.0,1964.0,2009.0,2017.0,1983.0,1999.0,2004.0,1986.0,1984.0,1991.0,2009.0,2014.0,2003.0,2015.0,2013.0,2013.0,2016.0,1985.0,1981.0,2016.0,1973.0,2017.0,2011.0,1984.0,2012.0,2012.0,1990.0,2004.0,1980.0,2013.0,1992.0,2010.0,2015.0,2011.0,1981.0,1999.0,2014.0,2012.0,2010.0,2016.0,1988.0,1970.0,2006.0,2017.0,2015.0,1999.0,2010.0,2013.0,2016.0,2010.0,2005.0,2017.0,2005.0,2002.0,2016.0,1964.0,2016.0,1995.0,1991.0,1992.0,2017.0,2016.0,1999.0,1987.0,1973.0,2018.0,2015.0,2001.0,2013.0,2017.0,2017.0,2011.0,2017.0,2010.0,1986.0,2017.0,2016.0,2017.0,2009.0,2016.0,2007.0,2017.0,2002.0,2002.0,2001.0,1990.0,2018.0,1987.0,2012.0,2011.0,1990.0,2017.0,2015.0,2015.0,2008.0,1983.0,2012.0,2014.0,2017.0,2016.0,1985.0,1960.0,2014.0,2017.0,2015.0,2008.0,2012.0,1992.0,2017.0,2017.0,2017.0,2009.0,2016.0,1996.0,2006.0,1987.0,2000.0,2007.0,1994.0,2014.0,2013.0,2007.0,1994.0,1979.0,2003.0,1999.0,2007.0,1998.0,1982.0,2012.0,2011.0,2009.0,2017.0,1985.0,1971.0,2000.0,1991.0,2017.0,2007.0,2017.0,2010.0,1992.0,2011.0,2014.0,1983.0,2011.0,1991.0,2012.0,2001.0,2016.0,2013.0,2016.0,2011.0,2016.0,2008.0,2004.0,2011.0,2011.0,2010.0,2017.0,2010.0,1997.0,2008.0,2013.0,2016.0,1984.0,2017.0,1991.0,2012.0,2017.0,2017.0,2015.0,2009.0,2014.0,1987.0,2006.0,2009.0,1942.0,2005.0,2016.0,2015.0,2010.0,2008.0,2016.0,1996.0,2000.0,1994.0,2012.0,1999.0,2016.0,2013.0,1996.0,2017.0,1990.0,2007.0,2009.0,2018.0,2008.0,1985.0,2006.0,2016.0,1980.0,2015.0,2018.0,1993.0,1988.0,1943.0,1962.0,1945.0,2013.0,2007.0,1990.0,1999.0,1993.0,2006.0,1992.0,1993.0,1984.0,2016.0,2009.0,2018.0,1994.0,2015.0,2010.0,2012.0,1989.0,2008.0,1992.0,2000.0,2001.0,2009.0,2008.0,1988.0,1999.0,1983.0,2009.0,2013.0,2015.0,2013.0,2013.0,2013.0,2015.0,2017.0,2013.0,2009.0,1980.0,1971.0,1985.0,2016.0,2001.0,2016.0,1988.0,1999.0,2013.0,2017.0,2017.0,2011.0,2016.0,1998.0,1981.0,2016.0,1998.0,2017.0,1993.0,2017.0,2018.0,2013.0,2006.0,2006.0,2013.0,1959.0,2015.0,1962.0,2017.0,2017.0,2017.0],\"xaxis\":\"x\",\"yaxis\":\"y\",\"type\":\"histogram\"},{\"alignmentgroup\":\"True\",\"bingroup\":\"x\",\"hovertemplate\":\"type=Music\\u003cbr\\u003eaired_from_year=%{x}\\u003cbr\\u003ecount=%{y}\\u003cextra\\u003e\\u003c\\u002fextra\\u003e\",\"legendgroup\":\"Music\",\"marker\":{\"color\":\"#19d3f3\",\"pattern\":{\"shape\":\"\"},\"line\":{\"color\":\"rgba(255,255,255,1)\",\"width\":3}},\"name\":\"Music\",\"nbinsx\":10,\"offsetgroup\":\"Music\",\"orientation\":\"v\",\"showlegend\":true,\"x\":[1987.0,2017.0,2000.0,2008.0,2008.0,2005.0,2010.0,2008.0,2015.0,2015.0,2016.0,2010.0,2017.0,2016.0,1995.0,2006.0,2016.0,2017.0,2016.0,2016.0,2016.0,2013.0,2010.0,2015.0,2005.0,2004.0,2015.0,2011.0,1999.0,2013.0,1998.0,2016.0,1991.0,2003.0,1985.0,2015.0,1988.0,1994.0,2016.0,2014.0,2006.0,2012.0,2005.0,2016.0,2010.0,1999.0,2016.0,2017.0,2014.0,2010.0,2011.0,2007.0,2009.0,2016.0,2014.0,1999.0,2013.0,2015.0,1993.0,1999.0,2012.0,2017.0,2017.0,2009.0,2010.0,2014.0,2010.0,1999.0,2009.0,2006.0,2004.0,2004.0,2011.0,2015.0,2016.0,2012.0,2013.0,2013.0,2012.0,2008.0,2005.0,2009.0,2016.0,2016.0,2016.0,2017.0,2010.0,2015.0,2011.0,2017.0,2017.0,2016.0,2014.0,2008.0,2017.0,1997.0,2015.0,2015.0],\"xaxis\":\"x\",\"yaxis\":\"y\",\"type\":\"histogram\"}],                        {\"template\":{\"data\":{\"histogram2dcontour\":[{\"type\":\"histogram2dcontour\",\"colorbar\":{\"outlinewidth\":0,\"ticks\":\"\"},\"colorscale\":[[0.0,\"#0d0887\"],[0.1111111111111111,\"#46039f\"],[0.2222222222222222,\"#7201a8\"],[0.3333333333333333,\"#9c179e\"],[0.4444444444444444,\"#bd3786\"],[0.5555555555555556,\"#d8576b\"],[0.6666666666666666,\"#ed7953\"],[0.7777777777777778,\"#fb9f3a\"],[0.8888888888888888,\"#fdca26\"],[1.0,\"#f0f921\"]]}],\"choropleth\":[{\"type\":\"choropleth\",\"colorbar\":{\"outlinewidth\":0,\"ticks\":\"\"}}],\"histogram2d\":[{\"type\":\"histogram2d\",\"colorbar\":{\"outlinewidth\":0,\"ticks\":\"\"},\"colorscale\":[[0.0,\"#0d0887\"],[0.1111111111111111,\"#46039f\"],[0.2222222222222222,\"#7201a8\"],[0.3333333333333333,\"#9c179e\"],[0.4444444444444444,\"#bd3786\"],[0.5555555555555556,\"#d8576b\"],[0.6666666666666666,\"#ed7953\"],[0.7777777777777778,\"#fb9f3a\"],[0.8888888888888888,\"#fdca26\"],[1.0,\"#f0f921\"]]}],\"heatmap\":[{\"type\":\"heatmap\",\"colorbar\":{\"outlinewidth\":0,\"ticks\":\"\"},\"colorscale\":[[0.0,\"#0d0887\"],[0.1111111111111111,\"#46039f\"],[0.2222222222222222,\"#7201a8\"],[0.3333333333333333,\"#9c179e\"],[0.4444444444444444,\"#bd3786\"],[0.5555555555555556,\"#d8576b\"],[0.6666666666666666,\"#ed7953\"],[0.7777777777777778,\"#fb9f3a\"],[0.8888888888888888,\"#fdca26\"],[1.0,\"#f0f921\"]]}],\"heatmapgl\":[{\"type\":\"heatmapgl\",\"colorbar\":{\"outlinewidth\":0,\"ticks\":\"\"},\"colorscale\":[[0.0,\"#0d0887\"],[0.1111111111111111,\"#46039f\"],[0.2222222222222222,\"#7201a8\"],[0.3333333333333333,\"#9c179e\"],[0.4444444444444444,\"#bd3786\"],[0.5555555555555556,\"#d8576b\"],[0.6666666666666666,\"#ed7953\"],[0.7777777777777778,\"#fb9f3a\"],[0.8888888888888888,\"#fdca26\"],[1.0,\"#f0f921\"]]}],\"contourcarpet\":[{\"type\":\"contourcarpet\",\"colorbar\":{\"outlinewidth\":0,\"ticks\":\"\"}}],\"contour\":[{\"type\":\"contour\",\"colorbar\":{\"outlinewidth\":0,\"ticks\":\"\"},\"colorscale\":[[0.0,\"#0d0887\"],[0.1111111111111111,\"#46039f\"],[0.2222222222222222,\"#7201a8\"],[0.3333333333333333,\"#9c179e\"],[0.4444444444444444,\"#bd3786\"],[0.5555555555555556,\"#d8576b\"],[0.6666666666666666,\"#ed7953\"],[0.7777777777777778,\"#fb9f3a\"],[0.8888888888888888,\"#fdca26\"],[1.0,\"#f0f921\"]]}],\"surface\":[{\"type\":\"surface\",\"colorbar\":{\"outlinewidth\":0,\"ticks\":\"\"},\"colorscale\":[[0.0,\"#0d0887\"],[0.1111111111111111,\"#46039f\"],[0.2222222222222222,\"#7201a8\"],[0.3333333333333333,\"#9c179e\"],[0.4444444444444444,\"#bd3786\"],[0.5555555555555556,\"#d8576b\"],[0.6666666666666666,\"#ed7953\"],[0.7777777777777778,\"#fb9f3a\"],[0.8888888888888888,\"#fdca26\"],[1.0,\"#f0f921\"]]}],\"mesh3d\":[{\"type\":\"mesh3d\",\"colorbar\":{\"outlinewidth\":0,\"ticks\":\"\"}}],\"scatter\":[{\"fillpattern\":{\"fillmode\":\"overlay\",\"size\":10,\"solidity\":0.2},\"type\":\"scatter\"}],\"parcoords\":[{\"type\":\"parcoords\",\"line\":{\"colorbar\":{\"outlinewidth\":0,\"ticks\":\"\"}}}],\"scatterpolargl\":[{\"type\":\"scatterpolargl\",\"marker\":{\"colorbar\":{\"outlinewidth\":0,\"ticks\":\"\"}}}],\"bar\":[{\"error_x\":{\"color\":\"#2a3f5f\"},\"error_y\":{\"color\":\"#2a3f5f\"},\"marker\":{\"line\":{\"color\":\"#E5ECF6\",\"width\":0.5},\"pattern\":{\"fillmode\":\"overlay\",\"size\":10,\"solidity\":0.2}},\"type\":\"bar\"}],\"scattergeo\":[{\"type\":\"scattergeo\",\"marker\":{\"colorbar\":{\"outlinewidth\":0,\"ticks\":\"\"}}}],\"scatterpolar\":[{\"type\":\"scatterpolar\",\"marker\":{\"colorbar\":{\"outlinewidth\":0,\"ticks\":\"\"}}}],\"histogram\":[{\"marker\":{\"pattern\":{\"fillmode\":\"overlay\",\"size\":10,\"solidity\":0.2}},\"type\":\"histogram\"}],\"scattergl\":[{\"type\":\"scattergl\",\"marker\":{\"colorbar\":{\"outlinewidth\":0,\"ticks\":\"\"}}}],\"scatter3d\":[{\"type\":\"scatter3d\",\"line\":{\"colorbar\":{\"outlinewidth\":0,\"ticks\":\"\"}},\"marker\":{\"colorbar\":{\"outlinewidth\":0,\"ticks\":\"\"}}}],\"scattermapbox\":[{\"type\":\"scattermapbox\",\"marker\":{\"colorbar\":{\"outlinewidth\":0,\"ticks\":\"\"}}}],\"scatterternary\":[{\"type\":\"scatterternary\",\"marker\":{\"colorbar\":{\"outlinewidth\":0,\"ticks\":\"\"}}}],\"scattercarpet\":[{\"type\":\"scattercarpet\",\"marker\":{\"colorbar\":{\"outlinewidth\":0,\"ticks\":\"\"}}}],\"carpet\":[{\"aaxis\":{\"endlinecolor\":\"#2a3f5f\",\"gridcolor\":\"white\",\"linecolor\":\"white\",\"minorgridcolor\":\"white\",\"startlinecolor\":\"#2a3f5f\"},\"baxis\":{\"endlinecolor\":\"#2a3f5f\",\"gridcolor\":\"white\",\"linecolor\":\"white\",\"minorgridcolor\":\"white\",\"startlinecolor\":\"#2a3f5f\"},\"type\":\"carpet\"}],\"table\":[{\"cells\":{\"fill\":{\"color\":\"#EBF0F8\"},\"line\":{\"color\":\"white\"}},\"header\":{\"fill\":{\"color\":\"#C8D4E3\"},\"line\":{\"color\":\"white\"}},\"type\":\"table\"}],\"barpolar\":[{\"marker\":{\"line\":{\"color\":\"#E5ECF6\",\"width\":0.5},\"pattern\":{\"fillmode\":\"overlay\",\"size\":10,\"solidity\":0.2}},\"type\":\"barpolar\"}],\"pie\":[{\"automargin\":true,\"type\":\"pie\"}]},\"layout\":{\"autotypenumbers\":\"strict\",\"colorway\":[\"#636efa\",\"#EF553B\",\"#00cc96\",\"#ab63fa\",\"#FFA15A\",\"#19d3f3\",\"#FF6692\",\"#B6E880\",\"#FF97FF\",\"#FECB52\"],\"font\":{\"color\":\"#2a3f5f\"},\"hovermode\":\"closest\",\"hoverlabel\":{\"align\":\"left\"},\"paper_bgcolor\":\"white\",\"plot_bgcolor\":\"#E5ECF6\",\"polar\":{\"bgcolor\":\"#E5ECF6\",\"angularaxis\":{\"gridcolor\":\"white\",\"linecolor\":\"white\",\"ticks\":\"\"},\"radialaxis\":{\"gridcolor\":\"white\",\"linecolor\":\"white\",\"ticks\":\"\"}},\"ternary\":{\"bgcolor\":\"#E5ECF6\",\"aaxis\":{\"gridcolor\":\"white\",\"linecolor\":\"white\",\"ticks\":\"\"},\"baxis\":{\"gridcolor\":\"white\",\"linecolor\":\"white\",\"ticks\":\"\"},\"caxis\":{\"gridcolor\":\"white\",\"linecolor\":\"white\",\"ticks\":\"\"}},\"coloraxis\":{\"colorbar\":{\"outlinewidth\":0,\"ticks\":\"\"}},\"colorscale\":{\"sequential\":[[0.0,\"#0d0887\"],[0.1111111111111111,\"#46039f\"],[0.2222222222222222,\"#7201a8\"],[0.3333333333333333,\"#9c179e\"],[0.4444444444444444,\"#bd3786\"],[0.5555555555555556,\"#d8576b\"],[0.6666666666666666,\"#ed7953\"],[0.7777777777777778,\"#fb9f3a\"],[0.8888888888888888,\"#fdca26\"],[1.0,\"#f0f921\"]],\"sequentialminus\":[[0.0,\"#0d0887\"],[0.1111111111111111,\"#46039f\"],[0.2222222222222222,\"#7201a8\"],[0.3333333333333333,\"#9c179e\"],[0.4444444444444444,\"#bd3786\"],[0.5555555555555556,\"#d8576b\"],[0.6666666666666666,\"#ed7953\"],[0.7777777777777778,\"#fb9f3a\"],[0.8888888888888888,\"#fdca26\"],[1.0,\"#f0f921\"]],\"diverging\":[[0,\"#8e0152\"],[0.1,\"#c51b7d\"],[0.2,\"#de77ae\"],[0.3,\"#f1b6da\"],[0.4,\"#fde0ef\"],[0.5,\"#f7f7f7\"],[0.6,\"#e6f5d0\"],[0.7,\"#b8e186\"],[0.8,\"#7fbc41\"],[0.9,\"#4d9221\"],[1,\"#276419\"]]},\"xaxis\":{\"gridcolor\":\"white\",\"linecolor\":\"white\",\"ticks\":\"\",\"title\":{\"standoff\":15},\"zerolinecolor\":\"white\",\"automargin\":true,\"zerolinewidth\":2},\"yaxis\":{\"gridcolor\":\"white\",\"linecolor\":\"white\",\"ticks\":\"\",\"title\":{\"standoff\":15},\"zerolinecolor\":\"white\",\"automargin\":true,\"zerolinewidth\":2},\"scene\":{\"xaxis\":{\"backgroundcolor\":\"#E5ECF6\",\"gridcolor\":\"white\",\"linecolor\":\"white\",\"showbackground\":true,\"ticks\":\"\",\"zerolinecolor\":\"white\",\"gridwidth\":2},\"yaxis\":{\"backgroundcolor\":\"#E5ECF6\",\"gridcolor\":\"white\",\"linecolor\":\"white\",\"showbackground\":true,\"ticks\":\"\",\"zerolinecolor\":\"white\",\"gridwidth\":2},\"zaxis\":{\"backgroundcolor\":\"#E5ECF6\",\"gridcolor\":\"white\",\"linecolor\":\"white\",\"showbackground\":true,\"ticks\":\"\",\"zerolinecolor\":\"white\",\"gridwidth\":2}},\"shapedefaults\":{\"line\":{\"color\":\"#2a3f5f\"}},\"annotationdefaults\":{\"arrowcolor\":\"#2a3f5f\",\"arrowhead\":0,\"arrowwidth\":1},\"geo\":{\"bgcolor\":\"white\",\"landcolor\":\"#E5ECF6\",\"subunitcolor\":\"white\",\"showland\":true,\"showlakes\":true,\"lakecolor\":\"white\"},\"title\":{\"x\":0.05},\"mapbox\":{\"style\":\"light\"}}},\"xaxis\":{\"anchor\":\"y\",\"domain\":[0.0,1.0],\"title\":{\"text\":\"A\\u00f1o lanzamiento\"}},\"yaxis\":{\"anchor\":\"x\",\"domain\":[0.0,1.0],\"title\":{\"text\":\"Conteo\"}},\"legend\":{\"title\":{\"text\":\"type\"},\"tracegroupgap\":0},\"margin\":{\"t\":60},\"barmode\":\"relative\",\"font\":{\"family\":\"Arial, sans-serif\",\"color\":\"black\"},\"plot_bgcolor\":\"rgba(255,255,255,1)\",\"paper_bgcolor\":\"rgba(255,255,255,1)\",\"title\":{\"text\":\"Lanzamientos de anime por a\\u00f1o\"},\"bargap\":0.1},                        {\"responsive\": true}                    ).then(function(){\n",
              "                            \n",
              "var gd = document.getElementById('1b2f37a1-74f0-4ec0-b92e-b502ba8deafb');\n",
              "var x = new MutationObserver(function (mutations, observer) {{\n",
              "        var display = window.getComputedStyle(gd).display;\n",
              "        if (!display || display === 'none') {{\n",
              "            console.log([gd, 'removed!']);\n",
              "            Plotly.purge(gd);\n",
              "            observer.disconnect();\n",
              "        }}\n",
              "}});\n",
              "\n",
              "// Listen for the removal of the full notebook cells\n",
              "var notebookContainer = gd.closest('#notebook-container');\n",
              "if (notebookContainer) {{\n",
              "    x.observe(notebookContainer, {childList: true});\n",
              "}}\n",
              "\n",
              "// Listen for the clearing of the current output cell\n",
              "var outputEl = gd.closest('.output');\n",
              "if (outputEl) {{\n",
              "    x.observe(outputEl, {childList: true});\n",
              "}}\n",
              "\n",
              "                        })                };                            </script>        </div>\n",
              "</body>\n",
              "</html>"
            ]
          },
          "metadata": {}
        }
      ],
      "source": [
        "fig = px.histogram(anime_cleaned_df, x=\"aired_from_year\", color=\"type\", nbins=10)\n",
        "\n",
        "fig.update_traces(marker=dict(line=dict(color='rgba(255,255,255,1)', width=3)))\n",
        "\n",
        "fig.update_layout(\n",
        "    plot_bgcolor='rgba(255,255,255,1)',\n",
        "    paper_bgcolor='rgba(255,255,255,1)',\n",
        "    font_family=\"Arial, sans-serif\",\n",
        "    font_color=\"black\",\n",
        "    title='Lanzamientos de anime por año',\n",
        "    xaxis_title='Año lanzamiento',\n",
        "    yaxis_title='Conteo',\n",
        "    bargap=0.1\n",
        ")\n",
        "\n",
        "fig.show()"
      ]
    },
    {
      "cell_type": "markdown",
      "metadata": {
        "id": "m3X_4F2_yNuC"
      },
      "source": [
        "El crecimiento de titulos y variedad de géneros es notable, y probablemente influyente, retroactivamente, en la popularidad y creación de nuevos titulos."
      ]
    },
    {
      "cell_type": "markdown",
      "metadata": {
        "id": "To6y-dKF6y9m"
      },
      "source": [
        "# 9. Análisis de Popularidad y Tendencias"
      ]
    },
    {
      "cell_type": "markdown",
      "metadata": {
        "id": "ePBdTxEoiX1L"
      },
      "source": [
        "**¿Cúales son los géneros de anime más populares?**"
      ]
    },
    {
      "cell_type": "code",
      "execution_count": null,
      "metadata": {
        "id": "cmaYYkomX6c8"
      },
      "outputs": [],
      "source": [
        "def get_genres_from_api(page=1):\n",
        "    url = f\"https://api.jikan.moe/v4/anime?order_by=episodes&sort=desc&page={page}\"\n",
        "    response = requests.get(url)\n",
        "\n",
        "    if response.status_code == 200:\n",
        "        data = response.json()\n",
        "        all_genres = set()  # uso un conjunto para evitar géneros duplicados\n",
        "\n",
        "        for anime in data.get(\"data\", []):\n",
        "            for genre in anime.get(\"genres\", []):\n",
        "                all_genres.add(genre['name'])\n",
        "\n",
        "        return list(all_genres)\n",
        "    else:\n",
        "        return []\n"
      ]
    },
    {
      "cell_type": "code",
      "execution_count": null,
      "metadata": {
        "id": "1fpG8wQ8O9ic",
        "colab": {
          "base_uri": "https://localhost:8080/",
          "height": 557
        },
        "outputId": "4404ccbd-d71d-4c86-ecba-eb8986dc5aae"
      },
      "outputs": [
        {
          "output_type": "display_data",
          "data": {
            "text/plain": [
              "<Figure size 500x500 with 1 Axes>"
            ],
            "image/png": "[encoded data removed]"
          },
          "metadata": {}
        }
      ],
      "source": [
        "genres_list = get_genres_from_api()\n",
        "\n",
        "anime_data = {\n",
        "    'data': {\n",
        "        'genres': [{'name': genre} for genre in genres_list]\n",
        "    }\n",
        "}\n",
        "\n",
        "def create_genre_wordcloud(anime_data):\n",
        "    if isinstance(anime_data, dict):\n",
        "        try:\n",
        "            # Extraigo los géneros\n",
        "            genres_list = [genre['name'] for genre in anime_data['data']['genres']]\n",
        "\n",
        "            # Creo un df a partir de la lista de géneros\n",
        "            dfGenero = pd.DataFrame(genres_list, columns=['Genre'])\n",
        "\n",
        "            # Creo una cadena de texto con todos los géneros\n",
        "            genres = ' '.join(dfGenero['Genre'])\n",
        "\n",
        "            # Creo la nube de palabras\n",
        "            wordcloud = WordCloud(width=800, height=800,\n",
        "                                  background_color='white',\n",
        "                                  stopwords=set(),\n",
        "                                  min_font_size=10).generate(genres)\n",
        "\n",
        "            # visualizo la nube de palabras\n",
        "            plt.figure(figsize=(5, 5), facecolor=None)\n",
        "            plt.imshow(wordcloud, interpolation='bilinear')\n",
        "            plt.axis(\"off\")\n",
        "            plt.tight_layout(pad=0)\n",
        "\n",
        "            # agrego el título\n",
        "            plt.title(\"Géneros de Anime\")\n",
        "\n",
        "            plt.show()\n",
        "\n",
        "        except KeyError as e:\n",
        "            print(f\"Falta una clave en el diccionario de datos: {e}\")\n",
        "        except Exception as e:\n",
        "            print(f\"Se produjo un error: {e}\")\n",
        "    else:\n",
        "        print(\"Los datos recibidos no son un diccionario\")\n",
        "\n",
        "# llamo a la función para generar la nube de palabras\n",
        "create_genre_wordcloud(anime_data)"
      ]
    },
    {
      "cell_type": "markdown",
      "metadata": {
        "id": "yPAOPOxxieuQ"
      },
      "source": [
        "**Y una de las preguntas más debatidas, ¿cuáles son los MEJORES animes de todos los tiempos?**"
      ]
    },
    {
      "cell_type": "code",
      "execution_count": null,
      "metadata": {
        "id": "ejUWOf57aY7y"
      },
      "outputs": [],
      "source": [
        "def get_top_animes_from_api(page=1):\n",
        "    url = f\"https://api.jikan.moe/v4/anime?order_by=score&sort=desc&page={page}\"\n",
        "    response = requests.get(url)\n",
        "\n",
        "    if response.status_code == 200:\n",
        "        data = response.json()\n",
        "        top_animes = [{'title': anime['title'],\n",
        "                       'score': anime['score'],\n",
        "                       'images.jpg.image_url': anime['images']['jpg']['image_url']}\n",
        "                      for anime in data.get('data', [])]\n",
        "\n",
        "        return top_animes\n",
        "    else:\n",
        "        return []"
      ]
    },
    {
      "cell_type": "code",
      "execution_count": null,
      "metadata": {
        "id": "m2H1155gnGss",
        "colab": {
          "base_uri": "https://localhost:8080/",
          "height": 1000
        },
        "outputId": "c222094d-ff5c-4971-ced5-62ef40e58c42"
      },
      "outputs": [
        {
          "output_type": "display_data",
          "data": {
            "text/plain": [
              "<IPython.core.display.HTML object>"
            ],
            "text/html": [
              "\n",
              "<style>\n",
              "    .title {\n",
              "        font-size: 24px;\n",
              "        font-weight: bold;\n",
              "        text-align: left;\n",
              "    }\n",
              "</style>\n",
              "<div class=\"title\">Top 10 animes mejor puntuados de todos los tiempos</div>\n",
              "<table border=\"1\" class=\"dataframe\">\n",
              "  <tbody>\n",
              "    <tr>\n",
              "      <td><span style=\"font-size: 1.5em; font-weight: bold;\">Sousou no Frieren</span></td>\n",
              "      <td>9.13</td>\n",
              "      <td><img src=\"https://cdn.myanimelist.net/images/anime/1015/138006.jpg\" width=\"150\" ></td>\n",
              "    </tr>\n",
              "    <tr>\n",
              "      <td><span style=\"font-size: 1.5em; font-weight: bold;\">Fullmetal Alchemist: Brotherhood</span></td>\n",
              "      <td>9.09</td>\n",
              "      <td><img src=\"https://cdn.myanimelist.net/images/anime/1208/94745.jpg\" width=\"150\" ></td>\n",
              "    </tr>\n",
              "    <tr>\n",
              "      <td><span style=\"font-size: 1.5em; font-weight: bold;\">Steins;Gate</span></td>\n",
              "      <td>9.07</td>\n",
              "      <td><img src=\"https://cdn.myanimelist.net/images/anime/1935/127974.jpg\" width=\"150\" ></td>\n",
              "    </tr>\n",
              "    <tr>\n",
              "      <td><span style=\"font-size: 1.5em; font-weight: bold;\">Gintama°</span></td>\n",
              "      <td>9.06</td>\n",
              "      <td><img src=\"https://cdn.myanimelist.net/images/anime/3/72078.jpg\" width=\"150\" ></td>\n",
              "    </tr>\n",
              "    <tr>\n",
              "      <td><span style=\"font-size: 1.5em; font-weight: bold;\">Shingeki no Kyojin Season 3 Part 2</span></td>\n",
              "      <td>9.05</td>\n",
              "      <td><img src=\"https://cdn.myanimelist.net/images/anime/1517/100633.jpg\" width=\"150\" ></td>\n",
              "    </tr>\n",
              "    <tr>\n",
              "      <td><span style=\"font-size: 1.5em; font-weight: bold;\">Gintama: The Final</span></td>\n",
              "      <td>9.04</td>\n",
              "      <td><img src=\"https://cdn.myanimelist.net/images/anime/1245/116760.jpg\" width=\"150\" ></td>\n",
              "    </tr>\n",
              "    <tr>\n",
              "      <td><span style=\"font-size: 1.5em; font-weight: bold;\">Hunter x Hunter (2011)</span></td>\n",
              "      <td>9.04</td>\n",
              "      <td><img src=\"https://cdn.myanimelist.net/images/anime/1337/99013.jpg\" width=\"150\" ></td>\n",
              "    </tr>\n",
              "    <tr>\n",
              "      <td><span style=\"font-size: 1.5em; font-weight: bold;\">Gintama'</span></td>\n",
              "      <td>9.03</td>\n",
              "      <td><img src=\"https://cdn.myanimelist.net/images/anime/4/50361.jpg\" width=\"150\" ></td>\n",
              "    </tr>\n",
              "    <tr>\n",
              "      <td><span style=\"font-size: 1.5em; font-weight: bold;\">Bleach: Sennen Kessen-hen</span></td>\n",
              "      <td>9.03</td>\n",
              "      <td><img src=\"https://cdn.myanimelist.net/images/anime/1908/135431.jpg\" width=\"150\" ></td>\n",
              "    </tr>\n",
              "    <tr>\n",
              "      <td><span style=\"font-size: 1.5em; font-weight: bold;\">Gintama': Enchousen</span></td>\n",
              "      <td>9.02</td>\n",
              "      <td><img src=\"https://cdn.myanimelist.net/images/anime/1452/123686.jpg\" width=\"150\" ></td>\n",
              "    </tr>\n",
              "  </tbody>\n",
              "</table>"
            ]
          },
          "metadata": {}
        }
      ],
      "source": [
        "# df top_animes\n",
        "top_animes = get_top_animes_from_api()\n",
        "df = pd.DataFrame(top_animes)\n",
        "\n",
        "# ordeno por score de manera descendente\n",
        "df = df.sort_values(by='score', ascending=False)\n",
        "\n",
        "df = df.head(10)  # tomo los primeros 10 animes\n",
        "\n",
        "# cambio el índice para que comience en 1\n",
        "df.index = range(1, len(df) + 1)\n",
        "\n",
        "# función para mostrar imágenes en el df\n",
        "def path_to_image_html(path):\n",
        "    return '<img src=\"' + path + '\" width=\"150\" >'\n",
        "\n",
        "# función para resaltar el título\n",
        "def highlight_title(title):\n",
        "    return f'<span style=\"font-size: 1.5em; font-weight: bold;\">{title}</span>'\n",
        "\n",
        "# creo el título del gráfico\n",
        "title_html = \"\"\"\n",
        "<style>\n",
        "    .title {\n",
        "        font-size: 24px;\n",
        "        font-weight: bold;\n",
        "        text-align: left;\n",
        "    }\n",
        "</style>\n",
        "<div class=\"title\">Top 10 animes mejor puntuados de todos los tiempos</div>\n",
        "\"\"\"\n",
        "\n",
        "# muestro el título y el df sin encabezados de columnas e índice\n",
        "display(HTML(title_html + df.to_html(escape=False, formatters={\n",
        "    'images.jpg.image_url': path_to_image_html,\n",
        "    'title': highlight_title\n",
        "}, index=False, header=False)))\n"
      ]
    },
    {
      "cell_type": "markdown",
      "metadata": {
        "id": "PFKctU2_67RZ"
      },
      "source": [
        "# 10. Análisis Demográfico"
      ]
    },
    {
      "cell_type": "markdown",
      "metadata": {
        "id": "gxaQ2O6Ais3j"
      },
      "source": [
        "Ahora, adentrandome más en lo específico de mi análisis e interés con este dataset, veamos algunos datos demográficos:"
      ]
    },
    {
      "cell_type": "markdown",
      "metadata": {
        "id": "JUJ7vkyPi8SY"
      },
      "source": [
        "**Primero veamos como se distribuye el anime según las categorías de edad**"
      ]
    },
    {
      "cell_type": "code",
      "execution_count": null,
      "metadata": {
        "id": "fQ7gc8KproJD",
        "colab": {
          "base_uri": "https://localhost:8080/",
          "height": 514
        },
        "outputId": "aa9c4282-3ded-476f-cb85-ffee6f8bda70"
      },
      "outputs": [
        {
          "output_type": "stream",
          "name": "stderr",
          "text": [
            "<ipython-input-41-08598c08420d>:23: FutureWarning:\n",
            "\n",
            "\n",
            "\n",
            "Passing `palette` without assigning `hue` is deprecated and will be removed in v0.14.0. Assign the `x` variable to `hue` and set `legend=False` for the same effect.\n",
            "\n",
            "\n"
          ]
        },
        {
          "output_type": "display_data",
          "data": {
            "text/plain": [
              "<Figure size 800x400 with 1 Axes>"
            ],
            "image/png": "[encoded data removed]"
          },
          "metadata": {}
        }
      ],
      "source": [
        "def get_anime_rating_from_api(page=1):\n",
        "    url = f\"https://api.jikan.moe/v4/top/anime\"\n",
        "    response = requests.get(url)\n",
        "\n",
        "    if response.status_code == 200:\n",
        "        data = response.json()\n",
        "        top_animes = [{'title': anime['title'],\n",
        "                       'score': anime['score'],\n",
        "                       'images.jpg.image_url': anime['images']['jpg']['image_url'],\n",
        "                       'rating': anime['rating']}\n",
        "                      for anime in data.get('data', [])]\n",
        "\n",
        "        return top_animes\n",
        "    else:\n",
        "        return []\n",
        "\n",
        "# llamo a la API para obtener datos de animes\n",
        "animes = get_anime_rating_from_api()\n",
        "df_anime = pd.DataFrame(animes)\n",
        "\n",
        "# Configuración y visualización del gráfico\n",
        "plt.figure(figsize=(8,4))\n",
        "ax = sns.countplot(data = df_anime, x = df_anime[\"rating\"], order = df_anime['rating'].value_counts().index.sort_values(), palette=\"pastel\")\n",
        "ax.set(title='Demográfica y Anime')\n",
        "plt.xticks(fontsize=6)\n",
        "plt.xlabel(\"Categorías de Edad\", size = 8)\n",
        "plt.yticks(size = 8)\n",
        "plt.ylabel(\"Cantidad\", size = 10)\n",
        "plt.show()"
      ]
    },
    {
      "cell_type": "markdown",
      "metadata": {
        "id": "y4Qv48VwjH0Y"
      },
      "source": [
        "Mayoritariamente para un público adolescente, con un considerable contenido Restringido +17 y luego un menor, pero igualmente significamente, R+ por mínima desnudez.\n",
        "\n",
        "Tengamos en cuenta que no se está contando acá el contenido que es explicito para adultos."
      ]
    },
    {
      "cell_type": "markdown",
      "metadata": {
        "id": "9MIeLN1Gv_s9"
      },
      "source": [
        "**Vamos a observar ahora el df de usuarios de MAL**\n",
        "\n",
        "Primero algunos datos básicos"
      ]
    },
    {
      "cell_type": "code",
      "execution_count": null,
      "metadata": {
        "id": "66zCB0wNvaLd",
        "colab": {
          "base_uri": "https://localhost:8080/"
        },
        "outputId": "7cb700db-039e-44cf-f659-d27e7abbb321"
      },
      "outputs": [
        {
          "output_type": "stream",
          "name": "stdout",
          "text": [
            "count    116133.000000\n",
            "mean          7.713389\n",
            "std           1.538595\n",
            "min           0.000000\n",
            "25%           7.310000\n",
            "50%           7.880000\n",
            "75%           8.460000\n",
            "max          10.000000\n",
            "Name: stats_mean_score, dtype: float64\n"
          ]
        }
      ],
      "source": [
        "print(user_df['stats_mean_score'].describe())"
      ]
    },
    {
      "cell_type": "markdown",
      "metadata": {
        "id": "dTlxsFuIKCX8"
      },
      "source": [
        "Demosle una mirada la distribución de las puntuaciones que los usuarios de MAL le dieron a los animes que vieron"
      ]
    },
    {
      "cell_type": "code",
      "execution_count": null,
      "metadata": {
        "id": "uL7WXKwEvdAR",
        "colab": {
          "base_uri": "https://localhost:8080/",
          "height": 465
        },
        "outputId": "88866266-7b50-4f69-eed1-2ab10070a90d"
      },
      "outputs": [
        {
          "output_type": "display_data",
          "data": {
            "text/plain": [
              "<Figure size 640x480 with 1 Axes>"
            ],
            "image/png": "[encoded data removed]"
          },
          "metadata": {}
        }
      ],
      "source": [
        "user_df['stats_mean_score'].hist(bins=50)\n",
        "plt.title('Distribución de Puntuaciones Medias')\n",
        "plt.xlabel('Puntuación Media')\n",
        "plt.ylabel('Frecuencia')\n",
        "plt.show()"
      ]
    },
    {
      "cell_type": "markdown",
      "metadata": {
        "id": "7eHfRiyTKgI5"
      },
      "source": [
        "Las puntuaciones se concentran significativamente entre el 7 a 8, lo que sugiere que la mayoría de los titulos han recibido puntuaciones dentro de este rango.\n",
        "Hay muy pocas puntuaciones en los extremos bajos (cerca de 0) y altos (cerca de 10), lo que nos dice que existen pocos titulos con puntuaciones muy bajas o perfectas.\n",
        "La forma de la distribución es ligeramente sesgada hacia la izquierda, lo que significa que hay una tendencia a que las puntuaciones sean más altas en lugar de más bajas."
      ]
    },
    {
      "cell_type": "markdown",
      "metadata": {
        "id": "8pJV9w359wlr"
      },
      "source": [
        "**Boxplot** Para identificar posibles valores atípicos"
      ]
    },
    {
      "cell_type": "code",
      "execution_count": null,
      "metadata": {
        "id": "qgVQTQ59vhqm",
        "colab": {
          "base_uri": "https://localhost:8080/",
          "height": 445
        },
        "outputId": "a52e76c2-4e0b-47fc-94e6-b6ac88e02a5d"
      },
      "outputs": [
        {
          "output_type": "display_data",
          "data": {
            "text/plain": [
              "<Figure size 640x480 with 1 Axes>"
            ],
            "image/png": "[encoded data removed]"
          },
          "metadata": {}
        }
      ],
      "source": [
        "user_df.boxplot(column=['stats_mean_score'])\n",
        "plt.title('Boxplot de Puntuaciones Medias')\n",
        "plt.ylabel('Puntuación Media')\n",
        "plt.show()"
      ]
    },
    {
      "cell_type": "markdown",
      "metadata": {
        "id": "gy5fk3tu-Kuh"
      },
      "source": [
        "Este boxplot confirma lo que las estadísticas descriptivas sugerían: aunque la mayoría de las puntuaciones están agrupadas alrededor de 7 a 8.5, hay una dispersión considerable y una cantidad significativa de valores atípicos bajos. Estos valores atípicos podrían estar afectando la media y podrían merecer una investigación más detallada para entender por qué algunos usuarios tienen puntuaciones medias tan bajas (entiendo que, es común en la web de MAL, no tener puntuaciones, la web lo permite. Esto afecta las medidas). Además, el hecho de que la caja no esté centrada perfectamente alrededor de la línea de la mediana indica que hay una ligera asimetría en los datos, con una cola de distribución hacia las puntuaciones más bajas."
      ]
    },
    {
      "cell_type": "markdown",
      "metadata": {
        "id": "5eGLQcsT-lJa"
      },
      "source": [
        "**Scatter Plot** para comprobar la dispersión de puntuaciones medias con otra variable como 'user_days_spent_watching' (los días que el usuario pasó mirando anime)"
      ]
    },
    {
      "cell_type": "code",
      "execution_count": null,
      "metadata": {
        "id": "wQaHSBqEvlcr",
        "colab": {
          "base_uri": "https://localhost:8080/",
          "height": 465
        },
        "outputId": "440f32b0-0b28-4dd2-87e2-5762e12c836b"
      },
      "outputs": [
        {
          "output_type": "display_data",
          "data": {
            "text/plain": [
              "<Figure size 640x480 with 1 Axes>"
            ],
            "image/png": "[encoded data removed]"
          },
          "metadata": {}
        }
      ],
      "source": [
        "plt.scatter(user_df['user_days_spent_watching'], user_df['stats_mean_score'])\n",
        "plt.title('Dispersión de Puntuaciones Medias vs. Días Pasados Mirando')\n",
        "plt.xlabel('Días Pasados Mirando')\n",
        "plt.ylabel('Puntuación Media')\n",
        "plt.show()"
      ]
    },
    {
      "cell_type": "markdown",
      "metadata": {
        "id": "Il787-I__saW"
      },
      "source": [
        "El scatter plot muestra que no hay una correlación evidente entre el tiempo dedicado a mirar y las puntuaciones medias otorgadas por los usuarios. Además, algunos valores atípicos extremos indican comportamientos o datos inusuales."
      ]
    },
    {
      "cell_type": "markdown",
      "metadata": {
        "id": "mE28TBpx_A8K"
      },
      "source": [
        "Vamos a comprobar si hay datos faltantes o nulos que podrían afectar el análisis:"
      ]
    },
    {
      "cell_type": "code",
      "execution_count": null,
      "metadata": {
        "id": "QJdTJHHNvn_-",
        "colab": {
          "base_uri": "https://localhost:8080/"
        },
        "outputId": "e0979151-5a84-46a9-d5eb-9ac674b7031b"
      },
      "outputs": [
        {
          "output_type": "stream",
          "name": "stdout",
          "text": [
            "0\n"
          ]
        }
      ],
      "source": [
        "print(user_df['stats_mean_score'].isnull().sum())"
      ]
    },
    {
      "cell_type": "markdown",
      "metadata": {
        "id": "FsBtmbM3_KAk"
      },
      "source": [
        "No hay"
      ]
    },
    {
      "cell_type": "markdown",
      "metadata": {
        "id": "Q-jZcUijd9gj"
      },
      "source": [
        "**Observemos la Distribución de Género de los Usuarios de MAL**"
      ]
    },
    {
      "cell_type": "code",
      "execution_count": null,
      "metadata": {
        "id": "gE8sqhkebfVl",
        "colab": {
          "base_uri": "https://localhost:8080/",
          "height": 597
        },
        "outputId": "a14a63f2-7ee6-4a14-df20-49c4d7141b77"
      },
      "outputs": [
        {
          "output_type": "stream",
          "name": "stderr",
          "text": [
            "<ipython-input-47-b2efd4a1a35d>:4: FutureWarning:\n",
            "\n",
            "\n",
            "\n",
            "Passing `palette` without assigning `hue` is deprecated and will be removed in v0.14.0. Assign the `x` variable to `hue` and set `legend=False` for the same effect.\n",
            "\n",
            "\n"
          ]
        },
        {
          "output_type": "display_data",
          "data": {
            "text/plain": [
              "<Figure size 500x500 with 1 Axes>"
            ],
            "image/png": "[encoded data removed]"
          },
          "metadata": {}
        }
      ],
      "source": [
        "# Distribución de género\n",
        "gender_distribution = user_df['gender'].value_counts()\n",
        "plt.figure(figsize=(5, 5))\n",
        "sns.barplot(x=gender_distribution.index, y=gender_distribution.values, palette='muted')\n",
        "plt.title('Distribución de Género de los Usuarios', fontsize=10)\n",
        "plt.xlabel('Género', fontsize=10)\n",
        "plt.ylabel('Número de Usuarios', fontsize=10)\n",
        "plt.xticks(fontsize=8)\n",
        "plt.yticks(fontsize=8)\n",
        "plt.show()"
      ]
    },
    {
      "cell_type": "markdown",
      "metadata": {
        "id": "Ave2bWAAeVh9"
      },
      "source": [
        "La mayoría de los usuarios son hombres y la mitad de esta cantidad, son mujeres. Con una muy breve cantidad de usuarios no binarios. Son datos esperados, pero que con el tiempo van cambiando y en tendencia de aumento, para los generos femenino y otros."
      ]
    },
    {
      "cell_type": "markdown",
      "metadata": {
        "id": "oCZ4bWJ-e_k3"
      },
      "source": [
        "**Veamos entonces la Distribución de Edad de los usuarios**"
      ]
    },
    {
      "cell_type": "code",
      "execution_count": null,
      "metadata": {
        "id": "voc1072AdX-m",
        "colab": {
          "base_uri": "https://localhost:8080/",
          "height": 642
        },
        "outputId": "04ceaa07-5ee8-4c96-ab6d-3e089e5abe94"
      },
      "outputs": [
        {
          "output_type": "display_data",
          "data": {
            "text/plain": [
              "<Figure size 1500x700 with 1 Axes>"
            ],
            "image/png": "[encoded data removed]"
          },
          "metadata": {}
        }
      ],
      "source": [
        "user_df['age'] = pd.to_numeric(user_df['age'], errors='coerce')\n",
        "plt.figure(figsize=(15, 7))\n",
        "sns.histplot(user_df['age'].dropna(), bins=50, color='skyblue', edgecolor='black')\n",
        "plt.title('Distribución de Edad de los Usuarios', fontsize=16)\n",
        "plt.xlabel('Edad', fontsize=14)\n",
        "plt.ylabel('Número de Usuarios', fontsize=14)\n",
        "plt.xticks(range(0, 100, 5), fontsize=12)\n",
        "plt.yticks(fontsize=12)\n",
        "plt.xlim([user_df['age'].min()-1, user_df['age'].max()+1])\n",
        "plt.show()"
      ]
    },
    {
      "cell_type": "markdown",
      "metadata": {
        "id": "624kBpWzevOx"
      },
      "source": [
        "Esto es normal para lo que ya hemos observado antes, el estereotípo del anime para infantes no es más que eso. Y las edades se distribuyen en una gran mayoría en jovenes adultos."
      ]
    },
    {
      "cell_type": "markdown",
      "metadata": {
        "id": "NaWjvMNwfyy8"
      },
      "source": [
        "**¿Cómo es la tendencia de inscrimpciones por género a lo largo del tiempo para MAL?**"
      ]
    },
    {
      "cell_type": "code",
      "execution_count": null,
      "metadata": {
        "id": "zesCBBocfy_a",
        "colab": {
          "base_uri": "https://localhost:8080/",
          "height": 664
        },
        "outputId": "be6f7233-b3d2-4137-cd77-feec1f0d71a6"
      },
      "outputs": [
        {
          "output_type": "display_data",
          "data": {
            "text/plain": [
              "<Figure size 1500x700 with 1 Axes>"
            ],
            "image/png": "[encoded data removed]"
          },
          "metadata": {}
        }
      ],
      "source": [
        "# me aseguro que la columna join_date este en formato fecha\n",
        "user_df['join_date'] = pd.to_datetime(user_df['join_date'])\n",
        "\n",
        "# la indico como 'join_date' como índice\n",
        "user_df.set_index('join_date', inplace=True)\n",
        "\n",
        "# agrupo por género y resampleo por año, contando las inscripciones\n",
        "gender_time_series = user_df.groupby('gender').resample('A').size()\n",
        "\n",
        "# reseteo el índice para facilitar la visualización\n",
        "gender_time_series = gender_time_series.reset_index(name='count')\n",
        "\n",
        "# visualizo la tendencia de inscripciones por género a lo largo del tiempo\n",
        "plt.figure(figsize=(15, 7))\n",
        "sns.lineplot(x='join_date', y='count', hue='gender', data=gender_time_series, marker='o')\n",
        "plt.title('Tendencia de Inscripciones por Género a lo Largo del Tiempo', fontsize=16)\n",
        "plt.xlabel('Fecha', fontsize=14)\n",
        "plt.ylabel('Número de Inscripciones', fontsize=14)\n",
        "plt.xticks(fontsize=12, rotation=45)\n",
        "plt.yticks(fontsize=12)\n",
        "plt.legend(title='Género')\n",
        "plt.show()"
      ]
    },
    {
      "cell_type": "markdown",
      "metadata": {
        "id": "ap6JAd_1gF8r"
      },
      "source": [
        "Cómo mencionaba anteriormente, la tendencia ha ido en aumento para los generos mujer y no binario, aunque mínimamente para este último. Luego hay una decaida en las inscripciones hasta ahora, pero eso puede ser debido a una caída en la popularidad de la website o un cambio en la data que se registra, pudiendo ser un dato, género."
      ]
    },
    {
      "cell_type": "markdown",
      "metadata": {
        "id": "AL5yROUdgyjJ"
      },
      "source": [
        "**Voy a realizar una prueba t para comparar media entre grupos**"
      ]
    },
    {
      "cell_type": "code",
      "execution_count": null,
      "metadata": {
        "id": "jUvJtXuLLGen",
        "colab": {
          "base_uri": "https://localhost:8080/"
        },
        "outputId": "2a56ea73-0702-42cb-d379-80ef21cc2df3"
      },
      "outputs": [
        {
          "output_type": "stream",
          "name": "stdout",
          "text": [
            "Estadistico t: -14.437751143962608, Valor p: 3.4742875388245588e-47\n"
          ]
        }
      ],
      "source": [
        "# comparo el mean score de usuarios hombre y mujeres\n",
        "score_male = user_df[user_df['gender'] == 'Male']['stats_mean_score']\n",
        "score_female = user_df[user_df['gender'] == 'Female']['stats_mean_score']\n",
        "\n",
        "# dropeo los valores NaN para evitar error durante el t-test\n",
        "t_stat, p_val = ttest_ind(score_male.dropna(), score_female.dropna(), equal_var=False)\n",
        "\n",
        "print(f\"Estadistico t: {t_stat}, Valor p: {p_val}\")\n"
      ]
    },
    {
      "cell_type": "markdown",
      "metadata": {
        "id": "nLBm7y9QNMjM"
      },
      "source": [
        "El resultado de la prueba t es bastante significativo. Aprox. -14 en Estadistico t y Valor p 3.4742875388245588e-47 sugiere que hay una marcada diferencia estadística entre las puntuaciones medias de los dos grupos que analicé: hombres y mujeres.\n",
        "\n",
        "\n",
        " Dado que el valor p es extremadamente pequeño, mucho menor que el umbral típico de 0,05 o umbrales incluso más estrictos, se puede rechazar la hipótesis nula de que los dos grupos tengan la misma puntuación media con alta confianza.  El signo negativo del estadístico t indica que la puntuación media del primer grupo que pasó (usuarios hombres) es menor que la puntuación media del segundo grupo (mujeres)."
      ]
    },
    {
      "cell_type": "markdown",
      "metadata": {
        "id": "P7zD3zJDtZRG"
      },
      "source": [
        "# 11. Entrenando un algoritmo de Machine Learning"
      ]
    },
    {
      "cell_type": "markdown",
      "metadata": {
        "id": "RHRkkBq9OOem"
      },
      "source": [
        "Me quedo solo con las columnas relevantes de cada df"
      ]
    },
    {
      "cell_type": "code",
      "execution_count": null,
      "metadata": {
        "id": "rNNJwrIjOmVX"
      },
      "outputs": [],
      "source": [
        "# Elimino columnas no relevantes de anime_cleaned_df\n",
        "anime_cleaned_df = anime_cleaned_df.drop(['title','title_english','title_japanese','title_synonyms','image_url','status','airing','aired_string','aired','duration',\n",
        "                                          'members','background','premiered','broadcast','related','producer','licensor','opening_theme','ending_theme','duration_min',\n",
        "                                          'aired_from_year'], axis=1, errors='ignore')"
      ]
    },
    {
      "cell_type": "code",
      "execution_count": null,
      "metadata": {
        "id": "AREcC1xDYHB5"
      },
      "outputs": [],
      "source": [
        "anime_cleaned_df = anime_cleaned_df.rename(columns={'scored_by': 'user_id'})"
      ]
    },
    {
      "cell_type": "code",
      "execution_count": null,
      "metadata": {
        "id": "2TrpmymYTVhy"
      },
      "outputs": [],
      "source": [
        "# Elimino columnas no relevantes de user_df\n",
        "user_df = user_df.drop(['user_watching', 'user_completed', 'user_onhold','user_dropped', 'user_plantowatch', 'user_days_spent_watching',\n",
        "                        'access_rank','last_online','stats_rewatched','stats_episodes'], axis=1, errors='ignore')"
      ]
    },
    {
      "cell_type": "code",
      "execution_count": null,
      "metadata": {
        "id": "48rEOXxvNcbo"
      },
      "outputs": [],
      "source": [
        "merged1_df = pd.merge(user_df, userAnimeList_df, on='username', how='inner')"
      ]
    },
    {
      "cell_type": "code",
      "execution_count": null,
      "metadata": {
        "id": "mEVXekjHFnU1"
      },
      "outputs": [],
      "source": [
        "merged1_df['username'] = merged1_df['username'].astype(str)"
      ]
    },
    {
      "cell_type": "code",
      "execution_count": null,
      "metadata": {
        "id": "Rye9vyPQGPuZ",
        "colab": {
          "base_uri": "https://localhost:8080/"
        },
        "outputId": "4065eee7-d83d-4021-899a-a986195a9ca0"
      },
      "outputs": [
        {
          "output_type": "stream",
          "name": "stdout",
          "text": [
            "Index(['username', 'anime_id', 'my_watched_episodes', 'my_start_date',\n",
            "       'my_finish_date', 'my_score', 'my_status', 'my_rewatching',\n",
            "       'my_rewatching_ep', 'my_last_updated', 'my_tags'],\n",
            "      dtype='object')\n"
          ]
        }
      ],
      "source": [
        "print(userAnimeList_df.columns)"
      ]
    },
    {
      "cell_type": "code",
      "execution_count": null,
      "metadata": {
        "id": "FS-aoLzh-Z5M"
      },
      "outputs": [],
      "source": [
        "userAnimeList_df = anime_cleaned_df.rename(columns={'my_score': 'score'})"
      ]
    },
    {
      "cell_type": "markdown",
      "metadata": {
        "id": "-_QS8zFWBMac"
      },
      "source": [
        "Uno merged_df con userAnimeList_df"
      ]
    },
    {
      "cell_type": "code",
      "execution_count": null,
      "metadata": {
        "id": "ZTp2qC8hBTjx"
      },
      "outputs": [],
      "source": [
        "merged_df = pd.merge(anime_cleaned_df, merged1_df, on='anime_id', how='inner')"
      ]
    },
    {
      "cell_type": "code",
      "execution_count": null,
      "metadata": {
        "id": "_qIPe8kWu6JT"
      },
      "outputs": [],
      "source": [
        "merged_df = merged_df.rename(columns={'user_id_x': 'user_id'})"
      ]
    },
    {
      "cell_type": "code",
      "execution_count": null,
      "metadata": {
        "id": "g4FfBC-IAoEL"
      },
      "outputs": [],
      "source": [
        "# Elimino columnas no relevantes de userAnimeList_df\n",
        "merged_df = merged_df.drop(['user_id_y','my_watched_episodes','my_start_date','my_finish_date','my_status','my_rewatching','my_rewatching_ep',\n",
        "                        'my_last_updated','my_tags'], axis=1, errors='ignore')"
      ]
    },
    {
      "cell_type": "code",
      "execution_count": null,
      "metadata": {
        "id": "5Zm4u97QXHIM",
        "colab": {
          "base_uri": "https://localhost:8080/"
        },
        "outputId": "d515b13e-5905-4746-d835-f31c233fc9e5"
      },
      "outputs": [
        {
          "output_type": "stream",
          "name": "stdout",
          "text": [
            "<class 'pandas.core.frame.DataFrame'>\n",
            "Int64Index: 569672 entries, 0 to 569671\n",
            "Data columns (total 19 columns):\n",
            " #   Column            Non-Null Count   Dtype  \n",
            "---  ------            --------------   -----  \n",
            " 0   anime_id          569672 non-null  int64  \n",
            " 1   type              569672 non-null  object \n",
            " 2   source            569672 non-null  object \n",
            " 3   episodes          569672 non-null  int64  \n",
            " 4   rating            569672 non-null  object \n",
            " 5   score             569672 non-null  float64\n",
            " 6   user_id           569672 non-null  int64  \n",
            " 7   rank              563923 non-null  float64\n",
            " 8   popularity        569672 non-null  int64  \n",
            " 9   favorites         569672 non-null  int64  \n",
            " 10  studio            569672 non-null  object \n",
            " 11  genre             569648 non-null  object \n",
            " 12  username          569672 non-null  object \n",
            " 13  gender            569672 non-null  object \n",
            " 14  location          569672 non-null  object \n",
            " 15  birth_date        569672 non-null  object \n",
            " 16  age               569672 non-null  float64\n",
            " 17  stats_mean_score  569672 non-null  float64\n",
            " 18  my_score          569672 non-null  int64  \n",
            "dtypes: float64(4), int64(6), object(9)\n",
            "memory usage: 86.9+ MB\n",
            "None\n"
          ]
        }
      ],
      "source": [
        "print(merged_df.info())"
      ]
    },
    {
      "cell_type": "code",
      "execution_count": null,
      "metadata": {
        "id": "fh2I_nl0xa2x",
        "colab": {
          "base_uri": "https://localhost:8080/"
        },
        "outputId": "f5a49494-5585-4f5b-ad03-d594d87768de"
      },
      "outputs": [
        {
          "output_type": "stream",
          "name": "stdout",
          "text": [
            "anime_id            0\n",
            "type                0\n",
            "source              0\n",
            "episodes            0\n",
            "rating              0\n",
            "score               0\n",
            "user_id             0\n",
            "rank                0\n",
            "popularity          0\n",
            "favorites           0\n",
            "studio              0\n",
            "genre               0\n",
            "username            0\n",
            "gender              0\n",
            "location            0\n",
            "birth_date          0\n",
            "age                 0\n",
            "stats_mean_score    0\n",
            "my_score            0\n",
            "dtype: int64\n"
          ]
        }
      ],
      "source": [
        "# droppeo nulos de merged_df\n",
        "merged_df = merged_df.dropna(subset=['rank', 'genre'])\n",
        "# Verifico\n",
        "print(merged_df.isnull().sum())"
      ]
    },
    {
      "cell_type": "markdown",
      "metadata": {
        "id": "gIQHy1DMt7OZ"
      },
      "source": [
        "## i) Encoding"
      ]
    },
    {
      "cell_type": "markdown",
      "metadata": {
        "id": "ykengKRx3Z5x"
      },
      "source": [
        "Realizo un análisis de las columnas para determinar como tratarlas:"
      ]
    },
    {
      "cell_type": "code",
      "execution_count": null,
      "metadata": {
        "id": "6OLUWc2k3Xch",
        "colab": {
          "base_uri": "https://localhost:8080/"
        },
        "outputId": "d04ebe9f-e375-45f0-9cab-3a81093b3fd9"
      },
      "outputs": [
        {
          "output_type": "stream",
          "name": "stdout",
          "text": [
            "Resumen General del df:\n",
            "<class 'pandas.core.frame.DataFrame'>\n",
            "Int64Index: 563899 entries, 0 to 569671\n",
            "Data columns (total 19 columns):\n",
            " #   Column            Non-Null Count   Dtype  \n",
            "---  ------            --------------   -----  \n",
            " 0   anime_id          563899 non-null  int64  \n",
            " 1   type              563899 non-null  object \n",
            " 2   source            563899 non-null  object \n",
            " 3   episodes          563899 non-null  int64  \n",
            " 4   rating            563899 non-null  object \n",
            " 5   score             563899 non-null  float64\n",
            " 6   user_id           563899 non-null  int64  \n",
            " 7   rank              563899 non-null  float64\n",
            " 8   popularity        563899 non-null  int64  \n",
            " 9   favorites         563899 non-null  int64  \n",
            " 10  studio            563899 non-null  object \n",
            " 11  genre             563899 non-null  object \n",
            " 12  username          563899 non-null  object \n",
            " 13  gender            563899 non-null  object \n",
            " 14  location          563899 non-null  object \n",
            " 15  birth_date        563899 non-null  object \n",
            " 16  age               563899 non-null  float64\n",
            " 17  stats_mean_score  563899 non-null  float64\n",
            " 18  my_score          563899 non-null  int64  \n",
            "dtypes: float64(4), int64(6), object(9)\n",
            "memory usage: 86.0+ MB\n",
            "None\n",
            "\n",
            "Número de valores únicos por Columna:\n",
            "anime_id            5751\n",
            "type                   6\n",
            "source                15\n",
            "episodes             147\n",
            "rating                 7\n",
            "score                464\n",
            "user_id             4810\n",
            "rank                4916\n",
            "popularity          5040\n",
            "favorites           1220\n",
            "studio               605\n",
            "genre               3007\n",
            "username            1390\n",
            "gender                 3\n",
            "location            1139\n",
            "birth_date          1322\n",
            "age                   44\n",
            "stats_mean_score     367\n",
            "my_score              11\n",
            "dtype: int64\n",
            "\n",
            "Ejemplos de Valores únicos para algunas Columnas:\n",
            "\n",
            "valores únicos en type:\n",
            "['TV' 'OVA' 'Special' 'Movie' 'ONA' 'Music']\n",
            "\n",
            "valores únicos en source:\n",
            "['Manga' 'Original' 'Light novel' '4-koma manga' 'Novel' 'Visual novel'\n",
            " 'Other' 'Game' 'Picture book' 'Card game']\n",
            "\n",
            "valores únicos en rating:\n",
            "['PG-13 - Teens 13 or older' 'PG - Children' 'G - All Ages'\n",
            " 'R+ - Mild Nudity' 'R - 17+ (violence & profanity)' 'None' 'Rx - Hentai']\n",
            "\n",
            "valores únicos en studio:\n",
            "['David Production' 'Gonzo' 'Satelight' 'Hal Film Maker' 'J.C.Staff'\n",
            " 'Studio Pierrot, Studio Hibari' 'Production Reed' 'Bones' 'Studio Deen'\n",
            " 'Brain&#039;s Base']\n",
            "\n",
            "valores únicos en genre:\n",
            "['Comedy, Supernatural, Romance, Shounen'\n",
            " 'Comedy, Parody, Romance, School, Shounen'\n",
            " 'Comedy, Magic, School, Shoujo' 'Comedy, Drama, Magic, Romance, Fantasy'\n",
            " 'Comedy, Drama, Romance, Shounen' 'Kids, School, Shoujo'\n",
            " 'Magic, Comedy, Romance, School, Shoujo'\n",
            " 'Action, Drama, Fantasy, Romance, School, Supernatural'\n",
            " 'Music, Slice of Life, Comedy, Romance, Josei'\n",
            " 'Comedy, Harem, Romance, School, Shoujo']\n",
            "\n",
            "valores únicos en gender:\n",
            "['Female' 'Male' 'Non-Binary']\n",
            "\n",
            "valores únicos en location:\n",
            "['Chennai, India ' 'Manila' 'Poland' '~ Hungary ~' 'Mexico'\n",
            " 'Hamilton Ontario' 'ï½\\x81ï½•ï½“ï½”ï½’ï½‰ï½\\x81ã€‚' 'Canada'\n",
            " 'Rhineland-Palatinate, Germany' 'Salisbury NC']\n",
            "\n",
            "Resumen estadístico de datos numéricos:\n",
            "            anime_id       episodes          score       user_id  \\\n",
            "count  563899.000000  563899.000000  563899.000000  5.638990e+05   \n",
            "mean    11789.624131      19.147025       7.569192  1.147063e+05   \n",
            "std     11333.003236      39.752298       0.689204  1.484217e+05   \n",
            "min         1.000000       0.000000       2.330000  2.000000e+00   \n",
            "25%      1602.000000       4.000000       7.170000  2.185700e+04   \n",
            "50%      8479.000000      12.000000       7.590000  6.006400e+04   \n",
            "75%     19489.000000      24.000000       8.050000  1.458650e+05   \n",
            "max     37719.000000    1787.000000       9.250000  1.009477e+06   \n",
            "\n",
            "                rank     popularity      favorites            age  \\\n",
            "count  563899.000000  563899.000000  563899.000000  563899.000000   \n",
            "mean     1984.477655    1118.760647    4700.092717      30.360221   \n",
            "std      1903.277385    1258.638235   11516.362102       6.896481   \n",
            "min         1.000000       1.000000       0.000000       3.000000   \n",
            "25%       485.000000     235.000000     131.000000      27.000000   \n",
            "50%      1370.000000     697.000000     683.000000      30.000000   \n",
            "75%      2934.000000    1561.000000    3365.000000      33.000000   \n",
            "max     12819.000000   14002.000000  106895.000000      93.000000   \n",
            "\n",
            "       stats_mean_score       my_score  \n",
            "count     563899.000000  563899.000000  \n",
            "mean           7.420925       5.202740  \n",
            "std            1.374302       3.726098  \n",
            "min            0.000000       0.000000  \n",
            "25%            6.970000       0.000000  \n",
            "50%            7.560000       7.000000  \n",
            "75%            8.140000       8.000000  \n",
            "max           10.000000      10.000000  \n",
            "\n",
            "Distribución de Categorías en Columnas Categóricas:\n",
            "\n",
            "Distribución en type:\n",
            "TV         396827\n",
            "Movie       73909\n",
            "OVA         47625\n",
            "Special     35558\n",
            "ONA          8579\n",
            "Music        1401\n",
            "Name: type, dtype: int64\n",
            "\n",
            "Distribución en source:\n",
            "Manga            240776\n",
            "Original         107596\n",
            "Light novel       95994\n",
            "Visual novel      36839\n",
            "Game              24584\n",
            "Novel             22026\n",
            "4-koma manga      16686\n",
            "Web manga          8630\n",
            "Other              6737\n",
            "Music              1246\n",
            "Card game          1224\n",
            "Book               1096\n",
            "Digital manga       248\n",
            "Picture book        178\n",
            "Radio                39\n",
            "Name: source, dtype: int64\n",
            "\n",
            "Distribución en rating:\n",
            "PG-13 - Teens 13 or older         337540\n",
            "R - 17+ (violence & profanity)    122964\n",
            "R+ - Mild Nudity                   65060\n",
            "PG - Children                      20780\n",
            "G - All Ages                       17151\n",
            "None                                 403\n",
            "Rx - Hentai                            1\n",
            "Name: rating, dtype: int64\n",
            "\n",
            "Distribución en studio:\n",
            "Madhouse                        34730\n",
            "J.C.Staff                       30512\n",
            "A-1 Pictures                    26250\n",
            "Toei Animation                  22794\n",
            "Studio Deen                     21117\n",
            "                                ...  \n",
            "Toei Animation, Daewon Media        1\n",
            "Studio Ppuri                        1\n",
            "Tsukimidou                          1\n",
            "Xebec, Group TAC                    1\n",
            "OLM, OLM Digital                    1\n",
            "Name: studio, Length: 605, dtype: int64\n",
            "\n",
            "Distribución en genre:\n",
            "Slice of Life, Comedy, School                                 3295\n",
            "Action, Supernatural, Magic, Fantasy                          2959\n",
            "Slice of Life, Comedy, Romance, School                        2959\n",
            "Slice of Life, Comedy                                         2854\n",
            "Comedy                                                        2769\n",
            "                                                              ... \n",
            "Action, Historical, Supernatural, Martial Arts, Fantasy          1\n",
            "Action, Adventure, Cars, Comedy, Kids, Police                    1\n",
            "Adventure, Historical, Supernatural, Martial Arts, Fantasy       1\n",
            "Romance, Shoujo, Slice of Life                                   1\n",
            "Cars, Kids                                                       1\n",
            "Name: genre, Length: 3007, dtype: int64\n",
            "\n",
            "Distribución en gender:\n",
            "Male          385282\n",
            "Female        174142\n",
            "Non-Binary      4475\n",
            "Name: gender, dtype: int64\n",
            "\n",
            "Distribución en location:\n",
            "Poland                 16269\n",
            "Brazil                  9015\n",
            "Germany                 7632\n",
            "France                  6115\n",
            "Australia               5431\n",
            "                       ...  \n",
            "Amarillo,Texas             1\n",
            "bardstown, Kentucky        1\n",
            "Nun-Ya                     1\n",
            "Duri, Indonesia            1\n",
            "Marinette Wisconsin        1\n",
            "Name: location, Length: 1139, dtype: int64\n"
          ]
        }
      ],
      "source": [
        "# 1. Resumen general del df\n",
        "print(\"Resumen General del df:\")\n",
        "print(merged_df.info())\n",
        "\n",
        "# 2. Cuento valores únicos\n",
        "print(\"\\nNúmero de valores únicos por Columna:\")\n",
        "print(merged_df.nunique())\n",
        "\n",
        "# 3. Ejemplos de valores únicos para columnas seleccionadas\n",
        "print(\"\\nEjemplos de Valores únicos para algunas Columnas:\")\n",
        "for columna in ['type', 'source', 'rating', 'studio', 'genre', 'gender', 'location']:\n",
        "    if columna in merged_df.columns:\n",
        "        print(f\"\\nvalores únicos en {columna}:\")\n",
        "        print(merged_df[columna].unique()[:10])  # Muestra solo los primeros 10 valores únicos\n",
        "\n",
        "# 4. Resumen estadístico para datos numéricos\n",
        "print(\"\\nResumen estadístico de datos numéricos:\")\n",
        "print(merged_df.describe())\n",
        "\n",
        "# 5. Resumen de columnas categóricas\n",
        "print(\"\\nDistribución de Categorías en Columnas Categóricas:\")\n",
        "for columna in ['type', 'source', 'rating', 'studio', 'genre', 'gender', 'location']:\n",
        "    if columna in merged_df.columns:\n",
        "        print(f\"\\nDistribución en {columna}:\")\n",
        "        print(merged_df[columna].value_counts())"
      ]
    },
    {
      "cell_type": "markdown",
      "metadata": {
        "id": "8VrHWDbxxNIz"
      },
      "source": [
        "Label Encoding y One-hot enconding:"
      ]
    },
    {
      "cell_type": "code",
      "execution_count": null,
      "metadata": {
        "id": "GXtOs34E1Q0E",
        "colab": {
          "base_uri": "https://localhost:8080/"
        },
        "outputId": "b20114ef-3e75-4800-ce41-44d80e651178"
      },
      "outputs": [
        {
          "output_type": "stream",
          "name": "stdout",
          "text": [
            "   anime_id  episodes  score  user_id    rank  popularity  favorites  \\\n",
            "0     11013        12   7.63   139250  1274.0         231       2809   \n",
            "1     11013        12   7.63   139250  1274.0         231       2809   \n",
            "2     11013        12   7.63   139250  1274.0         231       2809   \n",
            "3     11013        12   7.63   139250  1274.0         231       2809   \n",
            "4     11013        12   7.63   139250  1274.0         231       2809   \n",
            "\n",
            "           username         location birth_date  ...  \\\n",
            "0          karthiga  Chennai, India    29-04-90  ...   \n",
            "1  RedvelvetDaisuki           Manila   01-01-95  ...   \n",
            "2          HimeAria           Poland   26-09-96  ...   \n",
            "3            Slimak           Poland   21-02-88  ...   \n",
            "4     MistButterfly      ~ Hungary ~   16-01-92  ...   \n",
            "\n",
            "   genre_Supernatural, Drama, School  \\\n",
            "0                                0.0   \n",
            "1                                0.0   \n",
            "2                                0.0   \n",
            "3                                0.0   \n",
            "4                                0.0   \n",
            "\n",
            "   genre_Supernatural, Drama, Vampire, Shounen Ai  \\\n",
            "0                                             0.0   \n",
            "1                                             0.0   \n",
            "2                                             0.0   \n",
            "3                                             0.0   \n",
            "4                                             0.0   \n",
            "\n",
            "   genre_Supernatural, Fantasy  genre_Supernatural, Magic  \\\n",
            "0                          0.0                        0.0   \n",
            "1                          0.0                        0.0   \n",
            "2                          0.0                        0.0   \n",
            "3                          0.0                        0.0   \n",
            "4                          0.0                        0.0   \n",
            "\n",
            "   genre_Supernatural, Shounen  genre_Supernatural, Slice of Life  \\\n",
            "0                          0.0                                0.0   \n",
            "1                          0.0                                0.0   \n",
            "2                          0.0                                0.0   \n",
            "3                          0.0                                0.0   \n",
            "4                          0.0                                0.0   \n",
            "\n",
            "   genre_Thriller, Mystery, Sci-Fi  genre_Thriller, Sci-Fi  type_encoded  \\\n",
            "0                              0.0                     0.0             5   \n",
            "1                              0.0                     0.0             5   \n",
            "2                              0.0                     0.0             5   \n",
            "3                              0.0                     0.0             5   \n",
            "4                              0.0                     0.0             5   \n",
            "\n",
            "   source_encoded  \n",
            "0               6  \n",
            "1               6  \n",
            "2               6  \n",
            "3               6  \n",
            "4               6  \n",
            "\n",
            "[5 rows x 3075 columns]\n"
          ]
        }
      ],
      "source": [
        "# Inicializo LabelEncoder y OneHotEncoder\n",
        "le = LabelEncoder()\n",
        "ohe = OneHotEncoder(handle_unknown='ignore')\n",
        "\n",
        "# Label Encoding para 'gender' y 'rating'\n",
        "merged_df['gender_encoded'] = le.fit_transform(merged_df['gender'])\n",
        "merged_df['rating_encoded'] = le.fit_transform(merged_df['rating'])\n",
        "\n",
        "# Conservo solo los top N estudios y agrupar todos los demás en una categoría \"Otros\"\n",
        "top_studios = merged_df['studio'].value_counts().nlargest(50).index\n",
        "merged_df['studio_reduced'] = merged_df['studio'].where(merged_df['studio'].isin(top_studios), 'Otros')\n",
        "\n",
        "# Ahora aplico One-Hot Encoding solo a 'genre' y 'studio_reduced'\n",
        "for columna in ['studio_reduced', 'genre']:\n",
        "    ohe_df = pd.DataFrame(ohe.fit_transform(merged_df[[columna]]).toarray())\n",
        "    ohe_df.columns = ohe.get_feature_names_out([columna])\n",
        "    merged_df = merged_df.join(ohe_df)\n",
        "\n",
        "# Aplico Label Encoding\n",
        "for columna in ['type', 'source']:\n",
        "    if merged_df[columna].dtype == 'object':\n",
        "        merged_df[columna + '_encoded'] = le.fit_transform(merged_df[columna])\n",
        "\n",
        "# Elimino las columnas originales no numéricas\n",
        "merged_df.drop(['type', 'source'], axis=1, inplace=True)\n",
        "\n",
        "# Elimino columnas originales\n",
        "merged_df.drop(['gender', 'rating', 'studio', 'studio_reduced', 'genre'], axis=1, inplace=True)"
      ]
    },
    {
      "cell_type": "code",
      "execution_count": null,
      "metadata": {
        "id": "CTx2xRPb6JE1",
        "colab": {
          "base_uri": "https://localhost:8080/"
        },
        "outputId": "28e9c0e8-8972-4c3a-f99e-f6369929167a"
      },
      "outputs": [
        {
          "output_type": "stream",
          "name": "stdout",
          "text": [
            "      anime_id  episodes  score  user_id    rank  popularity  favorites  \\\n",
            "0        11013        12   7.63   139250  1274.0         231       2809   \n",
            "472       2104        26   7.89    91206   727.0         366       2579   \n",
            "861       5262        51   7.55    37129  1508.0        1173        802   \n",
            "1009       721        38   8.21    36501   307.0         916       3344   \n",
            "1195     12365        25   8.67   107767    50.0         426       2082   \n",
            "\n",
            "      username         location birth_date  ...  \\\n",
            "0     karthiga  Chennai, India    29-04-90  ...   \n",
            "472   karthiga  Chennai, India    29-04-90  ...   \n",
            "861   karthiga  Chennai, India    29-04-90  ...   \n",
            "1009  karthiga  Chennai, India    29-04-90  ...   \n",
            "1195  karthiga  Chennai, India    29-04-90  ...   \n",
            "\n",
            "      genre_Supernatural, Drama, School  \\\n",
            "0                                   0.0   \n",
            "472                                 0.0   \n",
            "861                                 0.0   \n",
            "1009                                0.0   \n",
            "1195                                0.0   \n",
            "\n",
            "      genre_Supernatural, Drama, Vampire, Shounen Ai  \\\n",
            "0                                                0.0   \n",
            "472                                              0.0   \n",
            "861                                              0.0   \n",
            "1009                                             0.0   \n",
            "1195                                             0.0   \n",
            "\n",
            "      genre_Supernatural, Fantasy  genre_Supernatural, Magic  \\\n",
            "0                             0.0                        0.0   \n",
            "472                           0.0                        0.0   \n",
            "861                           0.0                        0.0   \n",
            "1009                          0.0                        0.0   \n",
            "1195                          0.0                        0.0   \n",
            "\n",
            "      genre_Supernatural, Shounen  genre_Supernatural, Slice of Life  \\\n",
            "0                             0.0                                0.0   \n",
            "472                           0.0                                0.0   \n",
            "861                           0.0                                0.0   \n",
            "1009                          0.0                                0.0   \n",
            "1195                          0.0                                0.0   \n",
            "\n",
            "      genre_Thriller, Mystery, Sci-Fi  genre_Thriller, Sci-Fi  type_encoded  \\\n",
            "0                                 0.0                     0.0             5   \n",
            "472                               0.0                     0.0             5   \n",
            "861                               0.0                     0.0             5   \n",
            "1009                              0.0                     0.0             5   \n",
            "1195                              0.0                     0.0             5   \n",
            "\n",
            "      source_encoded  \n",
            "0                  6  \n",
            "472                6  \n",
            "861                6  \n",
            "1009               9  \n",
            "1195               6  \n",
            "\n",
            "[5 rows x 3075 columns]\n"
          ]
        }
      ],
      "source": [
        "# Elimino filas duplicadas basadas en un subconjunto específico de columnas\n",
        "merged_df = merged_df.drop_duplicates(subset=['anime_id', 'episodes', 'score', 'user_id', 'rank', 'popularity'])"
      ]
    },
    {
      "cell_type": "markdown",
      "metadata": {
        "id": "ujfsV2xmwFc1"
      },
      "source": [
        "\n",
        "Dividir el Conjunto de Datos\n",
        "\n",
        "Antes de entrenar el modelo, divido los datos en un conjunto de entrenamiento y un conjunto de prueba."
      ]
    },
    {
      "cell_type": "code",
      "execution_count": null,
      "metadata": {
        "id": "n6hsXbCLvYxH",
        "colab": {
          "base_uri": "https://localhost:8080/"
        },
        "outputId": "c33767b1-71a3-4de9-fab1-ff6bdb9cc7ab"
      },
      "outputs": [
        {
          "output_type": "stream",
          "name": "stdout",
          "text": [
            "Tamaño del conjunto de entrenamiento: (4600, 3074)\n",
            "Tamaño del conjunto de prueba: (1151, 3074)\n"
          ]
        }
      ],
      "source": [
        "# Defino características (X) y variable objetivo (y)\n",
        "y = merged_df['score']\n",
        "X = merged_df.drop('score', axis=1)\n",
        "\n",
        "# Divido los datos en conjuntos de entrenamiento y prueba\n",
        "X_train, X_test, y_train, y_test = train_test_split(X, y, test_size=0.2, random_state=42)\n",
        "\n",
        "# Opcional: Estratificación\n",
        "# X_train, X_test, y_train, y_test = train_test_split(X, y, test_size=0.2, random_state=42, stratify=y)\n",
        "\n",
        "print(\"Tamaño del conjunto de entrenamiento:\", X_train.shape)\n",
        "print(\"Tamaño del conjunto de prueba:\", X_test.shape)"
      ]
    },
    {
      "cell_type": "markdown",
      "metadata": {
        "id": "57LSrpoZzqjJ"
      },
      "source": [
        "Eliminar Columnas no Numéricas"
      ]
    },
    {
      "cell_type": "code",
      "execution_count": null,
      "metadata": {
        "id": "sbAmCzU4zRzB"
      },
      "outputs": [],
      "source": [
        "X_train = X_train.select_dtypes(include=[np.number])\n",
        "X_test = X_test.select_dtypes(include=[np.number])"
      ]
    },
    {
      "cell_type": "markdown",
      "metadata": {
        "id": "dZTRTXIzzk3s"
      },
      "source": [
        "Imputar Valores Faltantes"
      ]
    },
    {
      "cell_type": "code",
      "execution_count": null,
      "metadata": {
        "id": "X-surgPezlfs"
      },
      "outputs": [],
      "source": [
        "# Imputo valores faltantes con la media\n",
        "imputer = SimpleImputer(missing_values=np.nan, strategy='mean')\n",
        "X_train_imputed = imputer.fit_transform(X_train)\n",
        "X_test_imputed = imputer.transform(X_test)"
      ]
    },
    {
      "cell_type": "markdown",
      "metadata": {
        "id": "QbBCtGujN6U-"
      },
      "source": [
        "Prueba superficial con diferentes algoritmos para comparar"
      ]
    },
    {
      "cell_type": "code",
      "execution_count": null,
      "metadata": {
        "id": "xLYRcT0ZN5GB",
        "colab": {
          "base_uri": "https://localhost:8080/"
        },
        "outputId": "7669680e-0066-4647-e254-3825ecdcda5a"
      },
      "outputs": [
        {
          "output_type": "stream",
          "name": "stdout",
          "text": [
            "LR: -27180560.315171 (47078110.948270)\n",
            "RF: -0.021255 (0.008774)\n",
            "NN: -389.327506 (620.393277)\n",
            "Ridge: -0.070082 (0.013131)\n",
            "KNN: -0.093588 (0.012072)\n",
            "CART: -0.040370 (0.019546)\n",
            "SVM: -0.069189 (0.011889)\n"
          ]
        }
      ],
      "source": [
        "# Lista de modelos de regresión\n",
        "models = []\n",
        "models.append(('LR', LinearRegression()))\n",
        "models.append(('RF', RandomForestRegressor()))\n",
        "models.append(('NN', MLPRegressor(max_iter=500)))\n",
        "models.append(('Ridge', Ridge()))\n",
        "models.append(('KNN', KNeighborsRegressor()))\n",
        "models.append(('CART', DecisionTreeRegressor()))\n",
        "models.append(('SVM', SVR()))\n",
        "\n",
        "# Evaluo los modelos\n",
        "results = []\n",
        "names = []\n",
        "for name, model in models:\n",
        "    kfold = KFold(n_splits=4, random_state=6, shuffle=True)\n",
        "    cv_results = cross_val_score(model, X_train_imputed, y_train, cv=kfold, scoring='neg_mean_squared_error')\n",
        "    results.append(cv_results)\n",
        "    names.append(name)\n",
        "    print('%s: %f (%f)' % (name, cv_results.mean(), cv_results.std()))"
      ]
    },
    {
      "cell_type": "markdown",
      "metadata": {
        "id": "GiYIbXuRiSaM"
      },
      "source": [
        "## ii) Ajuste de Hiperparámetros"
      ]
    },
    {
      "cell_type": "markdown",
      "metadata": {
        "id": "cDlxghtsibbQ"
      },
      "source": [
        "Ajuste de Hiperparámetros para Random Forest"
      ]
    },
    {
      "cell_type": "code",
      "execution_count": null,
      "metadata": {
        "id": "cOhKq00kiS6H",
        "colab": {
          "base_uri": "https://localhost:8080/"
        },
        "outputId": "aaa62270-aae1-43aa-a865-4299c19dfd2c"
      },
      "outputs": [
        {
          "output_type": "stream",
          "name": "stdout",
          "text": [
            "Fitting 4 folds for each of 36 candidates, totalling 144 fits\n",
            "Mejores Hiperparámetros: {'max_depth': 20, 'min_samples_split': 2, 'n_estimators': 50}\n"
          ]
        }
      ],
      "source": [
        "# Defino el modelo\n",
        "model = RandomForestRegressor()\n",
        "\n",
        "# Defino la grilla de hiperparámetros a probar\n",
        "param_grid = {\n",
        "    'n_estimators': [50, 100, 200],\n",
        "    'max_depth': [None, 10, 20, 30],\n",
        "    'min_samples_split': [2, 5, 10]\n",
        "}\n",
        "\n",
        "# Defino el objeto de GridSearchCV\n",
        "grid_search = GridSearchCV(estimator=model, param_grid=param_grid,\n",
        "                           cv=4, n_jobs=-1, scoring='neg_mean_squared_error', verbose=2)\n",
        "\n",
        "# Realizo la búsqueda\n",
        "grid_search.fit(X_train_imputed, y_train)\n",
        "\n",
        "# Mejores parámetros encontrados\n",
        "print(\"Mejores Hiperparámetros:\", grid_search.best_params_)\n",
        "\n",
        "# Mejor modelo encontrado\n",
        "best_model = grid_search.best_estimator_"
      ]
    },
    {
      "cell_type": "markdown",
      "metadata": {
        "id": "OBWvTJzVqamZ"
      },
      "source": [
        "Estos valores sugieren que el modelo puede beneficiarse de árboles relativamente profundos, un tamaño moderado de muestras para dividir los nodos y un número menor de árboles en el ensamble."
      ]
    },
    {
      "cell_type": "markdown",
      "metadata": {
        "id": "NWBkuNvAqfyq"
      },
      "source": [
        "## iii) Evaluación del modelo"
      ]
    },
    {
      "cell_type": "code",
      "execution_count": null,
      "metadata": {
        "id": "MxjVlaiLqfId",
        "colab": {
          "base_uri": "https://localhost:8080/"
        },
        "outputId": "a6a06679-5b3d-481c-9a60-edb52405838b"
      },
      "outputs": [
        {
          "output_type": "stream",
          "name": "stdout",
          "text": [
            "Error Cuadrático Medio (MSE) en el conjunto de prueba: 0.01523154244948829\n"
          ]
        }
      ],
      "source": [
        "# Uso el mejor modelo para hacer predicciones en el conjunto de prueba\n",
        "best_model = grid_search.best_estimator_\n",
        "predicciones = best_model.predict(X_test_imputed)\n",
        "\n",
        "# Evaluo el rendimiento\n",
        "mse = mean_squared_error(y_test, predicciones)\n",
        "print(f\"Error Cuadrático Medio (MSE) en el conjunto de prueba: {mse}\")"
      ]
    },
    {
      "cell_type": "markdown",
      "metadata": {
        "id": "8jxzagScq59y"
      },
      "source": [
        "Veamos la importancia de las características"
      ]
    },
    {
      "cell_type": "code",
      "execution_count": null,
      "metadata": {
        "id": "lblAHAFoq8fg",
        "colab": {
          "base_uri": "https://localhost:8080/"
        },
        "outputId": "50ebadb4-c7ad-44a0-e982-8a1cd64c0401"
      },
      "outputs": [
        {
          "output_type": "stream",
          "name": "stdout",
          "text": [
            "                                         Caracteristica   Importancia\n",
            "3                                                  rank  9.647813e-01\n",
            "4                                            popularity  5.615393e-03\n",
            "1                                              episodes  5.335389e-03\n",
            "2                                               user_id  3.587017e-03\n",
            "0                                              anime_id  2.773689e-03\n",
            "...                                                 ...           ...\n",
            "236   genre_Action, Adventure, Historical, Drama, Fa... -2.095759e-18\n",
            "2793               genre_Sci-Fi, Drama, Romance, Shoujo -2.267174e-18\n",
            "2361        genre_Harem, Music, Comedy, Romance, Shoujo -2.485574e-18\n",
            "2726             genre_Sci-Fi, Adventure, Comedy, Magic -4.172304e-18\n",
            "2860                             genre_Sci-Fi, Thriller -5.900244e-18\n",
            "\n",
            "[3071 rows x 2 columns]\n"
          ]
        }
      ],
      "source": [
        "# Obtengo las importancias de las características\n",
        "importancias = best_model.feature_importances_\n",
        "\n",
        "# Obtengo los nombres de las características\n",
        "nombres_caracteristicas = X_train.columns\n",
        "\n",
        "# Creo un df para visualizar estas importancias\n",
        "importancias_df = pd.DataFrame({\n",
        "    'Caracteristica': nombres_caracteristicas,\n",
        "    'Importancia': importancias\n",
        "})\n",
        "\n",
        "# Ordeno las características por importancia\n",
        "importancias_df = importancias_df.sort_values(by='Importancia', ascending=False)\n",
        "\n",
        "print(importancias_df)"
      ]
    },
    {
      "cell_type": "markdown",
      "metadata": {
        "id": "3r6E3xqDreRu"
      },
      "source": [
        "Correlación entre RANK y SCORE"
      ]
    },
    {
      "cell_type": "code",
      "execution_count": null,
      "metadata": {
        "id": "xBwSmnYVretU",
        "colab": {
          "base_uri": "https://localhost:8080/"
        },
        "outputId": "9ab4aa63-a3e6-45e6-b6b6-6e8e0d2245a9"
      },
      "outputs": [
        {
          "output_type": "stream",
          "name": "stdout",
          "text": [
            "-0.9525681997176428\n"
          ]
        }
      ],
      "source": [
        "# correlación de Pearson\n",
        "correlacion = merged_df['rank'].corr(merged_df['score'])\n",
        "print(correlacion)"
      ]
    },
    {
      "cell_type": "markdown",
      "metadata": {
        "id": "CS-h2r1Pr6Mh"
      },
      "source": [
        "La correlación indica que a medida que rank aumenta, score tiende a disminuir, y viceversa. Rank es un predictor muy poderoso de score."
      ]
    },
    {
      "cell_type": "markdown",
      "metadata": {
        "id": "5am4xoDbsAKU"
      },
      "source": [
        "Comparación rendimiento en conjuntos de entrenamiento y prueba"
      ]
    },
    {
      "cell_type": "code",
      "execution_count": null,
      "metadata": {
        "id": "_Sp3e3ZOsAR3",
        "colab": {
          "base_uri": "https://localhost:8080/"
        },
        "outputId": "8d253f09-0f8e-4227-bc5a-a41cb904f816"
      },
      "outputs": [
        {
          "output_type": "stream",
          "name": "stdout",
          "text": [
            "MSE en el conjunto de entrenamiento: 0.0028258398355077573\n",
            "MSE en el conjunto de prueba: 0.01572168036474456\n"
          ]
        }
      ],
      "source": [
        "# Rendimiento en el conjunto de entrenamiento\n",
        "predicciones_entrenamiento = best_model.predict(X_train_imputed)\n",
        "mse_entrenamiento = mean_squared_error(y_train, predicciones_entrenamiento)\n",
        "\n",
        "# Rendimiento en el conjunto de prueba (ya calculado anteriormente)\n",
        "mse_prueba = 0.01572168036474456\n",
        "\n",
        "print(f\"MSE en el conjunto de entrenamiento: {mse_entrenamiento}\")\n",
        "print(f\"MSE en el conjunto de prueba: {mse_prueba}\")\n"
      ]
    },
    {
      "cell_type": "markdown",
      "metadata": {
        "id": "TL5MwK2usju_"
      },
      "source": [
        "Learning Curves"
      ]
    },
    {
      "cell_type": "code",
      "execution_count": null,
      "metadata": {
        "id": "YOpNPEL2skFk",
        "colab": {
          "base_uri": "https://localhost:8080/",
          "height": 54
        },
        "outputId": "b3667926-40e2-4ccd-b791-a8b3b0ce19e4"
      },
      "outputs": [
        {
          "output_type": "display_data",
          "data": {
            "text/plain": [
              "<Figure size 640x480 with 1 Axes>"
            ],
            "image/png": "[encoded data removed]"
          },
          "metadata": {}
        }
      ],
      "source": [
        "train_sizes, train_scores, test_scores = learning_curve(\n",
        "    best_model, X_train_imputed, y_train, train_sizes=np.linspace(0.1, 1.0, 5), cv=kfold)\n",
        "\n",
        "# Calculo la media y la desviación estándar del error de entrenamiento y prueba\n",
        "train_mean = np.mean(train_scores, axis=1)\n",
        "train_std = np.std(train_scores, axis=1)\n",
        "test_mean = np.mean(test_scores, axis=1)\n",
        "test_std = np.std(test_scores, axis=1)\n",
        "\n",
        "# Grafico las curvas de aprendizaje\n",
        "plt.fill_between(train_sizes, train_mean - train_std, train_mean + train_std, color=\"lightblue\")\n",
        "plt.fill_between(train_sizes, test_mean - test_std, test_mean + test_std, color=\"lightgreen\")\n",
        "\n",
        "plt.plot(train_sizes, train_mean, 'o-', color=\"blue\", label=\"Entrenamiento\")\n",
        "plt.plot(train_sizes, test_mean, 'o-', color=\"green\", label=\"Prueba\")\n",
        "\n",
        "plt.title(\"Curva de Aprendizaje\")\n",
        "plt.xlabel(\"Tamaño del Conjunto de Entrenamiento\")\n",
        "plt.ylabel(\"Rendimiento (MSE)\")\n",
        "plt.legend(loc=\"best\")\n",
        "plt.show()\n"
      ]
    },
    {
      "cell_type": "markdown",
      "metadata": {
        "id": "yqLKPmdeuaYW"
      },
      "source": [
        "**Sobreajuste**\n",
        "\n",
        "El modelo tiene un rendimiento notablemente mejor en el conjunto de entrenamiento en comparación con el conjunto de prueba. El MSE para el entrenamiento es significativamente más bajo (0.0041) que para la prueba (0.0157), lo que indica que el modelo puede estar sobreajustado a los datos de entrenamiento.\n",
        "\n",
        "**Curva de Aprendizaje**\n",
        "\n",
        "La línea azul (entrenamiento) se mantiene relativamente plana y alta, lo que indica un buen rendimiento a medida que se incrementa el tamaño del conjunto de entrenamiento.\n",
        "\n",
        "La línea verde (prueba) muestra una mejora en el rendimiento a medida que más datos de entrenamiento están disponibles, lo que es una señal positiva.\n",
        "\n",
        "**Brecha entre las Curvas**\n",
        "\n",
        "La brecha constante entre las líneas de entrenamiento y prueba sugiere que agregar más datos de entrenamiento no estaría reduciendo el sobreajuste. Entonces podríamos decir que se necesita de una regularización más fuerte o que el modelo es demasiado complejo para los patrones presentes en los datos."
      ]
    },
    {
      "cell_type": "code",
      "execution_count": null,
      "metadata": {
        "id": "pXoNTS3AVYm8",
        "colab": {
          "base_uri": "https://localhost:8080/"
        },
        "outputId": "594c1907-8804-4fa4-fb48-9c140f4932c5"
      },
      "outputs": [
        {
          "output_type": "stream",
          "name": "stdout",
          "text": [
            "MSE del modelo en el conjunto de prueba: 0.01572168036474456\n",
            "RMSE del modelo en el conjunto de prueba: 0.12538612508864191\n",
            "R2 del modelo en el conjunto de prueba: 0.9780477353864675\n"
          ]
        }
      ],
      "source": [
        "# MSE para el conjunto de prueba\n",
        "mse_prueba_anterior = 0.01572168036474456\n",
        "\n",
        "# Calculo RMSE\n",
        "rmse_prueba_anterior = mse_prueba_anterior ** 0.5\n",
        "\n",
        "# Calculo R2\n",
        "r2_prueba_anterior = r2_score(y_test, predicciones)\n",
        "\n",
        "# imprimo las métricas\n",
        "print(f\"MSE del modelo en el conjunto de prueba: {mse_prueba_anterior}\")\n",
        "print(f\"RMSE del modelo en el conjunto de prueba: {rmse_prueba_anterior}\")\n",
        "print(f\"R2 del modelo en el conjunto de prueba: {r2_prueba_anterior}\")"
      ]
    },
    {
      "cell_type": "markdown",
      "metadata": {
        "id": "H8xRHFGEpN3r"
      },
      "source": [
        "## 11.1 Ingeniería de atributos y selección de variables"
      ]
    },
    {
      "cell_type": "markdown",
      "metadata": {
        "id": "0YJY_YYED54I"
      },
      "source": [
        "### 11.1.1 Interacción Entre Características Categóricas"
      ]
    },
    {
      "cell_type": "markdown",
      "metadata": {
        "id": "J5YY2478KtKr"
      },
      "source": [
        "Vamos a observar la interacción entre diferentes aspectos del anime, como su popularidad y calidad percibida, o la longitud del anime y favoritos"
      ]
    },
    {
      "cell_type": "code",
      "execution_count": null,
      "metadata": {
        "id": "oBvMJOv2onCc"
      },
      "outputs": [],
      "source": [
        "merged_df['rank_popularity_ratio'] = merged_df['rank'] / merged_df['popularity']\n",
        "merged_df['episodes_favorites_product'] = merged_df['episodes'] * merged_df['favorites']"
      ]
    },
    {
      "cell_type": "markdown",
      "metadata": {
        "id": "SayKD3X4KzYK"
      },
      "source": [
        "Análisis de Componentes Principales (PCA)"
      ]
    },
    {
      "cell_type": "markdown",
      "metadata": {
        "id": "bkfYKSTmK1hA"
      },
      "source": [
        "Dada la alta dimensionalidad del conjunto de datos, aplico PCA para reducir la cantidad de características mientras mantengo la mayor cantidad posible de información."
      ]
    },
    {
      "cell_type": "code",
      "execution_count": null,
      "metadata": {
        "id": "D5p18THpD7kY",
        "colab": {
          "base_uri": "https://localhost:8080/"
        },
        "outputId": "e96b33dc-86f9-46bf-80df-12507f38b387"
      },
      "outputs": [
        {
          "output_type": "stream",
          "name": "stdout",
          "text": [
            "Número original de características: 3074\n",
            "Número reducido de características: 1319\n"
          ]
        }
      ],
      "source": [
        "# Creo un imputador que reemplace los valores NaN con la media de cada columna\n",
        "imputer = SimpleImputer(missing_values=np.nan, strategy='mean')\n",
        "\n",
        "# Aplico el imputador a tus características\n",
        "features_imputed = imputer.fit_transform(merged_df.select_dtypes(include=[np.number]))\n",
        "\n",
        "# Aplico el escalado y PCA como antes\n",
        "scaler = StandardScaler()\n",
        "features_scaled = scaler.fit_transform(features_imputed)\n",
        "\n",
        "pca = PCA(n_components=0.95)  # Conservo el 95% de la varianza\n",
        "features_pca = pca.fit_transform(features_scaled)\n",
        "\n",
        "print(f\"Número original de características: {features_imputed.shape[1]}\")\n",
        "print(f\"Número reducido de características: {features_pca.shape[1]}\")"
      ]
    },
    {
      "cell_type": "markdown",
      "metadata": {
        "id": "3MhqIWj2LFrD"
      },
      "source": [
        "Ajusto el PCA para ver si reduzco aun más la dimensionalidad"
      ]
    },
    {
      "cell_type": "code",
      "execution_count": null,
      "metadata": {
        "id": "zoZ6MKeBLFz6",
        "colab": {
          "base_uri": "https://localhost:8080/"
        },
        "outputId": "706b3b8e-3255-40aa-c04a-df97d4ea267e"
      },
      "outputs": [
        {
          "output_type": "stream",
          "name": "stdout",
          "text": [
            "Número reducido de características con 90% de varianza: 1247\n",
            "Número reducido de características con 85% de varianza: 1174\n"
          ]
        }
      ],
      "source": [
        "# PCA con el 90% de varianza conservada\n",
        "pca_90 = PCA(n_components=0.90)\n",
        "features_pca_90 = pca_90.fit_transform(features_scaled)\n",
        "\n",
        "print(f\"Número reducido de características con 90% de varianza: {features_pca_90.shape[1]}\")\n",
        "\n",
        "# PCA con el 85% de varianza conservada\n",
        "pca_85 = PCA(n_components=0.85)\n",
        "features_pca_85 = pca_85.fit_transform(features_scaled)\n",
        "\n",
        "print(f\"Número reducido de características con 85% de varianza: {features_pca_85.shape[1]}\")\n"
      ]
    },
    {
      "cell_type": "markdown",
      "metadata": {
        "id": "BTffLCZwM0wa"
      },
      "source": [
        "Selección de Características Basada en Modelos"
      ]
    },
    {
      "cell_type": "code",
      "execution_count": null,
      "metadata": {
        "id": "I8KucbjnM1bq",
        "colab": {
          "base_uri": "https://localhost:8080/"
        },
        "outputId": "f736af49-8242-42da-b691-739c95a9be63"
      },
      "outputs": [
        {
          "output_type": "stream",
          "name": "stdout",
          "text": [
            "Número de características después de SelectFromModel: 19\n"
          ]
        }
      ],
      "source": [
        "# Entreno modelo Random Forest\n",
        "rf = RandomForestRegressor()\n",
        "rf.fit(features_pca_90, y)\n",
        "\n",
        "# Utilizo SelectFromModel\n",
        "sfm = SelectFromModel(rf, prefit=True)\n",
        "features_selected = sfm.transform(features_pca_90)\n",
        "\n",
        "print(f\"Número de características después de SelectFromModel: {features_selected.shape[1]}\")"
      ]
    },
    {
      "cell_type": "markdown",
      "metadata": {
        "id": "2_Jt48RzM7lY"
      },
      "source": [
        "Ahora evalúo el modelo con la reducción de dimensionalidad"
      ]
    },
    {
      "cell_type": "markdown",
      "metadata": {
        "id": "xsxyiNvJNQai"
      },
      "source": [
        "División de Datos"
      ]
    },
    {
      "cell_type": "code",
      "execution_count": null,
      "metadata": {
        "id": "F6p2uvJjM7tW"
      },
      "outputs": [],
      "source": [
        "X_train, X_test, y_train, y_test = train_test_split(features_selected, y, test_size=0.2, random_state=42)"
      ]
    },
    {
      "cell_type": "markdown",
      "metadata": {
        "id": "tmvcCBU1NV8I"
      },
      "source": [
        "\n",
        "Entrenamiento del Modelo"
      ]
    },
    {
      "cell_type": "code",
      "execution_count": null,
      "metadata": {
        "id": "I291vXd6NWE3",
        "colab": {
          "base_uri": "https://localhost:8080/",
          "height": 95
        },
        "outputId": "40a70b84-94ed-4128-9976-c51a6dbc1fe3"
      },
      "outputs": [
        {
          "output_type": "execute_result",
          "data": {
            "text/plain": [
              "RandomForestRegressor()"
            ],
            "text/html": [
              "<style>#sk-container-id-1 {color: black;background-color: white;}#sk-container-id-1 pre{padding: 0;}#sk-container-id-1 div.sk-toggleable {background-color: white;}#sk-container-id-1 label.sk-toggleable__label {cursor: pointer;display: block;width: 100%;margin-bottom: 0;padding: 0.3em;box-sizing: border-box;text-align: center;}#sk-container-id-1 label.sk-toggleable__label-arrow:before {content: \"▸\";float: left;margin-right: 0.25em;color: #696969;}#sk-container-id-1 label.sk-toggleable__label-arrow:hover:before {color: black;}#sk-container-id-1 div.sk-estimator:hover label.sk-toggleable__label-arrow:before {color: black;}#sk-container-id-1 div.sk-toggleable__content {max-height: 0;max-width: 0;overflow: hidden;text-align: left;background-color: #f0f8ff;}#sk-container-id-1 div.sk-toggleable__content pre {margin: 0.2em;color: black;border-radius: 0.25em;background-color: #f0f8ff;}#sk-container-id-1 input.sk-toggleable__control:checked~div.sk-toggleable__content {max-height: 200px;max-width: 100%;overflow: auto;}#sk-container-id-1 input.sk-toggleable__control:checked~label.sk-toggleable__label-arrow:before {content: \"▾\";}#sk-container-id-1 div.sk-estimator input.sk-toggleable__control:checked~label.sk-toggleable__label {background-color: #d4ebff;}#sk-container-id-1 div.sk-label input.sk-toggleable__control:checked~label.sk-toggleable__label {background-color: #d4ebff;}#sk-container-id-1 input.sk-hidden--visually {border: 0;clip: rect(1px 1px 1px 1px);clip: rect(1px, 1px, 1px, 1px);height: 1px;margin: -1px;overflow: hidden;padding: 0;position: absolute;width: 1px;}#sk-container-id-1 div.sk-estimator {font-family: monospace;background-color: #f0f8ff;border: 1px dotted black;border-radius: 0.25em;box-sizing: border-box;margin-bottom: 0.5em;}#sk-container-id-1 div.sk-estimator:hover {background-color: #d4ebff;}#sk-container-id-1 div.sk-parallel-item::after {content: \"\";width: 100%;border-bottom: 1px solid gray;flex-grow: 1;}#sk-container-id-1 div.sk-label:hover label.sk-toggleable__label {background-color: #d4ebff;}#sk-container-id-1 div.sk-serial::before {content: \"\";position: absolute;border-left: 1px solid gray;box-sizing: border-box;top: 0;bottom: 0;left: 50%;z-index: 0;}#sk-container-id-1 div.sk-serial {display: flex;flex-direction: column;align-items: center;background-color: white;padding-right: 0.2em;padding-left: 0.2em;position: relative;}#sk-container-id-1 div.sk-item {position: relative;z-index: 1;}#sk-container-id-1 div.sk-parallel {display: flex;align-items: stretch;justify-content: center;background-color: white;position: relative;}#sk-container-id-1 div.sk-item::before, #sk-container-id-1 div.sk-parallel-item::before {content: \"\";position: absolute;border-left: 1px solid gray;box-sizing: border-box;top: 0;bottom: 0;left: 50%;z-index: -1;}#sk-container-id-1 div.sk-parallel-item {display: flex;flex-direction: column;z-index: 1;position: relative;background-color: white;}#sk-container-id-1 div.sk-parallel-item:first-child::after {align-self: flex-end;width: 50%;}#sk-container-id-1 div.sk-parallel-item:last-child::after {align-self: flex-start;width: 50%;}#sk-container-id-1 div.sk-parallel-item:only-child::after {width: 0;}#sk-container-id-1 div.sk-dashed-wrapped {border: 1px dashed gray;margin: 0 0.4em 0.5em 0.4em;box-sizing: border-box;padding-bottom: 0.4em;background-color: white;}#sk-container-id-1 div.sk-label label {font-family: monospace;font-weight: bold;display: inline-block;line-height: 1.2em;}#sk-container-id-1 div.sk-label-container {text-align: center;}#sk-container-id-1 div.sk-container {/* jupyter's `normalize.less` sets `[hidden] { display: none; }` but bootstrap.min.css set `[hidden] { display: none !important; }` so we also need the `!important` here to be able to override the default hidden behavior on the sphinx rendered scikit-learn.org. See: https://github.com/scikit-learn/scikit-learn/issues/21755 */display: inline-block !important;position: relative;}#sk-container-id-1 div.sk-text-repr-fallback {display: none;}</style><div id=\"sk-container-id-1\" class=\"sk-top-container\"><div class=\"sk-text-repr-fallback\"><pre>RandomForestRegressor()</pre><b>In a Jupyter environment, please rerun this cell to show the HTML representation or trust the notebook. <br />On GitHub, the HTML representation is unable to render, please try loading this page with nbviewer.org.</b></div><div class=\"sk-container\" hidden><div class=\"sk-item\"><div class=\"sk-estimator sk-toggleable\"><input class=\"sk-toggleable__control sk-hidden--visually\" id=\"sk-estimator-id-1\" type=\"checkbox\" checked><label for=\"sk-estimator-id-1\" class=\"sk-toggleable__label sk-toggleable__label-arrow\">RandomForestRegressor</label><div class=\"sk-toggleable__content\"><pre>RandomForestRegressor()</pre></div></div></div></div></div>"
            ]
          },
          "metadata": {},
          "execution_count": 83
        }
      ],
      "source": [
        "model = RandomForestRegressor()\n",
        "model.fit(X_train, y_train)"
      ]
    },
    {
      "cell_type": "markdown",
      "metadata": {
        "id": "unZflHsMNbC5"
      },
      "source": [
        "Evaluación del Modelo"
      ]
    },
    {
      "cell_type": "code",
      "execution_count": null,
      "metadata": {
        "id": "p0h3L1T1Ngsx",
        "colab": {
          "base_uri": "https://localhost:8080/"
        },
        "outputId": "aab638d1-98ce-4eed-d92f-5bd5b473c89b"
      },
      "outputs": [
        {
          "output_type": "stream",
          "name": "stdout",
          "text": [
            "MSE: 0.07884753046915727\n",
            "RMSE: 0.2807980243327172\n",
            "R2: 0.8863620110226816\n"
          ]
        }
      ],
      "source": [
        "# Predicciones en el conjunto de prueba\n",
        "y_pred = model.predict(X_test)\n",
        "\n",
        "# Calculo las métricas\n",
        "mse = mean_squared_error(y_test, y_pred)\n",
        "rmse = mse ** 0.5\n",
        "r2 = r2_score(y_test, y_pred)\n",
        "\n",
        "print(f\"MSE: {mse}\")\n",
        "print(f\"RMSE: {rmse}\")\n",
        "print(f\"R2: {r2}\")\n"
      ]
    },
    {
      "cell_type": "markdown",
      "metadata": {
        "id": "E-qNCEB3P52g"
      },
      "source": [
        "  Los valores de MSE y RMSE son bajos, lo que nos dice que el modelo se ajusta bien y no está cometiendo errores demasiado grandes en promedio.\n",
        "\n",
        "  El R2 de más del 88% es un resultado fuerte, teniendo en cuenta que en el contexto de datos del mundo real es raro explicar toda la variabilidad."
      ]
    },
    {
      "cell_type": "markdown",
      "metadata": {
        "id": "bC0Hq1CPTxGc"
      },
      "source": [
        "**Comparemos con el modelo previo**"
      ]
    },
    {
      "cell_type": "markdown",
      "metadata": {
        "id": "rs9cVau3fcLy"
      },
      "source": [
        "**Metricas modelo previo:**\n",
        "\n",
        "MSE del modelo en el conjunto de prueba: 0.01572168036474456\n",
        "\n",
        "RMSE del modelo en el conjunto de prueba: 0.12538612508864191\n",
        "\n",
        "R2 del modelo en el conjunto de prueba: 0.9759738472945266\n",
        "\n",
        "**Metricas modelo nuevo:**\n",
        "\n",
        "MSE: 0.08005575649000865\n",
        "\n",
        "RMSE: 0.2829412597872722\n",
        "\n",
        "R2: 0.8846206708130053\n",
        "\n",
        "\n",
        "**La comparativa muestra que el modelo previo tenía un rendimiento superior en el conjunto de prueba en comparación con el modelo nuevo:**\n",
        "\n",
        "El MSE es significativamente más bajo en el modelo previo (0.0157 vs. 0.0800), indicando que, en promedio, las predicciones del modelo previo estaban más cerca de los valores reales.\n",
        "\n",
        "El RMSE, que es la raíz cuadrada del MSE y proporciona una medida de error en las mismas unidades que la variable objetivo, también es más bajo en el modelo previo (0.1254 vs. 0.2829).\n",
        "\n",
        "El R2, que indica la proporción de la varianza de la variable dependiente que es predecible a partir de las variables independientes, es más alto en el modelo previo (0.9759 vs. 0.8846). Un R² de 0.9759 implica que el modelo previo explica aproximadamente el 97.59% de la variabilidad de los datos, lo que es excepcionalmente alto.\n",
        "\n",
        "Puedo concluir que aunque las métricas muestran un rendimiento inferior del modelo nuevo, debría considerar la posibilidad de sobreajuste en el modelo anterior y la capacidad de generalización del modelo nuevo antes de llegar a conclusiones definitivas."
      ]
    },
    {
      "cell_type": "markdown",
      "metadata": {
        "id": "E-JPqbeYNkPc"
      },
      "source": [
        "### 11.1.2 Validación cruzada"
      ]
    },
    {
      "cell_type": "code",
      "execution_count": null,
      "metadata": {
        "id": "woRpEfa-mzAj"
      },
      "outputs": [],
      "source": [
        "# tomo 'merged_df' que es el DataFrame original con todas las características antes de cualquier preprocesamiento\n",
        "\n",
        "# Elimino duplicados\n",
        "merged_df = merged_df.drop_duplicates(subset=['anime_id', 'episodes', 'score', 'user_id', 'rank', 'popularity'])\n",
        "\n",
        "# Selecciono solo columnas numéricas, excluyendo identificadores y otras columnas no utilizadas para el modelo\n",
        "X = merged_df.select_dtypes(include=[np.number]).drop(columns=['anime_id', 'user_id'])\n",
        "\n",
        "X = X.drop(columns=['score'])\n",
        "\n",
        "# imputación\n",
        "imputer = SimpleImputer(missing_values=np.nan, strategy='mean')\n",
        "X_imputed = imputer.fit_transform(X)"
      ]
    },
    {
      "cell_type": "code",
      "execution_count": null,
      "metadata": {
        "colab": {
          "background_save": true
        },
        "id": "e4OqnjMENjPt"
      },
      "outputs": [],
      "source": [
        "# Preparación de los datos completos para la validación cruzada\n",
        "\n",
        "# Imputo valores faltantes\n",
        "imputer = SimpleImputer(missing_values=np.nan, strategy='mean')\n",
        "X_imputed = imputer.fit_transform(X)\n",
        "\n",
        "# Estandarizo las características\n",
        "scaler = StandardScaler()\n",
        "X_scaled = scaler.fit_transform(X_imputed)\n",
        "\n",
        "# Aplico PCA\n",
        "pca = PCA(n_components=0.90)\n",
        "X_pca = pca.fit_transform(X_scaled)\n",
        "\n",
        "# Defino el modelo\n",
        "model = RandomForestRegressor(n_estimators=100, random_state=42)\n",
        "\n",
        "# Configuro la validación cruzada\n",
        "kf = KFold(n_splits=10, shuffle=True, random_state=42)\n",
        "\n",
        "# Realizo la validación cruzada\n",
        "mse_scores = cross_val_score(model, X_pca, y, scoring='neg_mean_squared_error', cv=kf)\n",
        "rmse_scores = cross_val_score(model, X_pca, y, scoring='neg_root_mean_squared_error', cv=kf)\n",
        "r2_scores = cross_val_score(model, X_pca, y, scoring='r2', cv=kf)\n",
        "\n",
        "# Calculo las métricas promedio y sus desviaciones estándar\n",
        "mean_mse = -1 * mse_scores.mean()\n",
        "std_mse = mse_scores.std()\n",
        "\n",
        "mean_rmse = -1 * rmse_scores.mean()\n",
        "std_rmse = rmse_scores.std()\n",
        "\n",
        "mean_r2 = r2_scores.mean()\n",
        "std_r2 = r2_scores.std()\n",
        "\n",
        "# Imprimo los resultados\n",
        "print(f\"Validación Cruzada - MSE: {mean_mse} (±{std_mse})\")\n",
        "print(f\"Validación Cruzada - RMSE: {mean_rmse} (±{std_rmse})\")\n",
        "print(f\"Validación Cruzada - R²: {mean_r2} (±{std_r2})\")\n"
      ]
    },
    {
      "cell_type": "markdown",
      "metadata": {
        "id": "7HX7xUY3cMmx"
      },
      "source": [
        "Los resultados de la validacion cruzada dicen que el modelo primero puede haber estado sobreajustado, ya que presentó una alta performance en un solo set se prueba.\n",
        "\n",
        "El segundo modelo procesado, y su validación cruzada nos devuelve una performance más modesta, que puede tener una representación más realista de como el modelo podría comportarse con datos nuevos, no observados."
      ]
    },
    {
      "cell_type": "markdown",
      "metadata": {
        "id": "ZSlCge4Es62r"
      },
      "source": [
        "\n",
        "\n",
        "---\n",
        "\n"
      ]
    },
    {
      "cell_type": "markdown",
      "metadata": {
        "id": "7qEY7MTUu_Op"
      },
      "source": [
        "## 11.2 CrossValidation y mejora de modelos de ML"
      ]
    },
    {
      "cell_type": "markdown",
      "metadata": {
        "id": "mp7u0f5-r59m"
      },
      "source": [
        "### 11.2.1 Aplicación de otras técnicas de Validación Cruzada"
      ]
    },
    {
      "cell_type": "markdown",
      "metadata": {
        "id": "4wC6hWibsA3j"
      },
      "source": [
        "Mean Absolute Error (MAE): evaluamos que tan cerca están las predicciones de los resultados reales, tomando el promedio de las diferencias absolutas entre los valores predichos y reales. Es menos sensible a los valores atípicos que el MSE."
      ]
    },
    {
      "cell_type": "code",
      "execution_count": null,
      "metadata": {
        "colab": {
          "background_save": true
        },
        "id": "MKpGAd-GsHfF"
      },
      "outputs": [],
      "source": [
        "mae_scores = cross_val_score(model, X_pca, y, scoring='neg_mean_absolute_error', cv=kf)\n",
        "mean_mae = -1 * mae_scores.mean()\n",
        "std_mae = mae_scores.std()"
      ]
    },
    {
      "cell_type": "code",
      "execution_count": null,
      "metadata": {
        "colab": {
          "background_save": true
        },
        "id": "olxRoZJ70LVJ"
      },
      "outputs": [],
      "source": [
        "print(std_mae)"
      ]
    },
    {
      "cell_type": "markdown",
      "metadata": {
        "id": "umBTdO3AsKzZ"
      },
      "source": [
        "Explained Variance Score: medimos la proporción de la varianza de la variable dependiente que es predecible a partir de las variables independientes.Tiene en cuenta la media de los datos."
      ]
    },
    {
      "cell_type": "code",
      "execution_count": null,
      "metadata": {
        "colab": {
          "background_save": true
        },
        "id": "P8WNN_0EsK-E"
      },
      "outputs": [],
      "source": [
        "explained_variance_scores = cross_val_score(model, X_pca, y, scoring='explained_variance', cv=kf)\n",
        "mean_explained_variance = explained_variance_scores.mean()\n",
        "std_explained_variance = explained_variance_scores.std()"
      ]
    },
    {
      "cell_type": "code",
      "execution_count": null,
      "metadata": {
        "colab": {
          "background_save": true
        },
        "id": "O5Y2M9a60PGP"
      },
      "outputs": [],
      "source": [
        "print(std_explained_variance)"
      ]
    },
    {
      "cell_type": "markdown",
      "metadata": {
        "id": "pQN8-yl-srzk"
      },
      "source": [
        "Median Absolute Error: Similar al MAE pero usa la mediana de los errores absolutos, lo que lo hace aún más robusto contra los valores atípicos."
      ]
    },
    {
      "cell_type": "code",
      "execution_count": null,
      "metadata": {
        "colab": {
          "background_save": true
        },
        "id": "1sPI_ahtsr_T"
      },
      "outputs": [],
      "source": [
        "median_absolute_error_scores = cross_val_score(model, X_pca, y, scoring='neg_median_absolute_error', cv=kf)\n",
        "mean_median_absolute_error = -1 * median_absolute_error_scores.mean()\n",
        "std_median_absolute_error = median_absolute_error_scores.std()"
      ]
    },
    {
      "cell_type": "code",
      "execution_count": null,
      "metadata": {
        "colab": {
          "background_save": true
        },
        "id": "wq8fZ-y20WOU"
      },
      "outputs": [],
      "source": [
        "print(std_median_absolute_error)"
      ]
    },
    {
      "cell_type": "markdown",
      "metadata": {
        "id": "X_z5NPrq57UF"
      },
      "source": [
        "Estos nuevos métodos de validación cruzada aplicados, explican que hay una variación con el rendimiento entre los diferentes conjuntos de los datos. Esto, si tenemos en cuenta que la consistencia de un modelo está reflejada en una desviación estandar baja en las métricas de rendimiento a través de los pliegues de la validación cruzada.\n",
        "\n",
        "\n",
        "Si comparo con los resultados anteriores del primer modelo (MSE de 0.0157 en el conjunto de prueba y un R² de 0.9759), los resultados del modelo nuevo indican un rendimiento inferior en ajuste y predicción. Pero la validación cruzada da una visión más fiable del rendimiento esperado del modelo en datos no vistos, ya que el rendimiento del modelo anterior podría haber estado inflado debido al sobreajuste."
      ]
    },
    {
      "cell_type": "markdown",
      "metadata": {
        "id": "156kupLzSa4V"
      },
      "source": [
        "\n",
        "\n",
        "---\n",
        "\n"
      ]
    },
    {
      "cell_type": "code",
      "execution_count": null,
      "metadata": {
        "id": "n1OsCUmLSbtN"
      },
      "outputs": [],
      "source": []
    }
  ],
  "metadata": {
    "colab": {
      "collapsed_sections": [
        "Ok94_cwKDI_k",
        "b-kxH6CzKfly",
        "xv5IYEyhLodu",
        "Vgx-WI6RRT3S",
        "3cQwNEFacULg",
        "q1v9XSKZ6rYw",
        "To6y-dKF6y9m",
        "PFKctU2_67RZ"
      ],
      "machine_shape": "hm",
      "provenance": []
    },
    "kernelspec": {
      "display_name": "Python 3",
      "name": "python3"
    },
    "language_info": {
      "name": "python"
    }
  },
  "nbformat": 4,
  "nbformat_minor": 0
}